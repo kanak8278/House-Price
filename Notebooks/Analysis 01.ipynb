{
 "cells": [
  {
   "cell_type": "markdown",
   "id": "saved-klein",
   "metadata": {},
   "source": [
    "<img src=\"../img1.png\">"
   ]
  },
  {
   "cell_type": "code",
   "execution_count": 2,
   "id": "adapted-piece",
   "metadata": {},
   "outputs": [],
   "source": [
    "import pandas as pd\n",
    "import numpy as np\n",
    "import matplotlib.pyplot as plt\n",
    "import seaborn as sns\n",
    "import plotly.express as px\n",
    "%matplotlib inline"
   ]
  },
  {
   "cell_type": "code",
   "execution_count": 3,
   "id": "after-saver",
   "metadata": {},
   "outputs": [],
   "source": [
    "priceIndex_df = pd.read_csv(\"../Dataset/cshpi_processed\", parse_dates=[0])"
   ]
  },
  {
   "cell_type": "code",
   "execution_count": 6,
   "id": "standard-typing",
   "metadata": {},
   "outputs": [
    {
     "name": "stdout",
     "output_type": "stream",
     "text": [
      "<class 'pandas.core.frame.DataFrame'>\n",
      "RangeIndex: 252 entries, 0 to 251\n",
      "Data columns (total 6 columns):\n",
      " #   Column                          Non-Null Count  Dtype         \n",
      "---  ------                          --------------  -----         \n",
      " 0   observation_date                252 non-null    datetime64[ns]\n",
      " 1   CSUSHPISA                       252 non-null    float64       \n",
      " 2   Change from Last Month          252 non-null    float64       \n",
      " 3   Percent Change from Last Month  252 non-null    float64       \n",
      " 4   Change From Year Ago            240 non-null    float64       \n",
      " 5   Percent Change From Year Ago    240 non-null    float64       \n",
      "dtypes: datetime64[ns](1), float64(5)\n",
      "memory usage: 11.9 KB\n"
     ]
    }
   ],
   "source": [
    "priceIndex_df.info()"
   ]
  },
  {
   "cell_type": "code",
   "execution_count": 4,
   "id": "broad-mobile",
   "metadata": {},
   "outputs": [
    {
     "data": {
      "text/html": [
       "<div>\n",
       "<style scoped>\n",
       "    .dataframe tbody tr th:only-of-type {\n",
       "        vertical-align: middle;\n",
       "    }\n",
       "\n",
       "    .dataframe tbody tr th {\n",
       "        vertical-align: top;\n",
       "    }\n",
       "\n",
       "    .dataframe thead th {\n",
       "        text-align: right;\n",
       "    }\n",
       "</style>\n",
       "<table border=\"1\" class=\"dataframe\">\n",
       "  <thead>\n",
       "    <tr style=\"text-align: right;\">\n",
       "      <th></th>\n",
       "      <th>observation_date</th>\n",
       "      <th>CSUSHPISA</th>\n",
       "      <th>Change from Last Month</th>\n",
       "      <th>Percent Change from Last Month</th>\n",
       "      <th>Change From Year Ago</th>\n",
       "      <th>Percent Change From Year Ago</th>\n",
       "    </tr>\n",
       "  </thead>\n",
       "  <tbody>\n",
       "    <tr>\n",
       "      <th>0</th>\n",
       "      <td>2000-01-01</td>\n",
       "      <td>100.552</td>\n",
       "      <td>0.000</td>\n",
       "      <td>0.000000</td>\n",
       "      <td>NaN</td>\n",
       "      <td>NaN</td>\n",
       "    </tr>\n",
       "    <tr>\n",
       "      <th>1</th>\n",
       "      <td>2000-02-01</td>\n",
       "      <td>101.339</td>\n",
       "      <td>0.787</td>\n",
       "      <td>0.782680</td>\n",
       "      <td>NaN</td>\n",
       "      <td>NaN</td>\n",
       "    </tr>\n",
       "    <tr>\n",
       "      <th>2</th>\n",
       "      <td>2000-03-01</td>\n",
       "      <td>102.127</td>\n",
       "      <td>0.788</td>\n",
       "      <td>0.777588</td>\n",
       "      <td>NaN</td>\n",
       "      <td>NaN</td>\n",
       "    </tr>\n",
       "    <tr>\n",
       "      <th>3</th>\n",
       "      <td>2000-04-01</td>\n",
       "      <td>102.922</td>\n",
       "      <td>0.795</td>\n",
       "      <td>0.778443</td>\n",
       "      <td>NaN</td>\n",
       "      <td>NaN</td>\n",
       "    </tr>\n",
       "    <tr>\n",
       "      <th>4</th>\n",
       "      <td>2000-05-01</td>\n",
       "      <td>103.677</td>\n",
       "      <td>0.755</td>\n",
       "      <td>0.733565</td>\n",
       "      <td>NaN</td>\n",
       "      <td>NaN</td>\n",
       "    </tr>\n",
       "  </tbody>\n",
       "</table>\n",
       "</div>"
      ],
      "text/plain": [
       "  observation_date  CSUSHPISA  Change from Last Month  \\\n",
       "0       2000-01-01    100.552                   0.000   \n",
       "1       2000-02-01    101.339                   0.787   \n",
       "2       2000-03-01    102.127                   0.788   \n",
       "3       2000-04-01    102.922                   0.795   \n",
       "4       2000-05-01    103.677                   0.755   \n",
       "\n",
       "   Percent Change from Last Month  Change From Year Ago  \\\n",
       "0                        0.000000                   NaN   \n",
       "1                        0.782680                   NaN   \n",
       "2                        0.777588                   NaN   \n",
       "3                        0.778443                   NaN   \n",
       "4                        0.733565                   NaN   \n",
       "\n",
       "   Percent Change From Year Ago  \n",
       "0                           NaN  \n",
       "1                           NaN  \n",
       "2                           NaN  \n",
       "3                           NaN  \n",
       "4                           NaN  "
      ]
     },
     "execution_count": 4,
     "metadata": {},
     "output_type": "execute_result"
    }
   ],
   "source": [
    "priceIndex_df.head()"
   ]
  },
  {
   "cell_type": "markdown",
   "id": "rough-inside",
   "metadata": {},
   "source": [
    "Observations are from 2000-01-01 upto 2020-12-01 "
   ]
  },
  {
   "cell_type": "code",
   "execution_count": 7,
   "id": "grateful-prime",
   "metadata": {},
   "outputs": [
    {
     "name": "stdout",
     "output_type": "stream",
     "text": [
      "2000-01-01 00:00:00\n",
      "2020-12-01 00:00:00\n"
     ]
    }
   ],
   "source": [
    "print(priceIndex_df[\"observation_date\"].min())\n",
    "print(priceIndex_df[\"observation_date\"].max())"
   ]
  },
  {
   "cell_type": "markdown",
   "id": "transparent-shoot",
   "metadata": {},
   "source": [
    "**CSUSHPISA**: Case-Shiller U.S. National Home Price Index Seasonally Adjusted\n",
    "\n",
    "**Units**: Index Jan 2000=100, Seasonally Adjusted, Monthly"
   ]
  },
  {
   "cell_type": "markdown",
   "id": "vital-protein",
   "metadata": {},
   "source": [
    "All other columns are with refrenced with Jan 2000 accordingly."
   ]
  },
  {
   "cell_type": "code",
   "execution_count": 8,
   "id": "fatty-victor",
   "metadata": {},
   "outputs": [
    {
     "data": {
      "text/plain": [
       "(252, 6)"
      ]
     },
     "execution_count": 8,
     "metadata": {},
     "output_type": "execute_result"
    }
   ],
   "source": [
    "priceIndex_df.shape"
   ]
  },
  {
   "cell_type": "markdown",
   "id": "married-embassy",
   "metadata": {},
   "source": [
    "So there are 5 observation columns every month."
   ]
  },
  {
   "cell_type": "code",
   "execution_count": 9,
   "id": "universal-bookmark",
   "metadata": {},
   "outputs": [
    {
     "data": {
      "text/plain": [
       "Index(['observation_date', 'CSUSHPISA', 'Change from Last Month',\n",
       "       'Percent Change from Last Month', 'Change From Year Ago',\n",
       "       'Percent Change From Year Ago'],\n",
       "      dtype='object')"
      ]
     },
     "execution_count": 9,
     "metadata": {},
     "output_type": "execute_result"
    }
   ],
   "source": [
    "priceIndex_df.columns"
   ]
  },
  {
   "cell_type": "code",
   "execution_count": 10,
   "id": "confirmed-andorra",
   "metadata": {},
   "outputs": [
    {
     "data": {
      "text/html": [
       "<div>\n",
       "<style scoped>\n",
       "    .dataframe tbody tr th:only-of-type {\n",
       "        vertical-align: middle;\n",
       "    }\n",
       "\n",
       "    .dataframe tbody tr th {\n",
       "        vertical-align: top;\n",
       "    }\n",
       "\n",
       "    .dataframe thead th {\n",
       "        text-align: right;\n",
       "    }\n",
       "</style>\n",
       "<table border=\"1\" class=\"dataframe\">\n",
       "  <thead>\n",
       "    <tr style=\"text-align: right;\">\n",
       "      <th></th>\n",
       "      <th>CSUSHPISA</th>\n",
       "      <th>Change from Last Month</th>\n",
       "      <th>Percent Change from Last Month</th>\n",
       "      <th>Change From Year Ago</th>\n",
       "      <th>Percent Change From Year Ago</th>\n",
       "    </tr>\n",
       "  </thead>\n",
       "  <tbody>\n",
       "    <tr>\n",
       "      <th>count</th>\n",
       "      <td>252.000000</td>\n",
       "      <td>252.000000</td>\n",
       "      <td>252.000000</td>\n",
       "      <td>240.000000</td>\n",
       "      <td>240.000000</td>\n",
       "    </tr>\n",
       "    <tr>\n",
       "      <th>mean</th>\n",
       "      <td>161.673373</td>\n",
       "      <td>0.536012</td>\n",
       "      <td>0.340273</td>\n",
       "      <td>5.870075</td>\n",
       "      <td>0.040373</td>\n",
       "    </tr>\n",
       "    <tr>\n",
       "      <th>std</th>\n",
       "      <td>30.672318</td>\n",
       "      <td>0.975878</td>\n",
       "      <td>0.597031</td>\n",
       "      <td>10.082284</td>\n",
       "      <td>0.064864</td>\n",
       "    </tr>\n",
       "    <tr>\n",
       "      <th>min</th>\n",
       "      <td>100.552000</td>\n",
       "      <td>-2.524000</td>\n",
       "      <td>-1.616498</td>\n",
       "      <td>-21.629000</td>\n",
       "      <td>-0.125808</td>\n",
       "    </tr>\n",
       "    <tr>\n",
       "      <th>25%</th>\n",
       "      <td>140.312000</td>\n",
       "      <td>0.213250</td>\n",
       "      <td>0.109012</td>\n",
       "      <td>-0.966000</td>\n",
       "      <td>-0.006360</td>\n",
       "    </tr>\n",
       "    <tr>\n",
       "      <th>50%</th>\n",
       "      <td>161.977500</td>\n",
       "      <td>0.696000</td>\n",
       "      <td>0.443807</td>\n",
       "      <td>8.511500</td>\n",
       "      <td>0.051271</td>\n",
       "    </tr>\n",
       "    <tr>\n",
       "      <th>75%</th>\n",
       "      <td>183.024000</td>\n",
       "      <td>1.000250</td>\n",
       "      <td>0.718853</td>\n",
       "      <td>11.471000</td>\n",
       "      <td>0.087476</td>\n",
       "    </tr>\n",
       "    <tr>\n",
       "      <th>max</th>\n",
       "      <td>235.627000</td>\n",
       "      <td>3.731000</td>\n",
       "      <td>1.653753</td>\n",
       "      <td>22.278000</td>\n",
       "      <td>0.144380</td>\n",
       "    </tr>\n",
       "  </tbody>\n",
       "</table>\n",
       "</div>"
      ],
      "text/plain": [
       "        CSUSHPISA  Change from Last Month  Percent Change from Last Month  \\\n",
       "count  252.000000              252.000000                      252.000000   \n",
       "mean   161.673373                0.536012                        0.340273   \n",
       "std     30.672318                0.975878                        0.597031   \n",
       "min    100.552000               -2.524000                       -1.616498   \n",
       "25%    140.312000                0.213250                        0.109012   \n",
       "50%    161.977500                0.696000                        0.443807   \n",
       "75%    183.024000                1.000250                        0.718853   \n",
       "max    235.627000                3.731000                        1.653753   \n",
       "\n",
       "       Change From Year Ago  Percent Change From Year Ago  \n",
       "count            240.000000                    240.000000  \n",
       "mean               5.870075                      0.040373  \n",
       "std               10.082284                      0.064864  \n",
       "min              -21.629000                     -0.125808  \n",
       "25%               -0.966000                     -0.006360  \n",
       "50%                8.511500                      0.051271  \n",
       "75%               11.471000                      0.087476  \n",
       "max               22.278000                      0.144380  "
      ]
     },
     "execution_count": 10,
     "metadata": {},
     "output_type": "execute_result"
    }
   ],
   "source": [
    "priceIndex_df.describe()"
   ]
  },
  {
   "cell_type": "markdown",
   "id": "breeding-smooth",
   "metadata": {},
   "source": [
    "Price Index is always greater than the initial year i.e. 2000. But there has been drop compared from the previous year. **Maximum drop** was of *1.61% at year Dec 2008* i.e. Financial Crisis."
   ]
  },
  {
   "cell_type": "code",
   "execution_count": 12,
   "id": "conservative-journey",
   "metadata": {},
   "outputs": [
    {
     "data": {
      "text/plain": [
       "110   2009-03-01\n",
       "Name: observation_date, dtype: datetime64[ns]"
      ]
     },
     "execution_count": 12,
     "metadata": {},
     "output_type": "execute_result"
    }
   ],
   "source": [
    "# Max Drop wrt previous year\n",
    "priceIndex_df[priceIndex_df['Percent Change From Year Ago']==priceIndex_df['Percent Change From Year Ago'].min()]['observation_date']"
   ]
  },
  {
   "cell_type": "markdown",
   "id": "decimal-bhutan",
   "metadata": {},
   "source": [
    "Here observation is **maximum rise in price index** has been in *Oct 2000*."
   ]
  },
  {
   "cell_type": "code",
   "execution_count": null,
   "id": "judicial-notebook",
   "metadata": {},
   "outputs": [],
   "source": [
    "# Max Increase wrt previous year\n",
    "priceIndex_df[priceIndex_df['Percent Change from Year Ago']==priceIndex_df['Percent Change from Year Ago'].max()]['observation_date']"
   ]
  },
  {
   "cell_type": "markdown",
   "id": "speaking-afghanistan",
   "metadata": {},
   "source": [
    "Here we can see that **maximum price index** was also observed in *Dec 2020* i.e. 252.00."
   ]
  },
  {
   "cell_type": "code",
   "execution_count": null,
   "id": "hundred-bidding",
   "metadata": {},
   "outputs": [],
   "source": [
    "priceIndex_df[priceIndex_df['CSUSHPISA']==priceIndex_df['CSUSHPISA'].max()]['observation_date']"
   ]
  },
  {
   "cell_type": "code",
   "execution_count": null,
   "id": "respiratory-dependence",
   "metadata": {},
   "outputs": [],
   "source": [
    "priceIndex_df.notnull().count()"
   ]
  },
  {
   "cell_type": "markdown",
   "id": "subsequent-pierce",
   "metadata": {},
   "source": [
    "No null values."
   ]
  },
  {
   "cell_type": "code",
   "execution_count": null,
   "id": "lucky-chorus",
   "metadata": {},
   "outputs": [],
   "source": [
    "fig1 = px.line(data_frame=priceIndex_df, x='observation_date', y=\"CSUSHPISA\", title=\"House Price Index 'Jan 2000=100'\")\n",
    "fig1.show()"
   ]
  },
  {
   "cell_type": "code",
   "execution_count": null,
   "id": "surprised-vegetation",
   "metadata": {},
   "outputs": [],
   "source": [
    "fig2 = px.line(priceIndex_df, x=\"observation_date\", y=[\"Percent Change from Year Ago\"])\n",
    "fig2.show()"
   ]
  },
  {
   "cell_type": "code",
   "execution_count": null,
   "id": "operating-cuisine",
   "metadata": {},
   "outputs": [],
   "source": [
    "fig3 = px.line(priceIndex_df, x=\"observation_date\", y=[\"Percent Change from 2000\"])\n",
    "fig3.show()"
   ]
  },
  {
   "cell_type": "code",
   "execution_count": null,
   "id": "cellular-selection",
   "metadata": {},
   "outputs": [],
   "source": []
  }
 ],
 "metadata": {
  "@webio": {
   "lastCommId": null,
   "lastKernelId": null
  },
  "kernelspec": {
   "display_name": "Python 3",
   "language": "python",
   "name": "python3"
  },
  "language_info": {
   "codemirror_mode": {
    "name": "ipython",
    "version": 3
   },
   "file_extension": ".py",
   "mimetype": "text/x-python",
   "name": "python",
   "nbconvert_exporter": "python",
   "pygments_lexer": "ipython3",
   "version": "3.9.1"
  }
 },
 "nbformat": 4,
 "nbformat_minor": 5
}
