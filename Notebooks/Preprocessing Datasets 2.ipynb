{
 "cells": [
  {
   "cell_type": "code",
   "execution_count": null,
   "id": "fallen-century",
   "metadata": {},
   "outputs": [],
   "source": [
    "import pandas as pd\n",
    "import numpy as np\n",
    "import plotly.express as px\n",
    "import matplotlib.pyplot as plt\n",
    "import seaborn as sns\n",
    "%matplotlib inline"
   ]
  },
  {
   "cell_type": "markdown",
   "id": "speaking-surfing",
   "metadata": {},
   "source": [
    "## Treasury Bonds"
   ]
  },
  {
   "cell_type": "code",
   "execution_count": null,
   "id": "conditional-controversy",
   "metadata": {},
   "outputs": [],
   "source": [
    "t_10 = pd.read_csv(\"../Dataset/t_10yr.csv\", parse_dates=[0])\n",
    "t_30 = pd.read_csv(\"../Dataset/t_30yr.csv\", parse_dates=[0])\n",
    "t_5 = pd.read_csv(\"../Dataset/t_5yr.csv\", parse_dates=[0])"
   ]
  },
  {
   "cell_type": "code",
   "execution_count": 13,
   "id": "combined-bookmark",
   "metadata": {},
   "outputs": [],
   "source": [
    "def rename_columns(df, column_name, changed_name):\n",
    "    new_df = df.rename(columns={column_name:changed_name, \"Monthly Change\":f\"{changed_name} Mon_Chg\", \"Percent Monthly Change\":f\"{changed_name} Per_Mon_Chg\", \"Yearly Change\":f\"{changed_name} Yr_Chg\", \"Percent Yearly Change\":f\"{changed_name} Per_Yr_Chg\"})\n",
    "    return new_df"
   ]
  },
  {
   "cell_type": "code",
   "execution_count": null,
   "id": "superior-acceptance",
   "metadata": {},
   "outputs": [],
   "source": [
    "ts_10 = rename_columns(t_10, \"DGS10\", \"10yr_Maturity\")"
   ]
  },
  {
   "cell_type": "code",
   "execution_count": null,
   "id": "practical-credit",
   "metadata": {},
   "outputs": [],
   "source": [
    "ts_5 = rename_columns(t_5, \"GS5\", \"5yr_Maturity\")"
   ]
  },
  {
   "cell_type": "code",
   "execution_count": null,
   "id": "competitive-armor",
   "metadata": {},
   "outputs": [],
   "source": [
    "ts_30 = rename_columns(t_30, \"GS30\", \"30yr_Maturity\" )"
   ]
  },
  {
   "cell_type": "code",
   "execution_count": null,
   "id": "aquatic-ticket",
   "metadata": {},
   "outputs": [],
   "source": [
    "treasury_rate = ts_5.merge(ts_10, on=\"DATE\", how=\"outer\")"
   ]
  },
  {
   "cell_type": "code",
   "execution_count": null,
   "id": "available-generation",
   "metadata": {},
   "outputs": [],
   "source": [
    "treasury_rate = treasury_rate.merge(ts_30, on=\"DATE\", how=\"outer\")"
   ]
  },
  {
   "cell_type": "code",
   "execution_count": null,
   "id": "acceptable-visitor",
   "metadata": {},
   "outputs": [],
   "source": [
    "treasury_rate.to_csv(\"../Dataset/Treasury Bond.csv\", index=False)"
   ]
  },
  {
   "cell_type": "markdown",
   "id": "stuck-million",
   "metadata": {},
   "source": []
  },
  {
   "cell_type": "markdown",
   "id": "italian-intersection",
   "metadata": {},
   "source": [
    "## Stock Exchange Index"
   ]
  },
  {
   "cell_type": "code",
   "execution_count": null,
   "id": "registered-period",
   "metadata": {},
   "outputs": [],
   "source": [
    "nasdaq = pd.read_csv(\"../Dataset/nasdaq.csv\", parse_dates=[0])\n",
    "wilshire = pd.read_csv(\"../Dataset/wil5000.csv\", parse_dates=[0])"
   ]
  },
  {
   "cell_type": "code",
   "execution_count": null,
   "id": "ready-british",
   "metadata": {},
   "outputs": [],
   "source": [
    "nasdaq.columns"
   ]
  },
  {
   "cell_type": "code",
   "execution_count": null,
   "id": "concrete-radio",
   "metadata": {},
   "outputs": [],
   "source": [
    "nasdaq = rename_columns(nasdaq, \"NASDAQCOM\", \"NASDAQCOM\")"
   ]
  },
  {
   "cell_type": "code",
   "execution_count": null,
   "id": "institutional-astrology",
   "metadata": {},
   "outputs": [],
   "source": [
    "wilshire = rename_columns(wilshire, \"WILL5000PR\", \"WILL5000\")"
   ]
  },
  {
   "cell_type": "code",
   "execution_count": null,
   "id": "adequate-browser",
   "metadata": {},
   "outputs": [],
   "source": [
    "stock_exchange = nasdaq.merge(wilshire, on=\"DATE\", how=\"outer\")"
   ]
  },
  {
   "cell_type": "code",
   "execution_count": null,
   "id": "changing-qatar",
   "metadata": {},
   "outputs": [],
   "source": [
    "stock_exchange.to_csv(\"../Dataset/Stock Exchange.csv\", index=False)"
   ]
  },
  {
   "cell_type": "markdown",
   "id": "dated-wichita",
   "metadata": {},
   "source": []
  },
  {
   "cell_type": "markdown",
   "id": "indie-boating",
   "metadata": {},
   "source": []
  },
  {
   "cell_type": "markdown",
   "id": "numerical-assumption",
   "metadata": {},
   "source": [
    "# Final Dataset"
   ]
  },
  {
   "cell_type": "code",
   "execution_count": 1,
   "id": "reasonable-injury",
   "metadata": {},
   "outputs": [],
   "source": [
    "import pandas as pd\n",
    "import numpy as np"
   ]
  },
  {
   "cell_type": "code",
   "execution_count": 2,
   "id": "recorded-simon",
   "metadata": {},
   "outputs": [],
   "source": [
    "house_index = pd.read_csv(\"../Dataset/cshpi_processed.csv\", parse_dates=[0])\n",
    "cpi = pd.read_csv(\"../Dataset/cpi.csv\", parse_dates=[0])\n",
    "house_cons = pd.read_csv(\"../Dataset/house construction.csv\", parse_dates=[0])\n",
    "mortgage = pd.read_csv(\"../Dataset/mortgage.csv\", parse_dates=[0])\n",
    "rent = pd.read_csv(\"../Dataset/rent.csv\", parse_dates=[0])\n",
    "stock_exchange = pd.read_csv(\"../Dataset/stock exchange.csv\", parse_dates=[0])\n",
    "treasury_bonds = pd.read_csv(\"../Dataset/treasury bond.csv\", parse_dates=[0])"
   ]
  },
  {
   "cell_type": "code",
   "execution_count": 3,
   "id": "abandoned-petersburg",
   "metadata": {},
   "outputs": [
    {
     "data": {
      "text/plain": [
       "Index(['observation_date', 'CSUSHPISA', 'Change from Last Month',\n",
       "       'Percent Change from Last Month', 'Change From Year Ago',\n",
       "       'Percent Change From Year Ago'],\n",
       "      dtype='object')"
      ]
     },
     "execution_count": 3,
     "metadata": {},
     "output_type": "execute_result"
    }
   ],
   "source": [
    "house_index.columns"
   ]
  },
  {
   "cell_type": "code",
   "execution_count": 4,
   "id": "lonely-montreal",
   "metadata": {},
   "outputs": [],
   "source": [
    "house_index = house_index.rename(columns={\"observation_date\":\"DATE\"})"
   ]
  },
  {
   "cell_type": "markdown",
   "id": "clear-beginning",
   "metadata": {},
   "source": []
  },
  {
   "cell_type": "code",
   "execution_count": 5,
   "id": "separate-composer",
   "metadata": {},
   "outputs": [
    {
     "data": {
      "text/plain": [
       "Index(['DATE', 'MORTGAGE15US', 'MORTGAGE30US', 'MORTGAGE5US',\n",
       "       'MORTGAGE15US_Monthly Change', 'MORTGAGE15US_Percent Monthly Change',\n",
       "       'MORTGAGE15US_Yearly Change', 'MORTGAGE15US_Percent Yearly Change',\n",
       "       'MORTGAGE30US_Monthly Change', 'MORTGAGE30US_Percent Monthly Change',\n",
       "       'MORTGAGE30US_Yearly Change', 'MORTGAGE30US_Percent Yearly Change',\n",
       "       'MORTGAGE5US_Monthly Change', 'MORTGAGE5US_Percent Monthly Change',\n",
       "       'MORTGAGE5US_Yearly Change', 'MORTGAGE5US_Percent Yearly Change'],\n",
       "      dtype='object')"
      ]
     },
     "execution_count": 5,
     "metadata": {},
     "output_type": "execute_result"
    }
   ],
   "source": [
    "mortgage.columns"
   ]
  },
  {
   "cell_type": "code",
   "execution_count": 19,
   "id": "eight-straight",
   "metadata": {},
   "outputs": [],
   "source": [
    "mortgage_filtered = mortgage[[\"DATE\",\"MORTGAGE15US_Monthly Change\", \"MORTGAGE30US_Monthly Change\", \"MORTGAGE5US_Monthly Change\"]]"
   ]
  },
  {
   "cell_type": "code",
   "execution_count": 20,
   "id": "narrative-cleaner",
   "metadata": {},
   "outputs": [
    {
     "data": {
      "text/plain": [
       "Index(['DATE', 'MORTGAGE15US_Monthly Change', 'MORTGAGE30US_Monthly Change',\n",
       "       'MORTGAGE5US_Monthly Change'],\n",
       "      dtype='object')"
      ]
     },
     "execution_count": 20,
     "metadata": {},
     "output_type": "execute_result"
    }
   ],
   "source": [
    "mortgage_filtered.columns"
   ]
  },
  {
   "cell_type": "markdown",
   "id": "limiting-lexington",
   "metadata": {},
   "source": []
  },
  {
   "cell_type": "code",
   "execution_count": 8,
   "id": "respiratory-stevens",
   "metadata": {},
   "outputs": [
    {
     "data": {
      "text/plain": [
       "Index(['DATE', 'NASDAQCOM', 'NASDAQCOM Mon_Chg', 'NASDAQCOM Per_Mon_Chg',\n",
       "       'NASDAQCOM Yr_Chg', 'NASDAQCOM Per_Yr_Chg', 'WILL5000',\n",
       "       'WILL5000 Mon_Chg', 'WILL5000 Per_Mon_Chg', 'WILL5000 Yr_Chg',\n",
       "       'WILL5000 Per_Yr_Chg'],\n",
       "      dtype='object')"
      ]
     },
     "execution_count": 8,
     "metadata": {},
     "output_type": "execute_result"
    }
   ],
   "source": [
    "stock_exchange.columns"
   ]
  },
  {
   "cell_type": "code",
   "execution_count": 21,
   "id": "behind-neighbor",
   "metadata": {},
   "outputs": [],
   "source": [
    "stock_exchange_filtered = stock_exchange[[\"DATE\", \"NASDAQCOM Mon_Chg\", \"WILL5000 Per_Mon_Chg\"]]"
   ]
  },
  {
   "cell_type": "code",
   "execution_count": 22,
   "id": "integral-museum",
   "metadata": {},
   "outputs": [
    {
     "data": {
      "text/plain": [
       "Index(['DATE', 'NASDAQCOM Mon_Chg', 'WILL5000 Per_Mon_Chg'], dtype='object')"
      ]
     },
     "execution_count": 22,
     "metadata": {},
     "output_type": "execute_result"
    }
   ],
   "source": [
    "stock_exchange_filtered.columns"
   ]
  },
  {
   "cell_type": "markdown",
   "id": "clean-cowboy",
   "metadata": {},
   "source": []
  },
  {
   "cell_type": "code",
   "execution_count": 11,
   "id": "comfortable-swiss",
   "metadata": {},
   "outputs": [
    {
     "data": {
      "text/plain": [
       "Index(['DATE', 'CUSR0000SEHA_NBD20000101', 'Monthly Change',\n",
       "       'Monthly Percent Change', 'Yearly Change', 'Percent Yearly Change'],\n",
       "      dtype='object')"
      ]
     },
     "execution_count": 11,
     "metadata": {},
     "output_type": "execute_result"
    }
   ],
   "source": [
    "rent.columns"
   ]
  },
  {
   "cell_type": "code",
   "execution_count": 14,
   "id": "combined-oasis",
   "metadata": {},
   "outputs": [],
   "source": [
    "rent = rename_columns(rent, \"CUSR0000SEHA_NBD20000101\", \"Rent Index\")"
   ]
  },
  {
   "cell_type": "code",
   "execution_count": 15,
   "id": "maritime-chile",
   "metadata": {},
   "outputs": [
    {
     "data": {
      "text/plain": [
       "Index(['DATE', 'Rent Index', 'Rent Index Mon_Chg', 'Monthly Percent Change',\n",
       "       'Rent Index Yr_Chg', 'Rent Index Per_Yr_Chg'],\n",
       "      dtype='object')"
      ]
     },
     "execution_count": 15,
     "metadata": {},
     "output_type": "execute_result"
    }
   ],
   "source": [
    "rent.columns"
   ]
  },
  {
   "cell_type": "code",
   "execution_count": 23,
   "id": "inside-camping",
   "metadata": {},
   "outputs": [],
   "source": [
    "rent_filtered = rent[[\"DATE\", \"Rent Index Mon_Chg\"]]"
   ]
  },
  {
   "cell_type": "code",
   "execution_count": 24,
   "id": "dimensional-hawaii",
   "metadata": {},
   "outputs": [
    {
     "data": {
      "text/plain": [
       "Index(['DATE', 'Rent Index Mon_Chg'], dtype='object')"
      ]
     },
     "execution_count": 24,
     "metadata": {},
     "output_type": "execute_result"
    }
   ],
   "source": [
    "rent_filtered.columns"
   ]
  },
  {
   "cell_type": "code",
   "execution_count": 26,
   "id": "fabulous-support",
   "metadata": {},
   "outputs": [],
   "source": [
    "df = mortgage_filtered.merge(rent_filtered, on=\"DATE\", how=\"outer\")"
   ]
  },
  {
   "cell_type": "code",
   "execution_count": 27,
   "id": "distinct-stamp",
   "metadata": {},
   "outputs": [],
   "source": [
    "df = df.merge(stock_exchange_filtered, on=\"DATE\", how=\"outer\")"
   ]
  },
  {
   "cell_type": "code",
   "execution_count": 29,
   "id": "spectacular-fellow",
   "metadata": {},
   "outputs": [
    {
     "data": {
      "text/plain": [
       "Index(['DATE', 'Completed', 'Under Construction'], dtype='object')"
      ]
     },
     "execution_count": 29,
     "metadata": {},
     "output_type": "execute_result"
    }
   ],
   "source": [
    "house_cons.columns"
   ]
  },
  {
   "cell_type": "code",
   "execution_count": 31,
   "id": "canadian-relations",
   "metadata": {},
   "outputs": [],
   "source": [
    "house_cons_filtered = house_cons.rename(columns={\"Completed\":\"House Completed\", \"Under Construction\":\"House Under Construction\"})"
   ]
  },
  {
   "cell_type": "code",
   "execution_count": 32,
   "id": "given-weather",
   "metadata": {},
   "outputs": [],
   "source": [
    "df = df.merge(house_cons_filtered, on=\"DATE\", how=\"outer\")"
   ]
  },
  {
   "cell_type": "code",
   "execution_count": 33,
   "id": "deluxe-blond",
   "metadata": {},
   "outputs": [
    {
     "data": {
      "text/plain": [
       "Index(['DATE', 'MORTGAGE15US_Monthly Change', 'MORTGAGE30US_Monthly Change',\n",
       "       'MORTGAGE5US_Monthly Change', 'Rent Index Mon_Chg', 'NASDAQCOM Mon_Chg',\n",
       "       'WILL5000 Per_Mon_Chg', 'House Completed', 'House Under Construction'],\n",
       "      dtype='object')"
      ]
     },
     "execution_count": 33,
     "metadata": {},
     "output_type": "execute_result"
    }
   ],
   "source": [
    "df.columns"
   ]
  },
  {
   "cell_type": "code",
   "execution_count": 34,
   "id": "welcome-sperm",
   "metadata": {},
   "outputs": [
    {
     "data": {
      "text/plain": [
       "Index(['DATE', '5yr_Maturity', '5yr_Maturity Mon_Chg',\n",
       "       '5yr_Maturity Per_Mon_Chg', '5yr_Maturity Yr_Chg',\n",
       "       '5yr_Maturity Per_Yr_Chg', '10yr_Maturity', '10yr_Maturity Mon_Chg',\n",
       "       '10yr_Maturity Per_Mon_Chg', '10yr_Maturity Yr_Chg',\n",
       "       '10yr_Maturity Per_Yr_Chg', '30yr_Maturity', '30yr_Maturity Mon_Chg',\n",
       "       '30yr_Maturity Per_Mon_Chg', '30yr_Maturity Yr_Chg',\n",
       "       '30yr_Maturity Per_Yr_Chg'],\n",
       "      dtype='object')"
      ]
     },
     "execution_count": 34,
     "metadata": {},
     "output_type": "execute_result"
    }
   ],
   "source": [
    "treasury_bonds.columns"
   ]
  },
  {
   "cell_type": "code",
   "execution_count": 36,
   "id": "checked-methodology",
   "metadata": {},
   "outputs": [],
   "source": [
    "treasury_bonds_filtered = treasury_bonds[[ \"DATE\", \"5yr_Maturity Mon_Chg\", \"10yr_Maturity Mon_Chg\", \"30yr_Maturity Per_Mon_Chg\"]]"
   ]
  },
  {
   "cell_type": "code",
   "execution_count": 38,
   "id": "decent-participant",
   "metadata": {},
   "outputs": [],
   "source": [
    "df = df.merge(treasury_bonds_filtered, on=\"DATE\", how=\"outer\")"
   ]
  },
  {
   "cell_type": "code",
   "execution_count": 39,
   "id": "frozen-transformation",
   "metadata": {},
   "outputs": [],
   "source": [
    "def add_columns_updated(df, column_name):\n",
    "    monthly_change , percent_monthly_change = monthly_changes(df, column_name)\n",
    "    yearly_change, percent_yearly_change = yearly_changes(df, column_name)\n",
    "    df[f\"{column_name}_Monthly Change\"] = monthly_change\n",
    "    df[f\"{column_name}_Percent Monthly Change\"] = percent_monthly_change\n",
    "    df[f\"{column_name}_Yearly Change\"] = yearly_change\n",
    "    df[f\"{column_name}_Percent Yearly Change\"] = percent_yearly_change"
   ]
  },
  {
   "cell_type": "code",
   "execution_count": 40,
   "id": "greatest-journal",
   "metadata": {},
   "outputs": [
    {
     "data": {
      "text/plain": [
       "Index(['DATE', 'CPIAUCSL_NBD20000101', 'Monthly Change',\n",
       "       'Percent Monthly Change', 'Yearly Change', 'Percent Yearly Change'],\n",
       "      dtype='object')"
      ]
     },
     "execution_count": 40,
     "metadata": {},
     "output_type": "execute_result"
    }
   ],
   "source": [
    "cpi.columns"
   ]
  },
  {
   "cell_type": "code",
   "execution_count": 43,
   "id": "opened-badge",
   "metadata": {},
   "outputs": [],
   "source": [
    "cpi = cpi.rename(columns={\"CPIAUCSL_NBD20000101\":\"CPI\"})"
   ]
  },
  {
   "cell_type": "code",
   "execution_count": 50,
   "id": "distributed-cocktail",
   "metadata": {},
   "outputs": [],
   "source": [
    "cpi = rename_columns(cpi, \"CPI\", \"CPI\")"
   ]
  },
  {
   "cell_type": "code",
   "execution_count": 51,
   "id": "beginning-literature",
   "metadata": {},
   "outputs": [
    {
     "data": {
      "text/plain": [
       "Index(['DATE', 'CPI', 'CPI Mon_Chg', 'CPI Per_Mon_Chg', 'CPI Yr_Chg',\n",
       "       'CPI Per_Yr_Chg'],\n",
       "      dtype='object')"
      ]
     },
     "execution_count": 51,
     "metadata": {},
     "output_type": "execute_result"
    }
   ],
   "source": [
    "cpi.columns"
   ]
  },
  {
   "cell_type": "code",
   "execution_count": 52,
   "id": "welcome-plastic",
   "metadata": {},
   "outputs": [],
   "source": [
    "cpi_filtered = cpi[[\"DATE\", \"CPI Mon_Chg\"]]"
   ]
  },
  {
   "cell_type": "code",
   "execution_count": 56,
   "id": "imported-airfare",
   "metadata": {},
   "outputs": [],
   "source": [
    "df = df.merge(cpi_filtered, on=\"DATE\", how=\"outer\")"
   ]
  },
  {
   "cell_type": "code",
   "execution_count": 57,
   "id": "greater-error",
   "metadata": {},
   "outputs": [
    {
     "data": {
      "text/plain": [
       "Index(['DATE', 'MORTGAGE15US_Monthly Change', 'MORTGAGE30US_Monthly Change',\n",
       "       'MORTGAGE5US_Monthly Change', 'Rent Index Mon_Chg', 'NASDAQCOM Mon_Chg',\n",
       "       'WILL5000 Per_Mon_Chg', 'House Completed', 'House Under Construction',\n",
       "       '5yr_Maturity Per_Mon_Chg', '10yr_Maturity Per_Mon_Chg',\n",
       "       '30yr_Maturity Per_Mon_Chg', 'CPI Mon_Chg'],\n",
       "      dtype='object')"
      ]
     },
     "execution_count": 57,
     "metadata": {},
     "output_type": "execute_result"
    }
   ],
   "source": [
    "df.columns"
   ]
  },
  {
   "cell_type": "code",
   "execution_count": 59,
   "id": "formal-delaware",
   "metadata": {},
   "outputs": [
    {
     "data": {
      "text/plain": [
       "Index(['DATE', 'CSUSHPISA', 'Change from Last Month',\n",
       "       'Percent Change from Last Month', 'Change From Year Ago',\n",
       "       'Percent Change From Year Ago'],\n",
       "      dtype='object')"
      ]
     },
     "execution_count": 59,
     "metadata": {},
     "output_type": "execute_result"
    }
   ],
   "source": [
    "house_index.columns"
   ]
  },
  {
   "cell_type": "code",
   "execution_count": 60,
   "id": "experienced-capture",
   "metadata": {},
   "outputs": [
    {
     "data": {
      "text/html": [
       "<div>\n",
       "<style scoped>\n",
       "    .dataframe tbody tr th:only-of-type {\n",
       "        vertical-align: middle;\n",
       "    }\n",
       "\n",
       "    .dataframe tbody tr th {\n",
       "        vertical-align: top;\n",
       "    }\n",
       "\n",
       "    .dataframe thead th {\n",
       "        text-align: right;\n",
       "    }\n",
       "</style>\n",
       "<table border=\"1\" class=\"dataframe\">\n",
       "  <thead>\n",
       "    <tr style=\"text-align: right;\">\n",
       "      <th></th>\n",
       "      <th>DATE</th>\n",
       "      <th>CSUSHPISA</th>\n",
       "      <th>Change from Last Month</th>\n",
       "      <th>Percent Change from Last Month</th>\n",
       "      <th>Change From Year Ago</th>\n",
       "      <th>Percent Change From Year Ago</th>\n",
       "    </tr>\n",
       "  </thead>\n",
       "  <tbody>\n",
       "    <tr>\n",
       "      <th>0</th>\n",
       "      <td>2000-01-01</td>\n",
       "      <td>100.552</td>\n",
       "      <td>0.000</td>\n",
       "      <td>0.000000</td>\n",
       "      <td>NaN</td>\n",
       "      <td>NaN</td>\n",
       "    </tr>\n",
       "    <tr>\n",
       "      <th>1</th>\n",
       "      <td>2000-02-01</td>\n",
       "      <td>101.339</td>\n",
       "      <td>0.787</td>\n",
       "      <td>0.782680</td>\n",
       "      <td>NaN</td>\n",
       "      <td>NaN</td>\n",
       "    </tr>\n",
       "    <tr>\n",
       "      <th>2</th>\n",
       "      <td>2000-03-01</td>\n",
       "      <td>102.127</td>\n",
       "      <td>0.788</td>\n",
       "      <td>0.777588</td>\n",
       "      <td>NaN</td>\n",
       "      <td>NaN</td>\n",
       "    </tr>\n",
       "    <tr>\n",
       "      <th>3</th>\n",
       "      <td>2000-04-01</td>\n",
       "      <td>102.922</td>\n",
       "      <td>0.795</td>\n",
       "      <td>0.778443</td>\n",
       "      <td>NaN</td>\n",
       "      <td>NaN</td>\n",
       "    </tr>\n",
       "    <tr>\n",
       "      <th>4</th>\n",
       "      <td>2000-05-01</td>\n",
       "      <td>103.677</td>\n",
       "      <td>0.755</td>\n",
       "      <td>0.733565</td>\n",
       "      <td>NaN</td>\n",
       "      <td>NaN</td>\n",
       "    </tr>\n",
       "    <tr>\n",
       "      <th>...</th>\n",
       "      <td>...</td>\n",
       "      <td>...</td>\n",
       "      <td>...</td>\n",
       "      <td>...</td>\n",
       "      <td>...</td>\n",
       "      <td>...</td>\n",
       "    </tr>\n",
       "    <tr>\n",
       "      <th>247</th>\n",
       "      <td>2020-08-01</td>\n",
       "      <td>222.432</td>\n",
       "      <td>2.782</td>\n",
       "      <td>1.266560</td>\n",
       "      <td>12.246</td>\n",
       "      <td>5.826268</td>\n",
       "    </tr>\n",
       "    <tr>\n",
       "      <th>248</th>\n",
       "      <td>2020-09-01</td>\n",
       "      <td>225.608</td>\n",
       "      <td>3.176</td>\n",
       "      <td>1.427852</td>\n",
       "      <td>14.729</td>\n",
       "      <td>6.984574</td>\n",
       "    </tr>\n",
       "    <tr>\n",
       "      <th>249</th>\n",
       "      <td>2020-10-01</td>\n",
       "      <td>229.339</td>\n",
       "      <td>3.731</td>\n",
       "      <td>1.653753</td>\n",
       "      <td>17.746</td>\n",
       "      <td>8.386856</td>\n",
       "    </tr>\n",
       "    <tr>\n",
       "      <th>250</th>\n",
       "      <td>2020-11-01</td>\n",
       "      <td>232.673</td>\n",
       "      <td>3.334</td>\n",
       "      <td>1.453743</td>\n",
       "      <td>20.164</td>\n",
       "      <td>9.488539</td>\n",
       "    </tr>\n",
       "    <tr>\n",
       "      <th>251</th>\n",
       "      <td>2020-12-01</td>\n",
       "      <td>235.627</td>\n",
       "      <td>2.954</td>\n",
       "      <td>1.269593</td>\n",
       "      <td>22.126</td>\n",
       "      <td>10.363418</td>\n",
       "    </tr>\n",
       "  </tbody>\n",
       "</table>\n",
       "<p>252 rows × 6 columns</p>\n",
       "</div>"
      ],
      "text/plain": [
       "          DATE  CSUSHPISA  Change from Last Month  \\\n",
       "0   2000-01-01    100.552                   0.000   \n",
       "1   2000-02-01    101.339                   0.787   \n",
       "2   2000-03-01    102.127                   0.788   \n",
       "3   2000-04-01    102.922                   0.795   \n",
       "4   2000-05-01    103.677                   0.755   \n",
       "..         ...        ...                     ...   \n",
       "247 2020-08-01    222.432                   2.782   \n",
       "248 2020-09-01    225.608                   3.176   \n",
       "249 2020-10-01    229.339                   3.731   \n",
       "250 2020-11-01    232.673                   3.334   \n",
       "251 2020-12-01    235.627                   2.954   \n",
       "\n",
       "     Percent Change from Last Month  Change From Year Ago  \\\n",
       "0                          0.000000                   NaN   \n",
       "1                          0.782680                   NaN   \n",
       "2                          0.777588                   NaN   \n",
       "3                          0.778443                   NaN   \n",
       "4                          0.733565                   NaN   \n",
       "..                              ...                   ...   \n",
       "247                        1.266560                12.246   \n",
       "248                        1.427852                14.729   \n",
       "249                        1.653753                17.746   \n",
       "250                        1.453743                20.164   \n",
       "251                        1.269593                22.126   \n",
       "\n",
       "     Percent Change From Year Ago  \n",
       "0                             NaN  \n",
       "1                             NaN  \n",
       "2                             NaN  \n",
       "3                             NaN  \n",
       "4                             NaN  \n",
       "..                            ...  \n",
       "247                      5.826268  \n",
       "248                      6.984574  \n",
       "249                      8.386856  \n",
       "250                      9.488539  \n",
       "251                     10.363418  \n",
       "\n",
       "[252 rows x 6 columns]"
      ]
     },
     "execution_count": 60,
     "metadata": {},
     "output_type": "execute_result"
    }
   ],
   "source": [
    "rename_columns(house_index, \"CSUSHPISA\", \"CSUSHPISA\")"
   ]
  },
  {
   "cell_type": "code",
   "execution_count": 61,
   "id": "numerous-legend",
   "metadata": {},
   "outputs": [],
   "source": [
    "house_index_filtered = house_index[[\"DATE\", \"Change from Last Month\"]]"
   ]
  },
  {
   "cell_type": "code",
   "execution_count": 64,
   "id": "upset-indiana",
   "metadata": {},
   "outputs": [],
   "source": [
    "house_index_filtered=house_index_filtered.rename(columns={\"Change from Last Month\": \"House Index Monthly Change\"})"
   ]
  },
  {
   "cell_type": "code",
   "execution_count": 67,
   "id": "southwest-blair",
   "metadata": {},
   "outputs": [],
   "source": [
    "df = df.merge(house_index_filtered, on=\"DATE\", how=\"outer\")"
   ]
  },
  {
   "cell_type": "code",
   "execution_count": 69,
   "id": "immune-vinyl",
   "metadata": {},
   "outputs": [],
   "source": [
    "df.to_csv(\"../Notebooks/Dataset.csv\", index=False)"
   ]
  }
 ],
 "metadata": {
  "@webio": {
   "lastCommId": null,
   "lastKernelId": null
  },
  "kernelspec": {
   "display_name": "Python 3",
   "language": "python",
   "name": "python3"
  },
  "language_info": {
   "codemirror_mode": {
    "name": "ipython",
    "version": 3
   },
   "file_extension": ".py",
   "mimetype": "text/x-python",
   "name": "python",
   "nbconvert_exporter": "python",
   "pygments_lexer": "ipython3",
   "version": "3.9.1"
  }
 },
 "nbformat": 4,
 "nbformat_minor": 5
}
