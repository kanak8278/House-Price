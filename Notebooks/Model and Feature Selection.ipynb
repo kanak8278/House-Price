{
 "cells": [
  {
   "cell_type": "code",
   "execution_count": 1,
   "id": "parental-dayton",
   "metadata": {},
   "outputs": [],
   "source": [
    "import pandas as pd\n",
    "import numpy as np\n",
    "import matplotlib.pyplot as plt\n",
    "from sklearn.preprocessing import *\n",
    "from sklearn.model_selection import *\n",
    "from sklearn.ensemble import RandomForestRegressor\n",
    "from sklearn.tree import DecisionTreeRegressor\n",
    "from sklearn.linear_model import LinearRegression\n",
    "from sklearn.metrics import *"
   ]
  },
  {
   "cell_type": "code",
   "execution_count": 2,
   "id": "million-classroom",
   "metadata": {},
   "outputs": [
    {
     "name": "stdout",
     "output_type": "stream",
     "text": [
      "fastai                   2.3.0\n",
      "Note: you may need to restart the kernel to use updated packages.\n"
     ]
    }
   ],
   "source": [
    "pip list | grep fastai"
   ]
  },
  {
   "cell_type": "code",
   "execution_count": 4,
   "id": "signal-homeless",
   "metadata": {},
   "outputs": [],
   "source": [
    "import fastai\n",
    "from fastai.tabular import *\n",
    "from fastai.tabular.core import *"
   ]
  },
  {
   "cell_type": "code",
   "execution_count": 36,
   "id": "pending-furniture",
   "metadata": {},
   "outputs": [],
   "source": [
    "dataset = pd.read_csv(\"../Dataset/Final_Dataset.csv\", low_memory=False)"
   ]
  },
  {
   "cell_type": "code",
   "execution_count": 27,
   "id": "adverse-machinery",
   "metadata": {
    "collapsed": true,
    "jupyter": {
     "outputs_hidden": true
    }
   },
   "outputs": [
    {
     "data": {
      "text/plain": [
       "Index(['DATE', 'MORTGAGE15US_Monthly Change', 'MORTGAGE30US_Monthly Change',\n",
       "       'MORTGAGE5US_Monthly Change', 'Rent Index Mon_Chg', 'NASDAQCOM Mon_Chg',\n",
       "       'WILL5000 Per_Mon_Chg', 'House Completed', 'House Under Construction',\n",
       "       '5yr_Maturity Per_Mon_Chg', '10yr_Maturity Per_Mon_Chg',\n",
       "       '30yr_Maturity Per_Mon_Chg', 'CPI Mon_Chg',\n",
       "       'House Index Monthly Change', 'Year', 'Month', 'Unemployment Rate',\n",
       "       'Unemployment Rate - Black or African American',\n",
       "       'Unemployment Rate - White', 'Insured Unemployment Rate',\n",
       "       'Number Unemployed for 27 Weeks & Over', 'EMRATIO', 'Personal Income',\n",
       "       'Real Personal Income', 'Job Openings- Total Nonfarm',\n",
       "       'AverageHourlySalary-Private', 'Median Sales Price for New Houses Sold',\n",
       "       'Real Private Residential Fixed Investment',\n",
       "       'Total Construction Spending- Residential',\n",
       "       'Monthly Supply of Houses in the United States',\n",
       "       'Homeownership Rate for the United States'],\n",
       "      dtype='object')"
      ]
     },
     "execution_count": 27,
     "metadata": {},
     "output_type": "execute_result"
    }
   ],
   "source": [
    "dataset.columns"
   ]
  },
  {
   "cell_type": "code",
   "execution_count": 28,
   "id": "beginning-chuck",
   "metadata": {},
   "outputs": [],
   "source": [
    "to_pred = \"House Index Monthly Change\""
   ]
  },
  {
   "cell_type": "markdown",
   "id": "satellite-addiction",
   "metadata": {
    "jupyter": {
     "source_hidden": true
    }
   },
   "source": [
    "`DATE`: Month and Year of the observation\n",
    "\n",
    "`MORTGAGE15US_Monthly Change`: 15 Year Constant Interest Rate on Mortgage\n",
    "\n",
    "`MORTGAGE30US_Monthly Change`: 30 Year Constant Interest Rate on Mortgage\n",
    "\n",
    "`MORTGAGE5US_Monthly Change`: 5 Year Constant and every next year Increasing Interest Rate on Mortgage (1 yr- Adjustable)\n",
    "\n",
    "`Rent Index Mon_Chg`: Rent Index Monthly Change\n",
    "\n",
    "`NASDAQCOM Mon_Chg`: NASDAQ Composite Index Monthly Change\n",
    "\n",
    "`WILL5000 Per_Mon_Chg`: WILL5000 Index Monthly Percent Change\n",
    "\n",
    "`House Completed`: New Houses Completed on that Month\n",
    "\n",
    "`House Under Construction`: New Houses under Construction that Month\n",
    "\n",
    "`5yr_Maturity Per_Mon_Chg`: Treasury Bond 5 yr Maturity Interest Percent Monthly Change\n",
    "\n",
    "`10yr_Maturity Per_Mon_Chg`: Treasury Bond 10 yr Maturity Interest Percent Monthly Change\n",
    "\n",
    "`30yr_Maturity Per_Mon_Chg`: Treasury Bond 30 yr Maturity Interest Percent Monthly Change\n",
    "\n",
    "`CPI Mon_Chg`: Consumer Price Index Monthly Change\n",
    "\n",
    "`House Index Monthly Change`: House Price Index Monthly Change\n",
    "\n",
    "`Year`: Year\n",
    "\n",
    "`Unemployment Rate`,\n",
    "       `Unemployment Rate - Black or African American`,\n",
    "       `Unemployment Rate - White`, `Insured Unemployment Rate`,\n",
    "       `Number Unemployed for 27 Weeks & Over`, `EMRATIO`, `Personal Income`,\n",
    "       `Real Personal Income`, `Job Openings- Total Nonfarm`,\n",
    "       `AverageHourlySalary-Private`, `Median Sales Price for New Houses Sold`,\n",
    "       `Real Private Residential Fixed Investment`,\n",
    "       `Total Construction Spending- Residential`,\n",
    "       `Monthly Supply of Houses in the United States`,\n",
    "       `Homeownership Rate for the United States`, `DATEYear`, `DATEMonth`,\n",
    "       `DATEWeek`, `DATEDay`, `DATEDayofweek`, `DATEDayofyear`,\n",
    "       `DATEIs_month_end`, `DATEIs_month_start`, `DATEIs_quarter_end`,\n",
    "       `DATEIs_quarter_start`, `DATEIs_year_end`, `DATEIs_year_start`,\n",
    "       `DATEElapsed`\n"
   ]
  },
  {
   "cell_type": "markdown",
   "id": "rolled-baseline",
   "metadata": {},
   "source": [
    "Fastai is a deep learning library based on Pytorch. It's fastai.tabular has several preprocessing functions which I am going to use."
   ]
  },
  {
   "cell_type": "code",
   "execution_count": 29,
   "id": "celtic-anthropology",
   "metadata": {},
   "outputs": [],
   "source": [
    "dataset = dataset.drop(columns=[\"Year\", \"Month\"]).columns"
   ]
  },
  {
   "cell_type": "code",
   "execution_count": 41,
   "id": "israeli-setup",
   "metadata": {},
   "outputs": [],
   "source": [
    "df = add_datepart(df=dataset, field_name='DATE')"
   ]
  },
  {
   "cell_type": "code",
   "execution_count": 42,
   "id": "parental-weapon",
   "metadata": {
    "collapsed": true,
    "jupyter": {
     "outputs_hidden": true
    }
   },
   "outputs": [
    {
     "data": {
      "text/plain": [
       "Index(['MORTGAGE15US_Monthly Change', 'MORTGAGE30US_Monthly Change',\n",
       "       'MORTGAGE5US_Monthly Change', 'Rent Index Mon_Chg', 'NASDAQCOM Mon_Chg',\n",
       "       'WILL5000 Per_Mon_Chg', 'House Completed', 'House Under Construction',\n",
       "       '5yr_Maturity Per_Mon_Chg', '10yr_Maturity Per_Mon_Chg',\n",
       "       '30yr_Maturity Per_Mon_Chg', 'CPI Mon_Chg',\n",
       "       'House Index Monthly Change', 'Year', 'Month', 'Unemployment Rate',\n",
       "       'Unemployment Rate - Black or African American',\n",
       "       'Unemployment Rate - White', 'Insured Unemployment Rate',\n",
       "       'Number Unemployed for 27 Weeks & Over', 'EMRATIO', 'Personal Income',\n",
       "       'Real Personal Income', 'Job Openings- Total Nonfarm',\n",
       "       'AverageHourlySalary-Private', 'Median Sales Price for New Houses Sold',\n",
       "       'Real Private Residential Fixed Investment',\n",
       "       'Total Construction Spending- Residential',\n",
       "       'Monthly Supply of Houses in the United States',\n",
       "       'Homeownership Rate for the United States', 'DATEYear', 'DATEMonth',\n",
       "       'DATEWeek', 'DATEDay', 'DATEDayofweek', 'DATEDayofyear',\n",
       "       'DATEIs_month_end', 'DATEIs_month_start', 'DATEIs_quarter_end',\n",
       "       'DATEIs_quarter_start', 'DATEIs_year_end', 'DATEIs_year_start',\n",
       "       'DATEElapsed'],\n",
       "      dtype='object')"
      ]
     },
     "execution_count": 42,
     "metadata": {},
     "output_type": "execute_result"
    }
   ],
   "source": [
    "df.columns"
   ]
  },
  {
   "cell_type": "markdown",
   "id": "apparent-thermal",
   "metadata": {},
   "source": [
    "New columns added due to `add_datepart()` fn."
   ]
  },
  {
   "cell_type": "code",
   "execution_count": 43,
   "id": "arctic-steps",
   "metadata": {},
   "outputs": [
    {
     "data": {
      "text/plain": [
       "'DATEYear DATEMonth DATEWeek DATEDay DATEDayofweek DATEDayofyear DATEIs_month_end DATEIs_month_start DATEIs_quarter_end DATEIs_quarter_start DATEIs_year_end DATEIs_year_start DATEElapsed'"
      ]
     },
     "execution_count": 43,
     "metadata": {},
     "output_type": "execute_result"
    }
   ],
   "source": [
    "' '.join(o for o in df.columns if o.startswith('DATE'))"
   ]
  },
  {
   "cell_type": "markdown",
   "id": "upset-acrylic",
   "metadata": {},
   "source": [
    "We can drop `DATEDay`, `DATEIs_month_start`, `DATEIs_month_end` as they will have same values for all the rows."
   ]
  },
  {
   "cell_type": "code",
   "execution_count": 51,
   "id": "downtown-framing",
   "metadata": {},
   "outputs": [
    {
     "data": {
      "text/plain": [
       "(array([1]), array([False]), array([ True]))"
      ]
     },
     "execution_count": 51,
     "metadata": {},
     "output_type": "execute_result"
    }
   ],
   "source": [
    "df['DATEDay'].unique(), df['DATEIs_month_end'].unique(), df['DATEIs_month_start'].unique()"
   ]
  },
  {
   "cell_type": "code",
   "execution_count": 52,
   "id": "better-legislature",
   "metadata": {},
   "outputs": [],
   "source": [
    "df= df.drop(columns=['DATEDay', 'DATEIs_month_end', 'DATEIs_month_start'])"
   ]
  },
  {
   "cell_type": "code",
   "execution_count": 62,
   "id": "swiss-earth",
   "metadata": {
    "collapsed": true,
    "jupyter": {
     "outputs_hidden": true
    }
   },
   "outputs": [
    {
     "data": {
      "text/plain": [
       "MORTGAGE15US_Monthly Change                       0.000000\n",
       "MORTGAGE30US_Monthly Change                       0.000000\n",
       "MORTGAGE5US_Monthly Change                       23.809524\n",
       "Rent Index Mon_Chg                                0.000000\n",
       "NASDAQCOM Mon_Chg                                 0.000000\n",
       "WILL5000 Per_Mon_Chg                              0.000000\n",
       "House Completed                                   0.000000\n",
       "House Under Construction                          0.000000\n",
       "5yr_Maturity Per_Mon_Chg                          0.000000\n",
       "10yr_Maturity Per_Mon_Chg                         0.000000\n",
       "30yr_Maturity Per_Mon_Chg                         0.000000\n",
       "CPI Mon_Chg                                       0.000000\n",
       "House Index Monthly Change                        0.000000\n",
       "Year                                              0.000000\n",
       "Month                                             0.000000\n",
       "Unemployment Rate                                 0.000000\n",
       "Unemployment Rate - Black or African American     0.000000\n",
       "Unemployment Rate - White                         0.000000\n",
       "Insured Unemployment Rate                         0.000000\n",
       "Number Unemployed for 27 Weeks & Over             0.000000\n",
       "EMRATIO                                           0.000000\n",
       "Personal Income                                   0.000000\n",
       "Real Personal Income                              0.000000\n",
       "Job Openings- Total Nonfarm                       4.365079\n",
       "AverageHourlySalary-Private                      29.365079\n",
       "Median Sales Price for New Houses Sold            0.000000\n",
       "Real Private Residential Fixed Investment        69.841270\n",
       "Total Construction Spending- Residential          9.523810\n",
       "Monthly Supply of Houses in the United States     0.000000\n",
       "Homeownership Rate for the United States         66.666667\n",
       "DATEYear                                          0.000000\n",
       "DATEMonth                                         0.000000\n",
       "DATEWeek                                          0.000000\n",
       "DATEDayofweek                                     0.000000\n",
       "DATEDayofyear                                     0.000000\n",
       "DATEIs_quarter_end                                0.000000\n",
       "DATEIs_quarter_start                              0.000000\n",
       "DATEIs_year_end                                   0.000000\n",
       "DATEIs_year_start                                 0.000000\n",
       "DATEElapsed                                       0.000000\n",
       "dtype: float64"
      ]
     },
     "execution_count": 62,
     "metadata": {},
     "output_type": "execute_result"
    }
   ],
   "source": [
    "df.isna().sum()/df.shape[0]*100"
   ]
  },
  {
   "cell_type": "markdown",
   "id": "enormous-inspection",
   "metadata": {},
   "source": [
    "`Real Private Residential Fixed Investment        69.841270`\n",
    "\n",
    "`Homeownership Rate for the United States         66.666667`\n",
    "\n",
    "`AverageHourlySalary-Private                      29.365079`\n",
    "\n",
    "`MORTGAGE5US_Monthly Change                       23.809524`\n",
    "\n",
    "`Total Construction Spending- Residential          9.523810`\n",
    "\n",
    "`Job Openings- Total Nonfarm                       4.365079`"
   ]
  },
  {
   "cell_type": "markdown",
   "id": "fitting-japanese",
   "metadata": {},
   "source": [
    "There are lot of missing data in some columns but for now I am going with standard preprocessing and imputing. Later on seeing the feature importance and analysis will take on decision to drop the columns."
   ]
  },
  {
   "cell_type": "markdown",
   "id": "exclusive-glory",
   "metadata": {},
   "source": [
    "Giving the numerical description of dataset. "
   ]
  },
  {
   "cell_type": "code",
   "execution_count": 65,
   "id": "invisible-repeat",
   "metadata": {
    "collapsed": true,
    "jupyter": {
     "outputs_hidden": true
    }
   },
   "outputs": [
    {
     "data": {
      "text/html": [
       "<div>\n",
       "<style scoped>\n",
       "    .dataframe tbody tr th:only-of-type {\n",
       "        vertical-align: middle;\n",
       "    }\n",
       "\n",
       "    .dataframe tbody tr th {\n",
       "        vertical-align: top;\n",
       "    }\n",
       "\n",
       "    .dataframe thead th {\n",
       "        text-align: right;\n",
       "    }\n",
       "</style>\n",
       "<table border=\"1\" class=\"dataframe\">\n",
       "  <thead>\n",
       "    <tr style=\"text-align: right;\">\n",
       "      <th></th>\n",
       "      <th>count</th>\n",
       "      <th>mean</th>\n",
       "      <th>std</th>\n",
       "      <th>min</th>\n",
       "      <th>25%</th>\n",
       "      <th>50%</th>\n",
       "      <th>75%</th>\n",
       "      <th>max</th>\n",
       "    </tr>\n",
       "  </thead>\n",
       "  <tbody>\n",
       "    <tr>\n",
       "      <th>MORTGAGE15US_Monthly Change</th>\n",
       "      <td>252.0</td>\n",
       "      <td>-2.216071e-02</td>\n",
       "      <td>1.598972e-01</td>\n",
       "      <td>-7.520000e-01</td>\n",
       "      <td>-1.088750e-01</td>\n",
       "      <td>-3.550000e-02</td>\n",
       "      <td>4.312500e-02</td>\n",
       "      <td>6.205000e-01</td>\n",
       "    </tr>\n",
       "    <tr>\n",
       "      <th>MORTGAGE30US_Monthly Change</th>\n",
       "      <td>252.0</td>\n",
       "      <td>-2.192857e-02</td>\n",
       "      <td>1.675408e-01</td>\n",
       "      <td>-8.015000e-01</td>\n",
       "      <td>-1.226250e-01</td>\n",
       "      <td>-3.850000e-02</td>\n",
       "      <td>5.625000e-02</td>\n",
       "      <td>6.315000e-01</td>\n",
       "    </tr>\n",
       "    <tr>\n",
       "      <th>MORTGAGE5US_Monthly Change</th>\n",
       "      <td>192.0</td>\n",
       "      <td>-1.171615e-02</td>\n",
       "      <td>1.142129e-01</td>\n",
       "      <td>-4.080000e-01</td>\n",
       "      <td>-7.362500e-02</td>\n",
       "      <td>-1.800000e-02</td>\n",
       "      <td>4.350000e-02</td>\n",
       "      <td>3.270000e-01</td>\n",
       "    </tr>\n",
       "    <tr>\n",
       "      <th>Rent Index Mon_Chg</th>\n",
       "      <td>252.0</td>\n",
       "      <td>3.581454e-01</td>\n",
       "      <td>1.535646e-01</td>\n",
       "      <td>-1.669500e-01</td>\n",
       "      <td>2.763900e-01</td>\n",
       "      <td>3.604200e-01</td>\n",
       "      <td>4.635150e-01</td>\n",
       "      <td>7.307900e-01</td>\n",
       "    </tr>\n",
       "    <tr>\n",
       "      <th>NASDAQCOM Mon_Chg</th>\n",
       "      <td>252.0</td>\n",
       "      <td>9.011296e-01</td>\n",
       "      <td>6.738026e+00</td>\n",
       "      <td>-2.200995e+01</td>\n",
       "      <td>-1.963723e+00</td>\n",
       "      <td>1.058660e+00</td>\n",
       "      <td>3.531090e+00</td>\n",
       "      <td>3.266588e+01</td>\n",
       "    </tr>\n",
       "    <tr>\n",
       "      <th>WILL5000 Per_Mon_Chg</th>\n",
       "      <td>252.0</td>\n",
       "      <td>5.329494e-01</td>\n",
       "      <td>4.495364e+00</td>\n",
       "      <td>-1.770616e+01</td>\n",
       "      <td>-1.917886e+00</td>\n",
       "      <td>1.067772e+00</td>\n",
       "      <td>3.411108e+00</td>\n",
       "      <td>1.313235e+01</td>\n",
       "    </tr>\n",
       "    <tr>\n",
       "      <th>House Completed</th>\n",
       "      <td>252.0</td>\n",
       "      <td>9.545357e+00</td>\n",
       "      <td>3.955034e+00</td>\n",
       "      <td>3.680000e+00</td>\n",
       "      <td>6.040000e+00</td>\n",
       "      <td>8.550000e+00</td>\n",
       "      <td>1.308250e+01</td>\n",
       "      <td>1.911000e+01</td>\n",
       "    </tr>\n",
       "    <tr>\n",
       "      <th>House Under Construction</th>\n",
       "      <td>252.0</td>\n",
       "      <td>5.393968e+00</td>\n",
       "      <td>2.126262e+00</td>\n",
       "      <td>2.350000e+00</td>\n",
       "      <td>3.440000e+00</td>\n",
       "      <td>5.200000e+00</td>\n",
       "      <td>6.890000e+00</td>\n",
       "      <td>9.900000e+00</td>\n",
       "    </tr>\n",
       "    <tr>\n",
       "      <th>5yr_Maturity Per_Mon_Chg</th>\n",
       "      <td>252.0</td>\n",
       "      <td>-4.887928e-01</td>\n",
       "      <td>1.090889e+01</td>\n",
       "      <td>-5.530303e+01</td>\n",
       "      <td>-5.634848e+00</td>\n",
       "      <td>-1.040584e+00</td>\n",
       "      <td>4.487241e+00</td>\n",
       "      <td>4.296296e+01</td>\n",
       "    </tr>\n",
       "    <tr>\n",
       "      <th>10yr_Maturity Per_Mon_Chg</th>\n",
       "      <td>252.0</td>\n",
       "      <td>-3.342945e-01</td>\n",
       "      <td>9.348693e+00</td>\n",
       "      <td>-3.805310e+01</td>\n",
       "      <td>-5.028490e+00</td>\n",
       "      <td>-2.337241e-01</td>\n",
       "      <td>4.247392e+00</td>\n",
       "      <td>3.090909e+01</td>\n",
       "    </tr>\n",
       "    <tr>\n",
       "      <th>30yr_Maturity Per_Mon_Chg</th>\n",
       "      <td>252.0</td>\n",
       "      <td>-3.953294e-01</td>\n",
       "      <td>5.365346e+00</td>\n",
       "      <td>-2.825000e+01</td>\n",
       "      <td>-2.925075e+00</td>\n",
       "      <td>-5.459549e-01</td>\n",
       "      <td>2.681090e+00</td>\n",
       "      <td>1.469649e+01</td>\n",
       "    </tr>\n",
       "    <tr>\n",
       "      <th>CPI Mon_Chg</th>\n",
       "      <td>252.0</td>\n",
       "      <td>2.162499e-01</td>\n",
       "      <td>3.711443e-01</td>\n",
       "      <td>-2.269340e+00</td>\n",
       "      <td>5.552750e-02</td>\n",
       "      <td>2.380400e-01</td>\n",
       "      <td>4.150950e-01</td>\n",
       "      <td>1.594800e+00</td>\n",
       "    </tr>\n",
       "    <tr>\n",
       "      <th>House Index Monthly Change</th>\n",
       "      <td>252.0</td>\n",
       "      <td>5.360119e-01</td>\n",
       "      <td>9.758782e-01</td>\n",
       "      <td>-2.524000e+00</td>\n",
       "      <td>2.132500e-01</td>\n",
       "      <td>6.960000e-01</td>\n",
       "      <td>1.000250e+00</td>\n",
       "      <td>3.731000e+00</td>\n",
       "    </tr>\n",
       "    <tr>\n",
       "      <th>Year</th>\n",
       "      <td>252.0</td>\n",
       "      <td>2.010000e+03</td>\n",
       "      <td>6.067351e+00</td>\n",
       "      <td>2.000000e+03</td>\n",
       "      <td>2.005000e+03</td>\n",
       "      <td>2.010000e+03</td>\n",
       "      <td>2.015000e+03</td>\n",
       "      <td>2.020000e+03</td>\n",
       "    </tr>\n",
       "    <tr>\n",
       "      <th>Month</th>\n",
       "      <td>252.0</td>\n",
       "      <td>6.500000e+00</td>\n",
       "      <td>3.458922e+00</td>\n",
       "      <td>1.000000e+00</td>\n",
       "      <td>3.750000e+00</td>\n",
       "      <td>6.500000e+00</td>\n",
       "      <td>9.250000e+00</td>\n",
       "      <td>1.200000e+01</td>\n",
       "    </tr>\n",
       "    <tr>\n",
       "      <th>Unemployment Rate</th>\n",
       "      <td>252.0</td>\n",
       "      <td>5.987302e+00</td>\n",
       "      <td>1.982070e+00</td>\n",
       "      <td>3.500000e+00</td>\n",
       "      <td>4.575000e+00</td>\n",
       "      <td>5.400000e+00</td>\n",
       "      <td>7.200000e+00</td>\n",
       "      <td>1.480000e+01</td>\n",
       "    </tr>\n",
       "    <tr>\n",
       "      <th>Unemployment Rate - Black or African American</th>\n",
       "      <td>252.0</td>\n",
       "      <td>1.043968e+01</td>\n",
       "      <td>2.981085e+00</td>\n",
       "      <td>5.200000e+00</td>\n",
       "      <td>8.200000e+00</td>\n",
       "      <td>9.950000e+00</td>\n",
       "      <td>1.237500e+01</td>\n",
       "      <td>1.680000e+01</td>\n",
       "    </tr>\n",
       "    <tr>\n",
       "      <th>Unemployment Rate - White</th>\n",
       "      <td>252.0</td>\n",
       "      <td>5.304365e+00</td>\n",
       "      <td>1.842553e+00</td>\n",
       "      <td>3.000000e+00</td>\n",
       "      <td>4.000000e+00</td>\n",
       "      <td>4.700000e+00</td>\n",
       "      <td>6.325000e+00</td>\n",
       "      <td>1.410000e+01</td>\n",
       "    </tr>\n",
       "    <tr>\n",
       "      <th>Insured Unemployment Rate</th>\n",
       "      <td>252.0</td>\n",
       "      <td>2.485496e+00</td>\n",
       "      <td>1.611900e+00</td>\n",
       "      <td>9.750000e-01</td>\n",
       "      <td>1.647500e+00</td>\n",
       "      <td>2.160000e+00</td>\n",
       "      <td>2.725000e+00</td>\n",
       "      <td>1.388000e+01</td>\n",
       "    </tr>\n",
       "    <tr>\n",
       "      <th>Number Unemployed for 27 Weeks &amp; Over</th>\n",
       "      <td>252.0</td>\n",
       "      <td>2.507837e+03</td>\n",
       "      <td>1.728780e+03</td>\n",
       "      <td>5.930000e+02</td>\n",
       "      <td>1.319500e+03</td>\n",
       "      <td>1.751500e+03</td>\n",
       "      <td>3.492750e+03</td>\n",
       "      <td>6.800000e+03</td>\n",
       "    </tr>\n",
       "    <tr>\n",
       "      <th>EMRATIO</th>\n",
       "      <td>252.0</td>\n",
       "      <td>6.075794e+01</td>\n",
       "      <td>2.202818e+00</td>\n",
       "      <td>5.130000e+01</td>\n",
       "      <td>5.887500e+01</td>\n",
       "      <td>6.050000e+01</td>\n",
       "      <td>6.270000e+01</td>\n",
       "      <td>6.470000e+01</td>\n",
       "    </tr>\n",
       "    <tr>\n",
       "      <th>Personal Income</th>\n",
       "      <td>252.0</td>\n",
       "      <td>1.327705e+04</td>\n",
       "      <td>3.239474e+03</td>\n",
       "      <td>8.396800e+03</td>\n",
       "      <td>1.049800e+04</td>\n",
       "      <td>1.265870e+04</td>\n",
       "      <td>1.584317e+04</td>\n",
       "      <td>2.109310e+04</td>\n",
       "    </tr>\n",
       "    <tr>\n",
       "      <th>Real Personal Income</th>\n",
       "      <td>252.0</td>\n",
       "      <td>1.373194e+04</td>\n",
       "      <td>1.929850e+03</td>\n",
       "      <td>1.085581e+04</td>\n",
       "      <td>1.216485e+04</td>\n",
       "      <td>1.322354e+04</td>\n",
       "      <td>1.534674e+04</td>\n",
       "      <td>1.915278e+04</td>\n",
       "    </tr>\n",
       "    <tr>\n",
       "      <th>Job Openings- Total Nonfarm</th>\n",
       "      <td>241.0</td>\n",
       "      <td>4.582651e+03</td>\n",
       "      <td>1.355579e+03</td>\n",
       "      <td>2.232000e+03</td>\n",
       "      <td>3.517000e+03</td>\n",
       "      <td>4.248000e+03</td>\n",
       "      <td>5.646000e+03</td>\n",
       "      <td>7.574000e+03</td>\n",
       "    </tr>\n",
       "    <tr>\n",
       "      <th>AverageHourlySalary-Private</th>\n",
       "      <td>178.0</td>\n",
       "      <td>2.430315e+01</td>\n",
       "      <td>2.555196e+00</td>\n",
       "      <td>2.004000e+01</td>\n",
       "      <td>2.236000e+01</td>\n",
       "      <td>2.400500e+01</td>\n",
       "      <td>2.616000e+01</td>\n",
       "      <td>3.007000e+01</td>\n",
       "    </tr>\n",
       "    <tr>\n",
       "      <th>Median Sales Price for New Houses Sold</th>\n",
       "      <td>252.0</td>\n",
       "      <td>2.492262e+05</td>\n",
       "      <td>5.154954e+04</td>\n",
       "      <td>1.601000e+05</td>\n",
       "      <td>2.146000e+05</td>\n",
       "      <td>2.398500e+05</td>\n",
       "      <td>2.971750e+05</td>\n",
       "      <td>3.566000e+05</td>\n",
       "    </tr>\n",
       "    <tr>\n",
       "      <th>Real Private Residential Fixed Investment</th>\n",
       "      <td>76.0</td>\n",
       "      <td>5.974117e+02</td>\n",
       "      <td>1.514489e+02</td>\n",
       "      <td>3.685730e+02</td>\n",
       "      <td>4.861820e+02</td>\n",
       "      <td>5.968470e+02</td>\n",
       "      <td>6.954600e+02</td>\n",
       "      <td>8.946900e+02</td>\n",
       "    </tr>\n",
       "    <tr>\n",
       "      <th>Total Construction Spending- Residential</th>\n",
       "      <td>228.0</td>\n",
       "      <td>4.456582e+05</td>\n",
       "      <td>1.277896e+05</td>\n",
       "      <td>2.443990e+05</td>\n",
       "      <td>3.361862e+05</td>\n",
       "      <td>4.540570e+05</td>\n",
       "      <td>5.493005e+05</td>\n",
       "      <td>7.132190e+05</td>\n",
       "    </tr>\n",
       "    <tr>\n",
       "      <th>Monthly Supply of Houses in the United States</th>\n",
       "      <td>252.0</td>\n",
       "      <td>5.770635e+00</td>\n",
       "      <td>1.913927e+00</td>\n",
       "      <td>3.500000e+00</td>\n",
       "      <td>4.300000e+00</td>\n",
       "      <td>5.300000e+00</td>\n",
       "      <td>6.525000e+00</td>\n",
       "      <td>1.220000e+01</td>\n",
       "    </tr>\n",
       "    <tr>\n",
       "      <th>Homeownership Rate for the United States</th>\n",
       "      <td>84.0</td>\n",
       "      <td>6.646667e+01</td>\n",
       "      <td>1.868853e+00</td>\n",
       "      <td>6.310000e+01</td>\n",
       "      <td>6.477500e+01</td>\n",
       "      <td>6.715000e+01</td>\n",
       "      <td>6.802500e+01</td>\n",
       "      <td>6.940000e+01</td>\n",
       "    </tr>\n",
       "    <tr>\n",
       "      <th>DATEYear</th>\n",
       "      <td>252.0</td>\n",
       "      <td>2.010000e+03</td>\n",
       "      <td>6.067351e+00</td>\n",
       "      <td>2.000000e+03</td>\n",
       "      <td>2.005000e+03</td>\n",
       "      <td>2.010000e+03</td>\n",
       "      <td>2.015000e+03</td>\n",
       "      <td>2.020000e+03</td>\n",
       "    </tr>\n",
       "    <tr>\n",
       "      <th>DATEMonth</th>\n",
       "      <td>252.0</td>\n",
       "      <td>6.500000e+00</td>\n",
       "      <td>3.458922e+00</td>\n",
       "      <td>1.000000e+00</td>\n",
       "      <td>3.750000e+00</td>\n",
       "      <td>6.500000e+00</td>\n",
       "      <td>9.250000e+00</td>\n",
       "      <td>1.200000e+01</td>\n",
       "    </tr>\n",
       "    <tr>\n",
       "      <th>DATEWeek</th>\n",
       "      <td>252.0</td>\n",
       "      <td>2.607540e+01</td>\n",
       "      <td>1.515045e+01</td>\n",
       "      <td>1.000000e+00</td>\n",
       "      <td>1.300000e+01</td>\n",
       "      <td>2.600000e+01</td>\n",
       "      <td>4.000000e+01</td>\n",
       "      <td>5.300000e+01</td>\n",
       "    </tr>\n",
       "    <tr>\n",
       "      <th>DATEDayofweek</th>\n",
       "      <td>252.0</td>\n",
       "      <td>3.039683e+00</td>\n",
       "      <td>2.001596e+00</td>\n",
       "      <td>0.000000e+00</td>\n",
       "      <td>1.000000e+00</td>\n",
       "      <td>3.000000e+00</td>\n",
       "      <td>5.000000e+00</td>\n",
       "      <td>6.000000e+00</td>\n",
       "    </tr>\n",
       "    <tr>\n",
       "      <th>DATEDayofyear</th>\n",
       "      <td>252.0</td>\n",
       "      <td>1.677381e+02</td>\n",
       "      <td>1.052907e+02</td>\n",
       "      <td>1.000000e+00</td>\n",
       "      <td>8.350000e+01</td>\n",
       "      <td>1.675000e+02</td>\n",
       "      <td>2.522500e+02</td>\n",
       "      <td>3.360000e+02</td>\n",
       "    </tr>\n",
       "    <tr>\n",
       "      <th>DATEElapsed</th>\n",
       "      <td>252.0</td>\n",
       "      <td>1.276698e+09</td>\n",
       "      <td>1.916853e+08</td>\n",
       "      <td>9.466848e+08</td>\n",
       "      <td>1.111644e+09</td>\n",
       "      <td>1.276646e+09</td>\n",
       "      <td>1.441714e+09</td>\n",
       "      <td>1.606781e+09</td>\n",
       "    </tr>\n",
       "  </tbody>\n",
       "</table>\n",
       "</div>"
      ],
      "text/plain": [
       "                                               count          mean  \\\n",
       "MORTGAGE15US_Monthly Change                    252.0 -2.216071e-02   \n",
       "MORTGAGE30US_Monthly Change                    252.0 -2.192857e-02   \n",
       "MORTGAGE5US_Monthly Change                     192.0 -1.171615e-02   \n",
       "Rent Index Mon_Chg                             252.0  3.581454e-01   \n",
       "NASDAQCOM Mon_Chg                              252.0  9.011296e-01   \n",
       "WILL5000 Per_Mon_Chg                           252.0  5.329494e-01   \n",
       "House Completed                                252.0  9.545357e+00   \n",
       "House Under Construction                       252.0  5.393968e+00   \n",
       "5yr_Maturity Per_Mon_Chg                       252.0 -4.887928e-01   \n",
       "10yr_Maturity Per_Mon_Chg                      252.0 -3.342945e-01   \n",
       "30yr_Maturity Per_Mon_Chg                      252.0 -3.953294e-01   \n",
       "CPI Mon_Chg                                    252.0  2.162499e-01   \n",
       "House Index Monthly Change                     252.0  5.360119e-01   \n",
       "Year                                           252.0  2.010000e+03   \n",
       "Month                                          252.0  6.500000e+00   \n",
       "Unemployment Rate                              252.0  5.987302e+00   \n",
       "Unemployment Rate - Black or African American  252.0  1.043968e+01   \n",
       "Unemployment Rate - White                      252.0  5.304365e+00   \n",
       "Insured Unemployment Rate                      252.0  2.485496e+00   \n",
       "Number Unemployed for 27 Weeks & Over          252.0  2.507837e+03   \n",
       "EMRATIO                                        252.0  6.075794e+01   \n",
       "Personal Income                                252.0  1.327705e+04   \n",
       "Real Personal Income                           252.0  1.373194e+04   \n",
       "Job Openings- Total Nonfarm                    241.0  4.582651e+03   \n",
       "AverageHourlySalary-Private                    178.0  2.430315e+01   \n",
       "Median Sales Price for New Houses Sold         252.0  2.492262e+05   \n",
       "Real Private Residential Fixed Investment       76.0  5.974117e+02   \n",
       "Total Construction Spending- Residential       228.0  4.456582e+05   \n",
       "Monthly Supply of Houses in the United States  252.0  5.770635e+00   \n",
       "Homeownership Rate for the United States        84.0  6.646667e+01   \n",
       "DATEYear                                       252.0  2.010000e+03   \n",
       "DATEMonth                                      252.0  6.500000e+00   \n",
       "DATEWeek                                       252.0  2.607540e+01   \n",
       "DATEDayofweek                                  252.0  3.039683e+00   \n",
       "DATEDayofyear                                  252.0  1.677381e+02   \n",
       "DATEElapsed                                    252.0  1.276698e+09   \n",
       "\n",
       "                                                        std           min  \\\n",
       "MORTGAGE15US_Monthly Change                    1.598972e-01 -7.520000e-01   \n",
       "MORTGAGE30US_Monthly Change                    1.675408e-01 -8.015000e-01   \n",
       "MORTGAGE5US_Monthly Change                     1.142129e-01 -4.080000e-01   \n",
       "Rent Index Mon_Chg                             1.535646e-01 -1.669500e-01   \n",
       "NASDAQCOM Mon_Chg                              6.738026e+00 -2.200995e+01   \n",
       "WILL5000 Per_Mon_Chg                           4.495364e+00 -1.770616e+01   \n",
       "House Completed                                3.955034e+00  3.680000e+00   \n",
       "House Under Construction                       2.126262e+00  2.350000e+00   \n",
       "5yr_Maturity Per_Mon_Chg                       1.090889e+01 -5.530303e+01   \n",
       "10yr_Maturity Per_Mon_Chg                      9.348693e+00 -3.805310e+01   \n",
       "30yr_Maturity Per_Mon_Chg                      5.365346e+00 -2.825000e+01   \n",
       "CPI Mon_Chg                                    3.711443e-01 -2.269340e+00   \n",
       "House Index Monthly Change                     9.758782e-01 -2.524000e+00   \n",
       "Year                                           6.067351e+00  2.000000e+03   \n",
       "Month                                          3.458922e+00  1.000000e+00   \n",
       "Unemployment Rate                              1.982070e+00  3.500000e+00   \n",
       "Unemployment Rate - Black or African American  2.981085e+00  5.200000e+00   \n",
       "Unemployment Rate - White                      1.842553e+00  3.000000e+00   \n",
       "Insured Unemployment Rate                      1.611900e+00  9.750000e-01   \n",
       "Number Unemployed for 27 Weeks & Over          1.728780e+03  5.930000e+02   \n",
       "EMRATIO                                        2.202818e+00  5.130000e+01   \n",
       "Personal Income                                3.239474e+03  8.396800e+03   \n",
       "Real Personal Income                           1.929850e+03  1.085581e+04   \n",
       "Job Openings- Total Nonfarm                    1.355579e+03  2.232000e+03   \n",
       "AverageHourlySalary-Private                    2.555196e+00  2.004000e+01   \n",
       "Median Sales Price for New Houses Sold         5.154954e+04  1.601000e+05   \n",
       "Real Private Residential Fixed Investment      1.514489e+02  3.685730e+02   \n",
       "Total Construction Spending- Residential       1.277896e+05  2.443990e+05   \n",
       "Monthly Supply of Houses in the United States  1.913927e+00  3.500000e+00   \n",
       "Homeownership Rate for the United States       1.868853e+00  6.310000e+01   \n",
       "DATEYear                                       6.067351e+00  2.000000e+03   \n",
       "DATEMonth                                      3.458922e+00  1.000000e+00   \n",
       "DATEWeek                                       1.515045e+01  1.000000e+00   \n",
       "DATEDayofweek                                  2.001596e+00  0.000000e+00   \n",
       "DATEDayofyear                                  1.052907e+02  1.000000e+00   \n",
       "DATEElapsed                                    1.916853e+08  9.466848e+08   \n",
       "\n",
       "                                                        25%           50%  \\\n",
       "MORTGAGE15US_Monthly Change                   -1.088750e-01 -3.550000e-02   \n",
       "MORTGAGE30US_Monthly Change                   -1.226250e-01 -3.850000e-02   \n",
       "MORTGAGE5US_Monthly Change                    -7.362500e-02 -1.800000e-02   \n",
       "Rent Index Mon_Chg                             2.763900e-01  3.604200e-01   \n",
       "NASDAQCOM Mon_Chg                             -1.963723e+00  1.058660e+00   \n",
       "WILL5000 Per_Mon_Chg                          -1.917886e+00  1.067772e+00   \n",
       "House Completed                                6.040000e+00  8.550000e+00   \n",
       "House Under Construction                       3.440000e+00  5.200000e+00   \n",
       "5yr_Maturity Per_Mon_Chg                      -5.634848e+00 -1.040584e+00   \n",
       "10yr_Maturity Per_Mon_Chg                     -5.028490e+00 -2.337241e-01   \n",
       "30yr_Maturity Per_Mon_Chg                     -2.925075e+00 -5.459549e-01   \n",
       "CPI Mon_Chg                                    5.552750e-02  2.380400e-01   \n",
       "House Index Monthly Change                     2.132500e-01  6.960000e-01   \n",
       "Year                                           2.005000e+03  2.010000e+03   \n",
       "Month                                          3.750000e+00  6.500000e+00   \n",
       "Unemployment Rate                              4.575000e+00  5.400000e+00   \n",
       "Unemployment Rate - Black or African American  8.200000e+00  9.950000e+00   \n",
       "Unemployment Rate - White                      4.000000e+00  4.700000e+00   \n",
       "Insured Unemployment Rate                      1.647500e+00  2.160000e+00   \n",
       "Number Unemployed for 27 Weeks & Over          1.319500e+03  1.751500e+03   \n",
       "EMRATIO                                        5.887500e+01  6.050000e+01   \n",
       "Personal Income                                1.049800e+04  1.265870e+04   \n",
       "Real Personal Income                           1.216485e+04  1.322354e+04   \n",
       "Job Openings- Total Nonfarm                    3.517000e+03  4.248000e+03   \n",
       "AverageHourlySalary-Private                    2.236000e+01  2.400500e+01   \n",
       "Median Sales Price for New Houses Sold         2.146000e+05  2.398500e+05   \n",
       "Real Private Residential Fixed Investment      4.861820e+02  5.968470e+02   \n",
       "Total Construction Spending- Residential       3.361862e+05  4.540570e+05   \n",
       "Monthly Supply of Houses in the United States  4.300000e+00  5.300000e+00   \n",
       "Homeownership Rate for the United States       6.477500e+01  6.715000e+01   \n",
       "DATEYear                                       2.005000e+03  2.010000e+03   \n",
       "DATEMonth                                      3.750000e+00  6.500000e+00   \n",
       "DATEWeek                                       1.300000e+01  2.600000e+01   \n",
       "DATEDayofweek                                  1.000000e+00  3.000000e+00   \n",
       "DATEDayofyear                                  8.350000e+01  1.675000e+02   \n",
       "DATEElapsed                                    1.111644e+09  1.276646e+09   \n",
       "\n",
       "                                                        75%           max  \n",
       "MORTGAGE15US_Monthly Change                    4.312500e-02  6.205000e-01  \n",
       "MORTGAGE30US_Monthly Change                    5.625000e-02  6.315000e-01  \n",
       "MORTGAGE5US_Monthly Change                     4.350000e-02  3.270000e-01  \n",
       "Rent Index Mon_Chg                             4.635150e-01  7.307900e-01  \n",
       "NASDAQCOM Mon_Chg                              3.531090e+00  3.266588e+01  \n",
       "WILL5000 Per_Mon_Chg                           3.411108e+00  1.313235e+01  \n",
       "House Completed                                1.308250e+01  1.911000e+01  \n",
       "House Under Construction                       6.890000e+00  9.900000e+00  \n",
       "5yr_Maturity Per_Mon_Chg                       4.487241e+00  4.296296e+01  \n",
       "10yr_Maturity Per_Mon_Chg                      4.247392e+00  3.090909e+01  \n",
       "30yr_Maturity Per_Mon_Chg                      2.681090e+00  1.469649e+01  \n",
       "CPI Mon_Chg                                    4.150950e-01  1.594800e+00  \n",
       "House Index Monthly Change                     1.000250e+00  3.731000e+00  \n",
       "Year                                           2.015000e+03  2.020000e+03  \n",
       "Month                                          9.250000e+00  1.200000e+01  \n",
       "Unemployment Rate                              7.200000e+00  1.480000e+01  \n",
       "Unemployment Rate - Black or African American  1.237500e+01  1.680000e+01  \n",
       "Unemployment Rate - White                      6.325000e+00  1.410000e+01  \n",
       "Insured Unemployment Rate                      2.725000e+00  1.388000e+01  \n",
       "Number Unemployed for 27 Weeks & Over          3.492750e+03  6.800000e+03  \n",
       "EMRATIO                                        6.270000e+01  6.470000e+01  \n",
       "Personal Income                                1.584317e+04  2.109310e+04  \n",
       "Real Personal Income                           1.534674e+04  1.915278e+04  \n",
       "Job Openings- Total Nonfarm                    5.646000e+03  7.574000e+03  \n",
       "AverageHourlySalary-Private                    2.616000e+01  3.007000e+01  \n",
       "Median Sales Price for New Houses Sold         2.971750e+05  3.566000e+05  \n",
       "Real Private Residential Fixed Investment      6.954600e+02  8.946900e+02  \n",
       "Total Construction Spending- Residential       5.493005e+05  7.132190e+05  \n",
       "Monthly Supply of Houses in the United States  6.525000e+00  1.220000e+01  \n",
       "Homeownership Rate for the United States       6.802500e+01  6.940000e+01  \n",
       "DATEYear                                       2.015000e+03  2.020000e+03  \n",
       "DATEMonth                                      9.250000e+00  1.200000e+01  \n",
       "DATEWeek                                       4.000000e+01  5.300000e+01  \n",
       "DATEDayofweek                                  5.000000e+00  6.000000e+00  \n",
       "DATEDayofyear                                  2.522500e+02  3.360000e+02  \n",
       "DATEElapsed                                    1.441714e+09  1.606781e+09  "
      ]
     },
     "execution_count": 65,
     "metadata": {},
     "output_type": "execute_result"
    }
   ],
   "source": [
    "df.describe().T"
   ]
  },
  {
   "cell_type": "markdown",
   "id": "meaningful-button",
   "metadata": {},
   "source": [
    "Lets round of all the values to 3 decimal points. "
   ]
  },
  {
   "cell_type": "code",
   "execution_count": 66,
   "id": "intensive-society",
   "metadata": {},
   "outputs": [],
   "source": [
    "df = df.round(3)"
   ]
  },
  {
   "cell_type": "markdown",
   "id": "conservative-latitude",
   "metadata": {},
   "source": [
    "Dividing the columns in categorical or continous. The division strategy is to put the coulumns with cardinality 10 or less into categorical."
   ]
  },
  {
   "cell_type": "code",
   "execution_count": 71,
   "id": "hazardous-politics",
   "metadata": {},
   "outputs": [],
   "source": [
    "cont,cat = cont_cat_split(df, 10, dep_var=to_pred)"
   ]
  },
  {
   "cell_type": "code",
   "execution_count": 74,
   "id": "irish-portugal",
   "metadata": {},
   "outputs": [],
   "source": [
    "procs = [Categorify, FillMissing]"
   ]
  },
  {
   "cell_type": "code",
   "execution_count": 81,
   "id": "alive-snake",
   "metadata": {},
   "outputs": [],
   "source": [
    "cond = df.DATEYear < 2018\n",
    "train_idx = np.where(cond)[0]\n",
    "val_idx = np.where(~cond)[0]"
   ]
  },
  {
   "cell_type": "code",
   "execution_count": 82,
   "id": "caroline-alpha",
   "metadata": {},
   "outputs": [],
   "source": [
    "splits = (list(train_idx), list(val_idx))"
   ]
  },
  {
   "cell_type": "code",
   "execution_count": 83,
   "id": "resident-ordinary",
   "metadata": {},
   "outputs": [],
   "source": [
    "to = TabularPandas(df, procs, cat, cont, y_names=to_pred, splits=splits)"
   ]
  },
  {
   "cell_type": "code",
   "execution_count": 84,
   "id": "sensitive-booking",
   "metadata": {},
   "outputs": [
    {
     "data": {
      "text/plain": [
       "(216, 36)"
      ]
     },
     "execution_count": 84,
     "metadata": {},
     "output_type": "execute_result"
    }
   ],
   "source": [
    "len(to.train), len(to.valid)"
   ]
  },
  {
   "cell_type": "code",
   "execution_count": 96,
   "id": "excessive-purpose",
   "metadata": {
    "collapsed": true,
    "jupyter": {
     "outputs_hidden": true
    }
   },
   "outputs": [
    {
     "data": {
      "text/plain": [
       "MORTGAGE15US_Monthly Change                      0\n",
       "MORTGAGE30US_Monthly Change                      0\n",
       "MORTGAGE5US_Monthly Change                       0\n",
       "Rent Index Mon_Chg                               0\n",
       "NASDAQCOM Mon_Chg                                0\n",
       "WILL5000 Per_Mon_Chg                             0\n",
       "House Completed                                  0\n",
       "House Under Construction                         0\n",
       "5yr_Maturity Per_Mon_Chg                         0\n",
       "10yr_Maturity Per_Mon_Chg                        0\n",
       "30yr_Maturity Per_Mon_Chg                        0\n",
       "CPI Mon_Chg                                      0\n",
       "House Index Monthly Change                       0\n",
       "Year                                             0\n",
       "Month                                            0\n",
       "Unemployment Rate                                0\n",
       "Unemployment Rate - Black or African American    0\n",
       "Unemployment Rate - White                        0\n",
       "Insured Unemployment Rate                        0\n",
       "Number Unemployed for 27 Weeks & Over            0\n",
       "EMRATIO                                          0\n",
       "Personal Income                                  0\n",
       "Real Personal Income                             0\n",
       "Job Openings- Total Nonfarm                      0\n",
       "AverageHourlySalary-Private                      0\n",
       "Median Sales Price for New Houses Sold           0\n",
       "Real Private Residential Fixed Investment        0\n",
       "Total Construction Spending- Residential         0\n",
       "Monthly Supply of Houses in the United States    0\n",
       "Homeownership Rate for the United States         0\n",
       "DATEYear                                         0\n",
       "DATEMonth                                        0\n",
       "DATEWeek                                         0\n",
       "DATEDayofweek                                    0\n",
       "DATEDayofyear                                    0\n",
       "DATEIs_quarter_end                               0\n",
       "DATEIs_quarter_start                             0\n",
       "DATEIs_year_end                                  0\n",
       "DATEIs_year_start                                0\n",
       "DATEElapsed                                      0\n",
       "MORTGAGE5US_Monthly Change_na                    0\n",
       "Job Openings- Total Nonfarm_na                   0\n",
       "AverageHourlySalary-Private_na                   0\n",
       "Real Private Residential Fixed Investment_na     0\n",
       "Total Construction Spending- Residential_na      0\n",
       "Homeownership Rate for the United States_na      0\n",
       "dtype: int64"
      ]
     },
     "execution_count": 96,
     "metadata": {},
     "output_type": "execute_result"
    }
   ],
   "source": [
    "to.items.isna().sum()"
   ]
  },
  {
   "cell_type": "code",
   "execution_count": 97,
   "id": "helpful-algorithm",
   "metadata": {
    "collapsed": true,
    "jupyter": {
     "outputs_hidden": true
    }
   },
   "outputs": [
    {
     "data": {
      "text/html": [
       "<table border=\"1\" class=\"dataframe\">\n",
       "  <thead>\n",
       "    <tr style=\"text-align: right;\">\n",
       "      <th></th>\n",
       "      <th>DATEDayofweek</th>\n",
       "      <th>DATEIs_quarter_end</th>\n",
       "      <th>DATEIs_quarter_start</th>\n",
       "      <th>DATEIs_year_end</th>\n",
       "      <th>DATEIs_year_start</th>\n",
       "      <th>MORTGAGE5US_Monthly Change_na</th>\n",
       "      <th>Job Openings- Total Nonfarm_na</th>\n",
       "      <th>AverageHourlySalary-Private_na</th>\n",
       "      <th>Real Private Residential Fixed Investment_na</th>\n",
       "      <th>Total Construction Spending- Residential_na</th>\n",
       "      <th>Homeownership Rate for the United States_na</th>\n",
       "      <th>MORTGAGE15US_Monthly Change</th>\n",
       "      <th>MORTGAGE30US_Monthly Change</th>\n",
       "      <th>MORTGAGE5US_Monthly Change</th>\n",
       "      <th>Rent Index Mon_Chg</th>\n",
       "      <th>NASDAQCOM Mon_Chg</th>\n",
       "      <th>WILL5000 Per_Mon_Chg</th>\n",
       "      <th>House Completed</th>\n",
       "      <th>House Under Construction</th>\n",
       "      <th>5yr_Maturity Per_Mon_Chg</th>\n",
       "      <th>10yr_Maturity Per_Mon_Chg</th>\n",
       "      <th>30yr_Maturity Per_Mon_Chg</th>\n",
       "      <th>CPI Mon_Chg</th>\n",
       "      <th>Year</th>\n",
       "      <th>Month</th>\n",
       "      <th>Unemployment Rate</th>\n",
       "      <th>Unemployment Rate - Black or African American</th>\n",
       "      <th>Unemployment Rate - White</th>\n",
       "      <th>Insured Unemployment Rate</th>\n",
       "      <th>Number Unemployed for 27 Weeks &amp; Over</th>\n",
       "      <th>EMRATIO</th>\n",
       "      <th>Personal Income</th>\n",
       "      <th>Real Personal Income</th>\n",
       "      <th>Job Openings- Total Nonfarm</th>\n",
       "      <th>AverageHourlySalary-Private</th>\n",
       "      <th>Median Sales Price for New Houses Sold</th>\n",
       "      <th>Real Private Residential Fixed Investment</th>\n",
       "      <th>Total Construction Spending- Residential</th>\n",
       "      <th>Monthly Supply of Houses in the United States</th>\n",
       "      <th>Homeownership Rate for the United States</th>\n",
       "      <th>DATEYear</th>\n",
       "      <th>DATEMonth</th>\n",
       "      <th>DATEWeek</th>\n",
       "      <th>DATEDayofyear</th>\n",
       "      <th>DATEElapsed</th>\n",
       "      <th>House Index Monthly Change</th>\n",
       "    </tr>\n",
       "  </thead>\n",
       "  <tbody>\n",
       "    <tr>\n",
       "      <th>0</th>\n",
       "      <td>5</td>\n",
       "      <td>False</td>\n",
       "      <td>True</td>\n",
       "      <td>False</td>\n",
       "      <td>True</td>\n",
       "      <td>False</td>\n",
       "      <td>True</td>\n",
       "      <td>True</td>\n",
       "      <td>True</td>\n",
       "      <td>True</td>\n",
       "      <td>False</td>\n",
       "      <td>0.000</td>\n",
       "      <td>0.000</td>\n",
       "      <td>0.000</td>\n",
       "      <td>0.000</td>\n",
       "      <td>0.000000</td>\n",
       "      <td>0.000</td>\n",
       "      <td>12.62</td>\n",
       "      <td>6.79</td>\n",
       "      <td>0.000</td>\n",
       "      <td>0.000</td>\n",
       "      <td>0.000</td>\n",
       "      <td>0.000</td>\n",
       "      <td>2000</td>\n",
       "      <td>1</td>\n",
       "      <td>4.0</td>\n",
       "      <td>8.2</td>\n",
       "      <td>3.4</td>\n",
       "      <td>2.160</td>\n",
       "      <td>721</td>\n",
       "      <td>64.599998</td>\n",
       "      <td>8396.799805</td>\n",
       "      <td>10855.813477</td>\n",
       "      <td>4044.0</td>\n",
       "      <td>23.255001</td>\n",
       "      <td>163500.0</td>\n",
       "      <td>580.498535</td>\n",
       "      <td>414805.0</td>\n",
       "      <td>4.3</td>\n",
       "      <td>67.099998</td>\n",
       "      <td>2000</td>\n",
       "      <td>1</td>\n",
       "      <td>52</td>\n",
       "      <td>1</td>\n",
       "      <td>946684800.0</td>\n",
       "      <td>0.000</td>\n",
       "    </tr>\n",
       "    <tr>\n",
       "      <th>1</th>\n",
       "      <td>1</td>\n",
       "      <td>False</td>\n",
       "      <td>False</td>\n",
       "      <td>False</td>\n",
       "      <td>False</td>\n",
       "      <td>True</td>\n",
       "      <td>True</td>\n",
       "      <td>True</td>\n",
       "      <td>True</td>\n",
       "      <td>True</td>\n",
       "      <td>True</td>\n",
       "      <td>0.130</td>\n",
       "      <td>0.115</td>\n",
       "      <td>-0.018</td>\n",
       "      <td>0.221</td>\n",
       "      <td>19.195000</td>\n",
       "      <td>2.119</td>\n",
       "      <td>13.26</td>\n",
       "      <td>6.78</td>\n",
       "      <td>1.520</td>\n",
       "      <td>-3.892</td>\n",
       "      <td>-6.033</td>\n",
       "      <td>0.413</td>\n",
       "      <td>2000</td>\n",
       "      <td>2</td>\n",
       "      <td>4.1</td>\n",
       "      <td>8.1</td>\n",
       "      <td>3.6</td>\n",
       "      <td>2.075</td>\n",
       "      <td>629</td>\n",
       "      <td>64.599998</td>\n",
       "      <td>8458.000000</td>\n",
       "      <td>10899.897461</td>\n",
       "      <td>4044.0</td>\n",
       "      <td>23.255001</td>\n",
       "      <td>162400.0</td>\n",
       "      <td>580.498535</td>\n",
       "      <td>414805.0</td>\n",
       "      <td>4.3</td>\n",
       "      <td>67.400002</td>\n",
       "      <td>2000</td>\n",
       "      <td>2</td>\n",
       "      <td>5</td>\n",
       "      <td>32</td>\n",
       "      <td>949363200.0</td>\n",
       "      <td>0.787</td>\n",
       "    </tr>\n",
       "    <tr>\n",
       "      <th>2</th>\n",
       "      <td>2</td>\n",
       "      <td>False</td>\n",
       "      <td>False</td>\n",
       "      <td>False</td>\n",
       "      <td>False</td>\n",
       "      <td>True</td>\n",
       "      <td>True</td>\n",
       "      <td>True</td>\n",
       "      <td>True</td>\n",
       "      <td>True</td>\n",
       "      <td>True</td>\n",
       "      <td>-0.101</td>\n",
       "      <td>-0.085</td>\n",
       "      <td>-0.018</td>\n",
       "      <td>0.332</td>\n",
       "      <td>-3.143000</td>\n",
       "      <td>5.811</td>\n",
       "      <td>13.12</td>\n",
       "      <td>6.75</td>\n",
       "      <td>-2.695</td>\n",
       "      <td>-6.075</td>\n",
       "      <td>-2.889</td>\n",
       "      <td>0.591</td>\n",
       "      <td>2000</td>\n",
       "      <td>3</td>\n",
       "      <td>4.0</td>\n",
       "      <td>7.4</td>\n",
       "      <td>3.5</td>\n",
       "      <td>1.950</td>\n",
       "      <td>646</td>\n",
       "      <td>64.599998</td>\n",
       "      <td>8516.900391</td>\n",
       "      <td>10929.236328</td>\n",
       "      <td>4044.0</td>\n",
       "      <td>23.255001</td>\n",
       "      <td>165100.0</td>\n",
       "      <td>580.498535</td>\n",
       "      <td>414805.0</td>\n",
       "      <td>4.3</td>\n",
       "      <td>67.400002</td>\n",
       "      <td>2000</td>\n",
       "      <td>3</td>\n",
       "      <td>9</td>\n",
       "      <td>61</td>\n",
       "      <td>951868800.0</td>\n",
       "      <td>0.788</td>\n",
       "    </tr>\n",
       "    <tr>\n",
       "      <th>3</th>\n",
       "      <td>5</td>\n",
       "      <td>False</td>\n",
       "      <td>True</td>\n",
       "      <td>False</td>\n",
       "      <td>False</td>\n",
       "      <td>True</td>\n",
       "      <td>True</td>\n",
       "      <td>True</td>\n",
       "      <td>True</td>\n",
       "      <td>True</td>\n",
       "      <td>False</td>\n",
       "      <td>-0.032</td>\n",
       "      <td>-0.088</td>\n",
       "      <td>-0.018</td>\n",
       "      <td>0.221</td>\n",
       "      <td>-18.073999</td>\n",
       "      <td>-5.277</td>\n",
       "      <td>13.07</td>\n",
       "      <td>6.72</td>\n",
       "      <td>-3.692</td>\n",
       "      <td>3.317</td>\n",
       "      <td>-3.306</td>\n",
       "      <td>-0.059</td>\n",
       "      <td>2000</td>\n",
       "      <td>4</td>\n",
       "      <td>3.8</td>\n",
       "      <td>7.0</td>\n",
       "      <td>3.4</td>\n",
       "      <td>1.640</td>\n",
       "      <td>599</td>\n",
       "      <td>64.699997</td>\n",
       "      <td>8551.400391</td>\n",
       "      <td>10984.370117</td>\n",
       "      <td>4044.0</td>\n",
       "      <td>23.255001</td>\n",
       "      <td>162600.0</td>\n",
       "      <td>580.498535</td>\n",
       "      <td>414805.0</td>\n",
       "      <td>4.4</td>\n",
       "      <td>67.300003</td>\n",
       "      <td>2000</td>\n",
       "      <td>4</td>\n",
       "      <td>13</td>\n",
       "      <td>92</td>\n",
       "      <td>954547200.0</td>\n",
       "      <td>0.795</td>\n",
       "    </tr>\n",
       "    <tr>\n",
       "      <th>4</th>\n",
       "      <td>0</td>\n",
       "      <td>False</td>\n",
       "      <td>False</td>\n",
       "      <td>False</td>\n",
       "      <td>False</td>\n",
       "      <td>True</td>\n",
       "      <td>True</td>\n",
       "      <td>True</td>\n",
       "      <td>True</td>\n",
       "      <td>True</td>\n",
       "      <td>True</td>\n",
       "      <td>0.382</td>\n",
       "      <td>0.363</td>\n",
       "      <td>-0.018</td>\n",
       "      <td>0.276</td>\n",
       "      <td>-11.668000</td>\n",
       "      <td>-3.609</td>\n",
       "      <td>13.34</td>\n",
       "      <td>6.66</td>\n",
       "      <td>6.869</td>\n",
       "      <td>0.963</td>\n",
       "      <td>5.128</td>\n",
       "      <td>0.177</td>\n",
       "      <td>2000</td>\n",
       "      <td>5</td>\n",
       "      <td>4.0</td>\n",
       "      <td>7.7</td>\n",
       "      <td>3.5</td>\n",
       "      <td>1.450</td>\n",
       "      <td>643</td>\n",
       "      <td>64.400002</td>\n",
       "      <td>8586.799805</td>\n",
       "      <td>11021.996094</td>\n",
       "      <td>4044.0</td>\n",
       "      <td>23.255001</td>\n",
       "      <td>164700.0</td>\n",
       "      <td>580.498535</td>\n",
       "      <td>414805.0</td>\n",
       "      <td>4.4</td>\n",
       "      <td>67.400002</td>\n",
       "      <td>2000</td>\n",
       "      <td>5</td>\n",
       "      <td>18</td>\n",
       "      <td>122</td>\n",
       "      <td>957139200.0</td>\n",
       "      <td>0.755</td>\n",
       "    </tr>\n",
       "  </tbody>\n",
       "</table>"
      ],
      "text/plain": [
       "<IPython.core.display.HTML object>"
      ]
     },
     "metadata": {},
     "output_type": "display_data"
    }
   ],
   "source": [
    "to.show(5)"
   ]
  },
  {
   "cell_type": "markdown",
   "id": "federal-massage",
   "metadata": {},
   "source": [
    "All the missing values had been filled with Median.\n",
    "We are still seeing the Categorical Values but underline they are transformed into numeric."
   ]
  },
  {
   "cell_type": "code",
   "execution_count": 93,
   "id": "hourly-perth",
   "metadata": {
    "collapsed": true,
    "jupyter": {
     "outputs_hidden": true
    }
   },
   "outputs": [
    {
     "data": {
      "text/html": [
       "<div>\n",
       "<style scoped>\n",
       "    .dataframe tbody tr th:only-of-type {\n",
       "        vertical-align: middle;\n",
       "    }\n",
       "\n",
       "    .dataframe tbody tr th {\n",
       "        vertical-align: top;\n",
       "    }\n",
       "\n",
       "    .dataframe thead th {\n",
       "        text-align: right;\n",
       "    }\n",
       "</style>\n",
       "<table border=\"1\" class=\"dataframe\">\n",
       "  <thead>\n",
       "    <tr style=\"text-align: right;\">\n",
       "      <th></th>\n",
       "      <th>MORTGAGE15US_Monthly Change</th>\n",
       "      <th>MORTGAGE30US_Monthly Change</th>\n",
       "      <th>MORTGAGE5US_Monthly Change</th>\n",
       "      <th>Rent Index Mon_Chg</th>\n",
       "      <th>NASDAQCOM Mon_Chg</th>\n",
       "      <th>WILL5000 Per_Mon_Chg</th>\n",
       "      <th>House Completed</th>\n",
       "      <th>House Under Construction</th>\n",
       "      <th>5yr_Maturity Per_Mon_Chg</th>\n",
       "      <th>10yr_Maturity Per_Mon_Chg</th>\n",
       "      <th>...</th>\n",
       "      <th>DATEIs_quarter_start</th>\n",
       "      <th>DATEIs_year_end</th>\n",
       "      <th>DATEIs_year_start</th>\n",
       "      <th>DATEElapsed</th>\n",
       "      <th>MORTGAGE5US_Monthly Change_na</th>\n",
       "      <th>Job Openings- Total Nonfarm_na</th>\n",
       "      <th>AverageHourlySalary-Private_na</th>\n",
       "      <th>Real Private Residential Fixed Investment_na</th>\n",
       "      <th>Total Construction Spending- Residential_na</th>\n",
       "      <th>Homeownership Rate for the United States_na</th>\n",
       "    </tr>\n",
       "  </thead>\n",
       "  <tbody>\n",
       "    <tr>\n",
       "      <th>0</th>\n",
       "      <td>0.000</td>\n",
       "      <td>0.000</td>\n",
       "      <td>0.000</td>\n",
       "      <td>0.000</td>\n",
       "      <td>0.000000</td>\n",
       "      <td>0.000</td>\n",
       "      <td>12.62</td>\n",
       "      <td>6.79</td>\n",
       "      <td>0.000</td>\n",
       "      <td>0.000</td>\n",
       "      <td>...</td>\n",
       "      <td>2</td>\n",
       "      <td>1</td>\n",
       "      <td>2</td>\n",
       "      <td>946684800.0</td>\n",
       "      <td>1</td>\n",
       "      <td>2</td>\n",
       "      <td>2</td>\n",
       "      <td>2</td>\n",
       "      <td>2</td>\n",
       "      <td>1</td>\n",
       "    </tr>\n",
       "    <tr>\n",
       "      <th>1</th>\n",
       "      <td>0.130</td>\n",
       "      <td>0.115</td>\n",
       "      <td>-0.018</td>\n",
       "      <td>0.221</td>\n",
       "      <td>19.195000</td>\n",
       "      <td>2.119</td>\n",
       "      <td>13.26</td>\n",
       "      <td>6.78</td>\n",
       "      <td>1.520</td>\n",
       "      <td>-3.892</td>\n",
       "      <td>...</td>\n",
       "      <td>1</td>\n",
       "      <td>1</td>\n",
       "      <td>1</td>\n",
       "      <td>949363200.0</td>\n",
       "      <td>2</td>\n",
       "      <td>2</td>\n",
       "      <td>2</td>\n",
       "      <td>2</td>\n",
       "      <td>2</td>\n",
       "      <td>2</td>\n",
       "    </tr>\n",
       "    <tr>\n",
       "      <th>2</th>\n",
       "      <td>-0.101</td>\n",
       "      <td>-0.085</td>\n",
       "      <td>-0.018</td>\n",
       "      <td>0.332</td>\n",
       "      <td>-3.143000</td>\n",
       "      <td>5.811</td>\n",
       "      <td>13.12</td>\n",
       "      <td>6.75</td>\n",
       "      <td>-2.695</td>\n",
       "      <td>-6.075</td>\n",
       "      <td>...</td>\n",
       "      <td>1</td>\n",
       "      <td>1</td>\n",
       "      <td>1</td>\n",
       "      <td>951868800.0</td>\n",
       "      <td>2</td>\n",
       "      <td>2</td>\n",
       "      <td>2</td>\n",
       "      <td>2</td>\n",
       "      <td>2</td>\n",
       "      <td>2</td>\n",
       "    </tr>\n",
       "    <tr>\n",
       "      <th>3</th>\n",
       "      <td>-0.032</td>\n",
       "      <td>-0.088</td>\n",
       "      <td>-0.018</td>\n",
       "      <td>0.221</td>\n",
       "      <td>-18.073999</td>\n",
       "      <td>-5.277</td>\n",
       "      <td>13.07</td>\n",
       "      <td>6.72</td>\n",
       "      <td>-3.692</td>\n",
       "      <td>3.317</td>\n",
       "      <td>...</td>\n",
       "      <td>2</td>\n",
       "      <td>1</td>\n",
       "      <td>1</td>\n",
       "      <td>954547200.0</td>\n",
       "      <td>2</td>\n",
       "      <td>2</td>\n",
       "      <td>2</td>\n",
       "      <td>2</td>\n",
       "      <td>2</td>\n",
       "      <td>1</td>\n",
       "    </tr>\n",
       "    <tr>\n",
       "      <th>4</th>\n",
       "      <td>0.382</td>\n",
       "      <td>0.363</td>\n",
       "      <td>-0.018</td>\n",
       "      <td>0.276</td>\n",
       "      <td>-11.668000</td>\n",
       "      <td>-3.609</td>\n",
       "      <td>13.34</td>\n",
       "      <td>6.66</td>\n",
       "      <td>6.869</td>\n",
       "      <td>0.963</td>\n",
       "      <td>...</td>\n",
       "      <td>1</td>\n",
       "      <td>1</td>\n",
       "      <td>1</td>\n",
       "      <td>957139200.0</td>\n",
       "      <td>2</td>\n",
       "      <td>2</td>\n",
       "      <td>2</td>\n",
       "      <td>2</td>\n",
       "      <td>2</td>\n",
       "      <td>2</td>\n",
       "    </tr>\n",
       "  </tbody>\n",
       "</table>\n",
       "<p>5 rows × 46 columns</p>\n",
       "</div>"
      ],
      "text/plain": [
       "   MORTGAGE15US_Monthly Change  MORTGAGE30US_Monthly Change  \\\n",
       "0                        0.000                        0.000   \n",
       "1                        0.130                        0.115   \n",
       "2                       -0.101                       -0.085   \n",
       "3                       -0.032                       -0.088   \n",
       "4                        0.382                        0.363   \n",
       "\n",
       "   MORTGAGE5US_Monthly Change  Rent Index Mon_Chg  NASDAQCOM Mon_Chg  \\\n",
       "0                       0.000               0.000           0.000000   \n",
       "1                      -0.018               0.221          19.195000   \n",
       "2                      -0.018               0.332          -3.143000   \n",
       "3                      -0.018               0.221         -18.073999   \n",
       "4                      -0.018               0.276         -11.668000   \n",
       "\n",
       "   WILL5000 Per_Mon_Chg  House Completed  House Under Construction  \\\n",
       "0                 0.000            12.62                      6.79   \n",
       "1                 2.119            13.26                      6.78   \n",
       "2                 5.811            13.12                      6.75   \n",
       "3                -5.277            13.07                      6.72   \n",
       "4                -3.609            13.34                      6.66   \n",
       "\n",
       "   5yr_Maturity Per_Mon_Chg  10yr_Maturity Per_Mon_Chg  ...  \\\n",
       "0                     0.000                      0.000  ...   \n",
       "1                     1.520                     -3.892  ...   \n",
       "2                    -2.695                     -6.075  ...   \n",
       "3                    -3.692                      3.317  ...   \n",
       "4                     6.869                      0.963  ...   \n",
       "\n",
       "   DATEIs_quarter_start  DATEIs_year_end  DATEIs_year_start  DATEElapsed  \\\n",
       "0                     2                1                  2  946684800.0   \n",
       "1                     1                1                  1  949363200.0   \n",
       "2                     1                1                  1  951868800.0   \n",
       "3                     2                1                  1  954547200.0   \n",
       "4                     1                1                  1  957139200.0   \n",
       "\n",
       "   MORTGAGE5US_Monthly Change_na  Job Openings- Total Nonfarm_na  \\\n",
       "0                              1                               2   \n",
       "1                              2                               2   \n",
       "2                              2                               2   \n",
       "3                              2                               2   \n",
       "4                              2                               2   \n",
       "\n",
       "   AverageHourlySalary-Private_na  \\\n",
       "0                               2   \n",
       "1                               2   \n",
       "2                               2   \n",
       "3                               2   \n",
       "4                               2   \n",
       "\n",
       "   Real Private Residential Fixed Investment_na  \\\n",
       "0                                             2   \n",
       "1                                             2   \n",
       "2                                             2   \n",
       "3                                             2   \n",
       "4                                             2   \n",
       "\n",
       "   Total Construction Spending- Residential_na  \\\n",
       "0                                            2   \n",
       "1                                            2   \n",
       "2                                            2   \n",
       "3                                            2   \n",
       "4                                            2   \n",
       "\n",
       "   Homeownership Rate for the United States_na  \n",
       "0                                            1  \n",
       "1                                            2  \n",
       "2                                            2  \n",
       "3                                            1  \n",
       "4                                            2  \n",
       "\n",
       "[5 rows x 46 columns]"
      ]
     },
     "execution_count": 93,
     "metadata": {},
     "output_type": "execute_result"
    }
   ],
   "source": [
    "to.items.head(5)"
   ]
  },
  {
   "cell_type": "code",
   "execution_count": 103,
   "id": "meaning-humanity",
   "metadata": {},
   "outputs": [],
   "source": [
    "xs, y = to.train.xs, to.train.y\n",
    "valid_xs, valid_y = to.valid.xs, to.valid.y"
   ]
  },
  {
   "cell_type": "code",
   "execution_count": 336,
   "id": "committed-decrease",
   "metadata": {},
   "outputs": [],
   "source": [
    "to.items.to_pickle(\"finalDataset.pkl\")"
   ]
  },
  {
   "cell_type": "markdown",
   "id": "premium-cooking",
   "metadata": {},
   "source": [
    "## Decision Tree with default values"
   ]
  },
  {
   "cell_type": "code",
   "execution_count": 104,
   "id": "musical-charleston",
   "metadata": {},
   "outputs": [],
   "source": [
    "m = DecisionTreeRegressor()"
   ]
  },
  {
   "cell_type": "code",
   "execution_count": 105,
   "id": "junior-characterization",
   "metadata": {},
   "outputs": [
    {
     "data": {
      "text/plain": [
       "DecisionTreeRegressor()"
      ]
     },
     "execution_count": 105,
     "metadata": {},
     "output_type": "execute_result"
    }
   ],
   "source": [
    "m.fit(xs, y)"
   ]
  },
  {
   "cell_type": "code",
   "execution_count": 106,
   "id": "small-designation",
   "metadata": {},
   "outputs": [],
   "source": [
    "def r_mse(pred, y):\n",
    "    return round(np.sqrt(((pred-y)**2).mean()), 6)"
   ]
  },
  {
   "cell_type": "code",
   "execution_count": 107,
   "id": "failing-experience",
   "metadata": {},
   "outputs": [],
   "source": [
    "def m_rmse(m, xs, y):\n",
    "    return r_mse(m.predict(xs), y)"
   ]
  },
  {
   "cell_type": "code",
   "execution_count": 108,
   "id": "suspected-updating",
   "metadata": {},
   "outputs": [
    {
     "data": {
      "text/plain": [
       "0.0"
      ]
     },
     "execution_count": 108,
     "metadata": {},
     "output_type": "execute_result"
    }
   ],
   "source": [
    "m_rmse(m, xs, y)"
   ]
  },
  {
   "cell_type": "code",
   "execution_count": 109,
   "id": "freelance-introduction",
   "metadata": {},
   "outputs": [
    {
     "data": {
      "text/plain": [
       "1.013711"
      ]
     },
     "execution_count": 109,
     "metadata": {},
     "output_type": "execute_result"
    }
   ],
   "source": [
    "m_rmse(m, valid_xs, valid_y)"
   ]
  },
  {
   "cell_type": "code",
   "execution_count": 111,
   "id": "republican-revelation",
   "metadata": {},
   "outputs": [
    {
     "data": {
      "text/plain": [
       "(215, 216)"
      ]
     },
     "execution_count": 111,
     "metadata": {},
     "output_type": "execute_result"
    }
   ],
   "source": [
    "m.get_n_leaves(), len(xs)"
   ]
  },
  {
   "cell_type": "markdown",
   "id": "front-spectacular",
   "metadata": {},
   "source": [
    "We have nearly as many leaf nodes as data points!\n",
    "We can see that when we were going with default values and we are not passing in any stopping criteria such as max_leaf_nodes. Its overfitting badly."
   ]
  },
  {
   "cell_type": "code",
   "execution_count": 222,
   "id": "changed-juice",
   "metadata": {},
   "outputs": [],
   "source": [
    "m2 = DecisionTreeRegressor(min_samples_leaf=1, random_state=42)"
   ]
  },
  {
   "cell_type": "code",
   "execution_count": 223,
   "id": "welcome-backup",
   "metadata": {},
   "outputs": [
    {
     "data": {
      "text/plain": [
       "DecisionTreeRegressor(max_depth=10, min_samples_leaf=68, random_state=42)"
      ]
     },
     "execution_count": 223,
     "metadata": {},
     "output_type": "execute_result"
    }
   ],
   "source": [
    "m2.fit(xs, y)"
   ]
  },
  {
   "cell_type": "code",
   "execution_count": 224,
   "id": "noted-lounge",
   "metadata": {},
   "outputs": [
    {
     "data": {
      "text/plain": [
       "0.540952"
      ]
     },
     "execution_count": 224,
     "metadata": {},
     "output_type": "execute_result"
    }
   ],
   "source": [
    "m_rmse(m2, xs, y)"
   ]
  },
  {
   "cell_type": "code",
   "execution_count": 225,
   "id": "organizational-crazy",
   "metadata": {},
   "outputs": [
    {
     "data": {
      "text/plain": [
       "0.803491"
      ]
     },
     "execution_count": 225,
     "metadata": {},
     "output_type": "execute_result"
    }
   ],
   "source": [
    "m_rmse(m2, valid_xs, valid_y)"
   ]
  },
  {
   "cell_type": "code",
   "execution_count": 327,
   "id": "synthetic-albany",
   "metadata": {},
   "outputs": [
    {
     "name": "stdout",
     "output_type": "stream",
     "text": [
      "0.803491\n"
     ]
    }
   ],
   "source": [
    "model = DecisionTreeRegressor(max_leaf_nodes=10, min_samples_leaf=70, max_depth=2, random_state=42)\n",
    "model.fit(xs, y)\n",
    "print(m_rmse(model, valid_xs, valid_y))"
   ]
  },
  {
   "cell_type": "markdown",
   "id": "considered-industry",
   "metadata": {},
   "source": [
    "<table>\n",
    "  <tr>\n",
    "    <th>max_depth</th>\n",
    "    <th>min_samples_leaf</th>\n",
    "    <th>max_leaf_nodes</th>\n",
    "    <th>Validation_Error</th>\n",
    "  </tr>\n",
    "  <tr>\n",
    "      <td>None</td>\n",
    "      <td>None</td>\n",
    "      <td>15</td>\n",
    "      <td>1.003</td>\n",
    "    </tr>\n",
    "    <tr>\n",
    "        <td>None</td> \n",
    "        <td>None</td>\n",
    "        <td>10</td> \n",
    "        <td>0.948016</td>\n",
    "    </tr>\n",
    "    <tr>\n",
    "        <td>None</td> \n",
    "        <td>None</td>\n",
    "        <td>2</td>\n",
    "        <td>0.902582</td>\n",
    "    </tr>\n",
    "    <tr>\n",
    "        <td>None</td> \n",
    "        <td>10</td>\n",
    "        <td>2</td>\n",
    "        <td>0.902582</td>\n",
    "    </tr>\n",
    "    <tr>\n",
    "        <td>None</td> \n",
    "        <td>70</td>\n",
    "        <td>2</td>\n",
    "        <td>0.902582</td>\n",
    "    </tr>\n",
    "    <tr>\n",
    "        <td>2</td> \n",
    "        <td>70</td>\n",
    "        <td>10</td>\n",
    "        <td>0.803491</td>\n",
    "    </tr>\n",
    "    <tr>\n",
    "        <td>2</td> \n",
    "        <td>80</td>\n",
    "        <td>10</td>\n",
    "        <td>1.220358</td>\n",
    "    </tr>\n",
    "    <tr>\n",
    "        <td>2</td> \n",
    "        <td>72</td>\n",
    "        <td>10</td>\n",
    "        <td>1.171419</td>\n",
    "    </tr>\n",
    "    <tr>\n",
    "        <td>2</td> \n",
    "        <td>65</td>\n",
    "        <td>10</td>\n",
    "        <td>0.811826</td>\n",
    "    </tr>\n",
    "    <tr>\n",
    "        <td>2</td> \n",
    "        <td>30</td>\n",
    "        <td>10</td>\n",
    "        <td>0.8772</td>\n",
    "    </tr>\n",
    "    <tr>\n",
    "        <td>2</td> \n",
    "        <td>32</td>\n",
    "        <td>10</td>\n",
    "        <td>0.95993</td>\n",
    "    </tr>"
   ]
  },
  {
   "cell_type": "markdown",
   "id": "amber-speed",
   "metadata": {},
   "source": [
    "### Best model is Decision Tree with above mentioned parameters."
   ]
  },
  {
   "cell_type": "markdown",
   "id": "opened-smith",
   "metadata": {},
   "source": [
    "I tried more set of `parameters` but was not able to get better accuracy."
   ]
  },
  {
   "cell_type": "code",
   "execution_count": 329,
   "id": "honey-convert",
   "metadata": {},
   "outputs": [],
   "source": [
    "from sklearn import tree"
   ]
  },
  {
   "cell_type": "code",
   "execution_count": 332,
   "id": "virgin-noise",
   "metadata": {},
   "outputs": [
    {
     "data": {
      "text/plain": [
       "[Text(372.0, 755.0, 'AverageHourlySalary-Private <= 23.248\\nmse = 0.917\\nsamples = 216\\nvalue = 0.447'),\n",
       " Text(186.0, 453.0, 'mse = 0.582\\nsamples = 71\\nvalue = -0.657'),\n",
       " Text(558.0, 453.0, 'Rent Index Mon_Chg <= 0.34\\nmse = 0.19\\nsamples = 145\\nvalue = 0.988'),\n",
       " Text(372.0, 151.0, 'mse = 0.213\\nsamples = 71\\nvalue = 1.191'),\n",
       " Text(744.0, 151.0, 'mse = 0.091\\nsamples = 74\\nvalue = 0.793')]"
      ]
     },
     "execution_count": 332,
     "metadata": {},
     "output_type": "execute_result"
    },
    {
     "data": {
      "image/png": "[encoded data removed]",
      "text/plain": [
       "<Figure size 1200x1200 with 1 Axes>"
      ]
     },
     "metadata": {
      "needs_background": "light"
     },
     "output_type": "display_data"
    }
   ],
   "source": [
    "fig, axes = plt.subplots(nrows = 1,ncols = 1,figsize = (4,4), dpi=300)\n",
    "tree.plot_tree(model, feature_names=xs.columns, filled=True)"
   ]
  },
  {
   "cell_type": "markdown",
   "id": "emotional-picture",
   "metadata": {},
   "source": [
    "### Random Forest Regressor (bagging)"
   ]
  },
  {
   "cell_type": "code",
   "execution_count": 341,
   "id": "handmade-underwear",
   "metadata": {},
   "outputs": [],
   "source": [
    "def rf(xs, y, n_estimators=100, max_samples=len(xs),max_features=0.5, min_samples_leaf=5, **kwargs):\n",
    "    return RandomForestRegressor(n_jobs=-1, n_estimators=n_estimators,max_samples=max_samples, max_features=max_features, min_samples_leaf=min_samples_leaf, oob_score=True).fit(xs, y)"
   ]
  },
  {
   "cell_type": "code",
   "execution_count": 343,
   "id": "wrapped-burns",
   "metadata": {},
   "outputs": [],
   "source": [
    "rm = rf(xs, y, min_samples_leaf=10)"
   ]
  },
  {
   "cell_type": "code",
   "execution_count": 344,
   "id": "supported-railway",
   "metadata": {},
   "outputs": [
    {
     "data": {
      "text/plain": [
       "0.31314"
      ]
     },
     "execution_count": 344,
     "metadata": {},
     "output_type": "execute_result"
    }
   ],
   "source": [
    "m_rmse(rm, xs, y)"
   ]
  },
  {
   "cell_type": "code",
   "execution_count": 345,
   "id": "empirical-collection",
   "metadata": {},
   "outputs": [
    {
     "data": {
      "text/plain": [
       "0.887424"
      ]
     },
     "execution_count": 345,
     "metadata": {},
     "output_type": "execute_result"
    }
   ],
   "source": [
    "m_rmse(rm, valid_xs, valid_y)"
   ]
  },
  {
   "cell_type": "markdown",
   "id": "looking-portable",
   "metadata": {},
   "source": [
    "### random go-through on different parameters "
   ]
  },
  {
   "cell_type": "code",
   "execution_count": 349,
   "id": "destroyed-shore",
   "metadata": {},
   "outputs": [],
   "source": [
    "estimators = [20, 50,  70, 100]\n",
    "ftr= [0.4, 0.5, 0.8, \"sqrt\", \"log2\"]\n",
    "sample = [2,  11, 20,  32, 43,  50]"
   ]
  },
  {
   "cell_type": "code",
   "execution_count": 350,
   "id": "billion-being",
   "metadata": {
    "collapsed": true,
    "jupyter": {
     "outputs_hidden": true
    }
   },
   "outputs": [
    {
     "name": "stdout",
     "output_type": "stream",
     "text": [
      "20 0.4 2\n",
      "Valid error:  0.898383\n",
      "20 0.4 11\n",
      "Valid error:  0.890923\n",
      "20 0.4 20\n",
      "Valid error:  0.918909\n",
      "20 0.4 32\n",
      "Valid error:  0.918174\n",
      "20 0.4 43\n",
      "Valid error:  0.941085\n",
      "20 0.4 50\n",
      "Valid error:  1.152144\n",
      "20 0.5 2\n",
      "Valid error:  0.868119\n",
      "20 0.5 11\n",
      "Valid error:  0.870974\n",
      "20 0.5 20\n",
      "Valid error:  0.917413\n",
      "20 0.5 32\n",
      "Valid error:  0.901868\n",
      "20 0.5 43\n",
      "Valid error:  0.948783\n",
      "20 0.5 50\n",
      "Valid error:  1.103083\n",
      "20 0.8 2\n",
      "Valid error:  0.845919\n",
      "20 0.8 11\n",
      "Valid error:  0.900593\n",
      "20 0.8 20\n",
      "Valid error:  0.901607\n",
      "20 0.8 32\n",
      "Valid error:  0.871621\n",
      "20 0.8 43\n",
      "Valid error:  0.875959\n",
      "20 0.8 50\n",
      "Valid error:  1.076983\n",
      "20 sqrt 2\n",
      "Valid error:  0.908249\n",
      "20 sqrt 11\n",
      "Valid error:  0.982219\n",
      "20 sqrt 20\n",
      "Valid error:  1.01986\n",
      "20 sqrt 32\n",
      "Valid error:  0.981255\n",
      "20 sqrt 43\n",
      "Valid error:  1.141193\n",
      "20 sqrt 50\n",
      "Valid error:  1.162863\n"
     ]
    },
    {
     "name": "stderr",
     "output_type": "stream",
     "text": [
      "/Library/Frameworks/Python.framework/Versions/3.9/lib/python3.9/site-packages/sklearn/ensemble/_forest.py:833: UserWarning: Some inputs do not have OOB scores. This probably means too few trees were used to compute any reliable oob estimates.\n",
      "  warn(\"Some inputs do not have OOB scores. \"\n"
     ]
    },
    {
     "name": "stdout",
     "output_type": "stream",
     "text": [
      "20 log2 2\n",
      "Valid error:  0.979442\n",
      "20 log2 11\n",
      "Valid error:  1.022773\n",
      "20 log2 20\n",
      "Valid error:  0.96037\n",
      "20 log2 32\n",
      "Valid error:  0.987509\n",
      "20 log2 43\n",
      "Valid error:  1.00957\n",
      "20 log2 50\n",
      "Valid error:  1.10052\n",
      "50 0.4 2\n",
      "Valid error:  0.859902\n",
      "50 0.4 11\n",
      "Valid error:  0.90661\n",
      "50 0.4 20\n",
      "Valid error:  0.921354\n",
      "50 0.4 32\n",
      "Valid error:  0.902926\n",
      "50 0.4 43\n",
      "Valid error:  0.913848\n",
      "50 0.4 50\n",
      "Valid error:  1.158552\n",
      "50 0.5 2\n",
      "Valid error:  0.876292\n",
      "50 0.5 11\n",
      "Valid error:  0.894699\n",
      "50 0.5 20\n",
      "Valid error:  0.906799\n",
      "50 0.5 32\n",
      "Valid error:  0.903566\n",
      "50 0.5 43\n",
      "Valid error:  0.879746\n",
      "50 0.5 50\n",
      "Valid error:  1.126921\n",
      "50 0.8 2\n",
      "Valid error:  0.868554\n",
      "50 0.8 11\n",
      "Valid error:  0.87766\n",
      "50 0.8 20\n",
      "Valid error:  0.91553\n",
      "50 0.8 32\n",
      "Valid error:  0.857997\n",
      "50 0.8 43\n",
      "Valid error:  0.863062\n",
      "50 0.8 50\n",
      "Valid error:  1.098596\n",
      "50 sqrt 2\n",
      "Valid error:  0.937716\n",
      "50 sqrt 11\n",
      "Valid error:  0.969424\n",
      "50 sqrt 20\n",
      "Valid error:  1.011409\n",
      "50 sqrt 32\n",
      "Valid error:  1.015395\n",
      "50 sqrt 43\n",
      "Valid error:  1.062699\n",
      "50 sqrt 50\n",
      "Valid error:  1.229241\n",
      "50 log2 2\n",
      "Valid error:  1.046676\n",
      "50 log2 11\n",
      "Valid error:  0.958134\n",
      "50 log2 20\n",
      "Valid error:  1.006055\n",
      "50 log2 32\n",
      "Valid error:  1.007005\n",
      "50 log2 43\n",
      "Valid error:  1.104297\n",
      "50 log2 50\n",
      "Valid error:  1.162131\n",
      "70 0.4 2\n",
      "Valid error:  0.857931\n",
      "70 0.4 11\n",
      "Valid error:  0.889157\n",
      "70 0.4 20\n",
      "Valid error:  0.903646\n",
      "70 0.4 32\n",
      "Valid error:  0.908072\n",
      "70 0.4 43\n",
      "Valid error:  0.912581\n",
      "70 0.4 50\n",
      "Valid error:  1.135966\n",
      "70 0.5 2\n",
      "Valid error:  0.899909\n",
      "70 0.5 11\n",
      "Valid error:  0.920039\n",
      "70 0.5 20\n",
      "Valid error:  0.910167\n",
      "70 0.5 32\n",
      "Valid error:  0.920358\n",
      "70 0.5 43\n",
      "Valid error:  0.937237\n",
      "70 0.5 50\n",
      "Valid error:  1.156268\n",
      "70 0.8 2\n",
      "Valid error:  0.880119\n",
      "70 0.8 11\n",
      "Valid error:  0.897299\n",
      "70 0.8 20\n",
      "Valid error:  0.910384\n",
      "70 0.8 32\n",
      "Valid error:  0.876208\n",
      "70 0.8 43\n",
      "Valid error:  0.853674\n",
      "70 0.8 50\n",
      "Valid error:  1.132316\n",
      "70 sqrt 2\n",
      "Valid error:  0.919429\n",
      "70 sqrt 11\n",
      "Valid error:  0.961238\n",
      "70 sqrt 20\n",
      "Valid error:  0.995703\n",
      "70 sqrt 32\n",
      "Valid error:  0.978711\n",
      "70 sqrt 43\n",
      "Valid error:  1.038732\n",
      "70 sqrt 50\n",
      "Valid error:  1.149203\n",
      "70 log2 2\n",
      "Valid error:  0.936283\n",
      "70 log2 11\n",
      "Valid error:  0.982598\n",
      "70 log2 20\n",
      "Valid error:  1.02598\n",
      "70 log2 32\n",
      "Valid error:  1.069216\n",
      "70 log2 43\n",
      "Valid error:  1.078922\n",
      "70 log2 50\n",
      "Valid error:  1.198142\n",
      "100 0.4 2\n",
      "Valid error:  0.85976\n",
      "100 0.4 11\n",
      "Valid error:  0.893162\n",
      "100 0.4 20\n",
      "Valid error:  0.932033\n",
      "100 0.4 32\n",
      "Valid error:  0.924226\n",
      "100 0.4 43\n",
      "Valid error:  0.920121\n",
      "100 0.4 50\n",
      "Valid error:  1.155289\n",
      "100 0.5 2\n",
      "Valid error:  0.855492\n",
      "100 0.5 11\n",
      "Valid error:  0.915707\n",
      "100 0.5 20\n",
      "Valid error:  0.897058\n",
      "100 0.5 32\n",
      "Valid error:  0.90036\n",
      "100 0.5 43\n",
      "Valid error:  0.910719\n",
      "100 0.5 50\n",
      "Valid error:  1.12294\n",
      "100 0.8 2\n",
      "Valid error:  0.871612\n",
      "100 0.8 11\n",
      "Valid error:  0.900584\n",
      "100 0.8 20\n",
      "Valid error:  0.918959\n",
      "100 0.8 32\n",
      "Valid error:  0.873711\n",
      "100 0.8 43\n",
      "Valid error:  0.864323\n",
      "100 0.8 50\n",
      "Valid error:  1.095567\n",
      "100 sqrt 2\n",
      "Valid error:  0.925439\n",
      "100 sqrt 11\n",
      "Valid error:  0.975202\n",
      "100 sqrt 20\n",
      "Valid error:  0.964599\n",
      "100 sqrt 32\n",
      "Valid error:  1.011159\n",
      "100 sqrt 43\n",
      "Valid error:  1.01008\n",
      "100 sqrt 50\n",
      "Valid error:  1.167905\n",
      "100 log2 2\n",
      "Valid error:  0.911402\n",
      "100 log2 11\n",
      "Valid error:  0.961294\n",
      "100 log2 20\n",
      "Valid error:  1.00702\n",
      "100 log2 32\n",
      "Valid error:  1.036995\n",
      "100 log2 43\n",
      "Valid error:  1.036531\n",
      "100 log2 50\n",
      "Valid error:  1.17314\n"
     ]
    }
   ],
   "source": [
    "for e in estimators:\n",
    "    for f in ftr:\n",
    "        for s in sample:\n",
    "            rm = rf(xs, y, n_estimators=e, max_features=f, min_samples_leaf=s)\n",
    "#             print(\"Train error: \",m_rmse(rm, xs, y))\n",
    "            print(e, f, s)\n",
    "            print(\"Valid error: \",m_rmse(rm, valid_xs, valid_y))"
   ]
  },
  {
   "cell_type": "markdown",
   "id": "alert-planner",
   "metadata": {},
   "source": [
    "## Feature Importance using Random Forest"
   ]
  },
  {
   "cell_type": "code",
   "execution_count": 353,
   "id": "respective-toner",
   "metadata": {},
   "outputs": [],
   "source": [
    "def rf_feat_importance(model, df):\n",
    "    return pd.DataFrame({'cols': df.columns, 'imp': model.feature_importances_}).sort_values('imp', ascending=False)"
   ]
  },
  {
   "cell_type": "markdown",
   "id": "communist-silver",
   "metadata": {},
   "source": [
    "### Feature Importance Dataframe"
   ]
  },
  {
   "cell_type": "code",
   "execution_count": 356,
   "id": "simple-firewall",
   "metadata": {
    "collapsed": true,
    "jupyter": {
     "outputs_hidden": true
    }
   },
   "outputs": [
    {
     "data": {
      "text/html": [
       "<div>\n",
       "<style scoped>\n",
       "    .dataframe tbody tr th:only-of-type {\n",
       "        vertical-align: middle;\n",
       "    }\n",
       "\n",
       "    .dataframe tbody tr th {\n",
       "        vertical-align: top;\n",
       "    }\n",
       "\n",
       "    .dataframe thead th {\n",
       "        text-align: right;\n",
       "    }\n",
       "</style>\n",
       "<table border=\"1\" class=\"dataframe\">\n",
       "  <thead>\n",
       "    <tr style=\"text-align: right;\">\n",
       "      <th></th>\n",
       "      <th>cols</th>\n",
       "      <th>imp</th>\n",
       "    </tr>\n",
       "  </thead>\n",
       "  <tbody>\n",
       "    <tr>\n",
       "      <th>32</th>\n",
       "      <td>Real Personal Income</td>\n",
       "      <td>0.11</td>\n",
       "    </tr>\n",
       "    <tr>\n",
       "      <th>38</th>\n",
       "      <td>Monthly Supply of Houses in the United States</td>\n",
       "      <td>0.11</td>\n",
       "    </tr>\n",
       "    <tr>\n",
       "      <th>40</th>\n",
       "      <td>DATEYear</td>\n",
       "      <td>0.08</td>\n",
       "    </tr>\n",
       "    <tr>\n",
       "      <th>44</th>\n",
       "      <td>DATEElapsed</td>\n",
       "      <td>0.07</td>\n",
       "    </tr>\n",
       "    <tr>\n",
       "      <th>18</th>\n",
       "      <td>House Under Construction</td>\n",
       "      <td>0.06</td>\n",
       "    </tr>\n",
       "    <tr>\n",
       "      <th>23</th>\n",
       "      <td>Year</td>\n",
       "      <td>0.06</td>\n",
       "    </tr>\n",
       "    <tr>\n",
       "      <th>31</th>\n",
       "      <td>Personal Income</td>\n",
       "      <td>0.05</td>\n",
       "    </tr>\n",
       "    <tr>\n",
       "      <th>27</th>\n",
       "      <td>Unemployment Rate - White</td>\n",
       "      <td>0.05</td>\n",
       "    </tr>\n",
       "    <tr>\n",
       "      <th>17</th>\n",
       "      <td>House Completed</td>\n",
       "      <td>0.05</td>\n",
       "    </tr>\n",
       "    <tr>\n",
       "      <th>28</th>\n",
       "      <td>Insured Unemployment Rate</td>\n",
       "      <td>0.04</td>\n",
       "    </tr>\n",
       "    <tr>\n",
       "      <th>14</th>\n",
       "      <td>Rent Index Mon_Chg</td>\n",
       "      <td>0.04</td>\n",
       "    </tr>\n",
       "    <tr>\n",
       "      <th>25</th>\n",
       "      <td>Unemployment Rate</td>\n",
       "      <td>0.03</td>\n",
       "    </tr>\n",
       "    <tr>\n",
       "      <th>37</th>\n",
       "      <td>Total Construction Spending- Residential</td>\n",
       "      <td>0.03</td>\n",
       "    </tr>\n",
       "    <tr>\n",
       "      <th>7</th>\n",
       "      <td>AverageHourlySalary-Private_na</td>\n",
       "      <td>0.03</td>\n",
       "    </tr>\n",
       "    <tr>\n",
       "      <th>35</th>\n",
       "      <td>Median Sales Price for New Houses Sold</td>\n",
       "      <td>0.02</td>\n",
       "    </tr>\n",
       "    <tr>\n",
       "      <th>30</th>\n",
       "      <td>EMRATIO</td>\n",
       "      <td>0.02</td>\n",
       "    </tr>\n",
       "    <tr>\n",
       "      <th>26</th>\n",
       "      <td>Unemployment Rate - Black or African American</td>\n",
       "      <td>0.02</td>\n",
       "    </tr>\n",
       "    <tr>\n",
       "      <th>42</th>\n",
       "      <td>DATEWeek</td>\n",
       "      <td>0.02</td>\n",
       "    </tr>\n",
       "    <tr>\n",
       "      <th>19</th>\n",
       "      <td>5yr_Maturity Per_Mon_Chg</td>\n",
       "      <td>0.02</td>\n",
       "    </tr>\n",
       "    <tr>\n",
       "      <th>33</th>\n",
       "      <td>Job Openings- Total Nonfarm</td>\n",
       "      <td>0.02</td>\n",
       "    </tr>\n",
       "    <tr>\n",
       "      <th>21</th>\n",
       "      <td>30yr_Maturity Per_Mon_Chg</td>\n",
       "      <td>0.01</td>\n",
       "    </tr>\n",
       "    <tr>\n",
       "      <th>15</th>\n",
       "      <td>NASDAQCOM Mon_Chg</td>\n",
       "      <td>0.01</td>\n",
       "    </tr>\n",
       "    <tr>\n",
       "      <th>34</th>\n",
       "      <td>AverageHourlySalary-Private</td>\n",
       "      <td>0.01</td>\n",
       "    </tr>\n",
       "    <tr>\n",
       "      <th>12</th>\n",
       "      <td>MORTGAGE30US_Monthly Change</td>\n",
       "      <td>0.01</td>\n",
       "    </tr>\n",
       "    <tr>\n",
       "      <th>11</th>\n",
       "      <td>MORTGAGE15US_Monthly Change</td>\n",
       "      <td>0.01</td>\n",
       "    </tr>\n",
       "    <tr>\n",
       "      <th>41</th>\n",
       "      <td>DATEMonth</td>\n",
       "      <td>0.01</td>\n",
       "    </tr>\n",
       "    <tr>\n",
       "      <th>29</th>\n",
       "      <td>Number Unemployed for 27 Weeks &amp; Over</td>\n",
       "      <td>0.01</td>\n",
       "    </tr>\n",
       "    <tr>\n",
       "      <th>36</th>\n",
       "      <td>Real Private Residential Fixed Investment</td>\n",
       "      <td>0.00</td>\n",
       "    </tr>\n",
       "    <tr>\n",
       "      <th>39</th>\n",
       "      <td>Homeownership Rate for the United States</td>\n",
       "      <td>0.00</td>\n",
       "    </tr>\n",
       "    <tr>\n",
       "      <th>43</th>\n",
       "      <td>DATEDayofyear</td>\n",
       "      <td>0.00</td>\n",
       "    </tr>\n",
       "    <tr>\n",
       "      <th>0</th>\n",
       "      <td>DATEDayofweek</td>\n",
       "      <td>0.00</td>\n",
       "    </tr>\n",
       "    <tr>\n",
       "      <th>24</th>\n",
       "      <td>Month</td>\n",
       "      <td>0.00</td>\n",
       "    </tr>\n",
       "    <tr>\n",
       "      <th>1</th>\n",
       "      <td>DATEIs_quarter_end</td>\n",
       "      <td>0.00</td>\n",
       "    </tr>\n",
       "    <tr>\n",
       "      <th>20</th>\n",
       "      <td>10yr_Maturity Per_Mon_Chg</td>\n",
       "      <td>0.00</td>\n",
       "    </tr>\n",
       "    <tr>\n",
       "      <th>16</th>\n",
       "      <td>WILL5000 Per_Mon_Chg</td>\n",
       "      <td>0.00</td>\n",
       "    </tr>\n",
       "    <tr>\n",
       "      <th>13</th>\n",
       "      <td>MORTGAGE5US_Monthly Change</td>\n",
       "      <td>0.00</td>\n",
       "    </tr>\n",
       "    <tr>\n",
       "      <th>10</th>\n",
       "      <td>Homeownership Rate for the United States_na</td>\n",
       "      <td>0.00</td>\n",
       "    </tr>\n",
       "    <tr>\n",
       "      <th>9</th>\n",
       "      <td>Total Construction Spending- Residential_na</td>\n",
       "      <td>0.00</td>\n",
       "    </tr>\n",
       "    <tr>\n",
       "      <th>8</th>\n",
       "      <td>Real Private Residential Fixed Investment_na</td>\n",
       "      <td>0.00</td>\n",
       "    </tr>\n",
       "    <tr>\n",
       "      <th>6</th>\n",
       "      <td>Job Openings- Total Nonfarm_na</td>\n",
       "      <td>0.00</td>\n",
       "    </tr>\n",
       "    <tr>\n",
       "      <th>5</th>\n",
       "      <td>MORTGAGE5US_Monthly Change_na</td>\n",
       "      <td>0.00</td>\n",
       "    </tr>\n",
       "    <tr>\n",
       "      <th>4</th>\n",
       "      <td>DATEIs_year_start</td>\n",
       "      <td>0.00</td>\n",
       "    </tr>\n",
       "    <tr>\n",
       "      <th>3</th>\n",
       "      <td>DATEIs_year_end</td>\n",
       "      <td>0.00</td>\n",
       "    </tr>\n",
       "    <tr>\n",
       "      <th>2</th>\n",
       "      <td>DATEIs_quarter_start</td>\n",
       "      <td>0.00</td>\n",
       "    </tr>\n",
       "    <tr>\n",
       "      <th>22</th>\n",
       "      <td>CPI Mon_Chg</td>\n",
       "      <td>0.00</td>\n",
       "    </tr>\n",
       "  </tbody>\n",
       "</table>\n",
       "</div>"
      ],
      "text/plain": [
       "                                             cols   imp\n",
       "32                           Real Personal Income  0.11\n",
       "38  Monthly Supply of Houses in the United States  0.11\n",
       "40                                       DATEYear  0.08\n",
       "44                                    DATEElapsed  0.07\n",
       "18                       House Under Construction  0.06\n",
       "23                                           Year  0.06\n",
       "31                                Personal Income  0.05\n",
       "27                      Unemployment Rate - White  0.05\n",
       "17                                House Completed  0.05\n",
       "28                      Insured Unemployment Rate  0.04\n",
       "14                             Rent Index Mon_Chg  0.04\n",
       "25                              Unemployment Rate  0.03\n",
       "37       Total Construction Spending- Residential  0.03\n",
       "7                  AverageHourlySalary-Private_na  0.03\n",
       "35         Median Sales Price for New Houses Sold  0.02\n",
       "30                                        EMRATIO  0.02\n",
       "26  Unemployment Rate - Black or African American  0.02\n",
       "42                                       DATEWeek  0.02\n",
       "19                       5yr_Maturity Per_Mon_Chg  0.02\n",
       "33                    Job Openings- Total Nonfarm  0.02\n",
       "21                      30yr_Maturity Per_Mon_Chg  0.01\n",
       "15                              NASDAQCOM Mon_Chg  0.01\n",
       "34                    AverageHourlySalary-Private  0.01\n",
       "12                    MORTGAGE30US_Monthly Change  0.01\n",
       "11                    MORTGAGE15US_Monthly Change  0.01\n",
       "41                                      DATEMonth  0.01\n",
       "29          Number Unemployed for 27 Weeks & Over  0.01\n",
       "36      Real Private Residential Fixed Investment  0.00\n",
       "39       Homeownership Rate for the United States  0.00\n",
       "43                                  DATEDayofyear  0.00\n",
       "0                                   DATEDayofweek  0.00\n",
       "24                                          Month  0.00\n",
       "1                              DATEIs_quarter_end  0.00\n",
       "20                      10yr_Maturity Per_Mon_Chg  0.00\n",
       "16                           WILL5000 Per_Mon_Chg  0.00\n",
       "13                     MORTGAGE5US_Monthly Change  0.00\n",
       "10    Homeownership Rate for the United States_na  0.00\n",
       "9     Total Construction Spending- Residential_na  0.00\n",
       "8    Real Private Residential Fixed Investment_na  0.00\n",
       "6                  Job Openings- Total Nonfarm_na  0.00\n",
       "5                   MORTGAGE5US_Monthly Change_na  0.00\n",
       "4                               DATEIs_year_start  0.00\n",
       "3                                 DATEIs_year_end  0.00\n",
       "2                            DATEIs_quarter_start  0.00\n",
       "22                                    CPI Mon_Chg  0.00"
      ]
     },
     "execution_count": 356,
     "metadata": {},
     "output_type": "execute_result"
    }
   ],
   "source": [
    "fi = rf_feat_importance(rm, xs)\n",
    "fi"
   ]
  },
  {
   "cell_type": "markdown",
   "id": "unlike-clause",
   "metadata": {},
   "source": [
    "Among all the columns which we imputed (median) only `Job Openings- Total Nonfarm` is found to have some importance in model learning."
   ]
  },
  {
   "cell_type": "markdown",
   "id": "artificial-defendant",
   "metadata": {},
   "source": [
    "### Most importance features are:"
   ]
  },
  {
   "cell_type": "markdown",
   "id": "understanding-advocacy",
   "metadata": {},
   "source": [
    "`Real Personal Income\t0.11`\n",
    "\n",
    "`Monthly Supply of Houses in the United States\t0.11`\n",
    "\n",
    "These two are the most important feature as perceived by our RandomForest"
   ]
  },
  {
   "cell_type": "markdown",
   "id": "proud-blair",
   "metadata": {},
   "source": [
    "### Other features which has greater say in model training are:\n",
    "\n",
    "DATEYear\t0.08,\n",
    "DATEElapsed\t0.07,\n",
    "House Under Construction\t0.06,\n",
    "Year\t0.06,\n",
    "Personal Income\t0.05,\n",
    "Unemployment Rate - White\t0.05,\n",
    "House Completed\t0.05,"
   ]
  },
  {
   "cell_type": "markdown",
   "id": "random-model",
   "metadata": {},
   "source": [
    "### Plotting 20 best columns with their relative importance"
   ]
  },
  {
   "cell_type": "code",
   "execution_count": 374,
   "id": "sustainable-coral",
   "metadata": {},
   "outputs": [],
   "source": [
    "def plot_fi(fi):\n",
    "    return fi.plot('cols', 'imp', 'barh', figsize=(12,7), legend=False)"
   ]
  },
  {
   "cell_type": "code",
   "execution_count": 396,
   "id": "hollow-chicago",
   "metadata": {},
   "outputs": [
    {
     "data": {
      "text/plain": [
       "<AxesSubplot:ylabel='cols'>"
      ]
     },
     "execution_count": 396,
     "metadata": {},
     "output_type": "execute_result"
    },
    {
     "data": {
      "image/png": "[encoded data removed]",
      "text/plain": [
       "<Figure size 864x504 with 1 Axes>"
      ]
     },
     "metadata": {
      "needs_background": "light"
     },
     "output_type": "display_data"
    }
   ],
   "source": [
    "plot_fi(fi[:20])"
   ]
  },
  {
   "cell_type": "markdown",
   "id": "serial-dallas",
   "metadata": {},
   "source": [
    "We can see that several of our features are redundant and not contributing much to model learning. Therefore, I am planning to keep features which has atleast `0.02` importance. "
   ]
  },
  {
   "cell_type": "code",
   "execution_count": 398,
   "id": "incredible-presentation",
   "metadata": {},
   "outputs": [
    {
     "data": {
      "text/plain": [
       "20"
      ]
     },
     "execution_count": 398,
     "metadata": {},
     "output_type": "execute_result"
    }
   ],
   "source": [
    "to_keep = fi[fi.imp>=0.02].cols\n",
    "len(to_keep)"
   ]
  },
  {
   "cell_type": "markdown",
   "id": "immune-screening",
   "metadata": {},
   "source": [
    "Selecting only the important columns."
   ]
  },
  {
   "cell_type": "code",
   "execution_count": 399,
   "id": "worth-volleyball",
   "metadata": {},
   "outputs": [],
   "source": [
    "xs_imp = xs[to_keep]\n",
    "valid_xs_imp = valid_xs_imp[to_keep]"
   ]
  },
  {
   "cell_type": "markdown",
   "id": "studied-principle",
   "metadata": {},
   "source": [
    "### Clustering common types of features in the dataframe"
   ]
  },
  {
   "cell_type": "markdown",
   "id": "silent-narrow",
   "metadata": {},
   "source": [
    "Based on Rank-Correlation the nearer the columns are merged more related they are."
   ]
  },
  {
   "cell_type": "code",
   "execution_count": 400,
   "id": "pleased-protocol",
   "metadata": {},
   "outputs": [
    {
     "data": {
      "image/png": "[encoded data removed]",
      "text/plain": [
       "<Figure size 720x432 with 1 Axes>"
      ]
     },
     "metadata": {
      "needs_background": "light"
     },
     "output_type": "display_data"
    }
   ],
   "source": [
    "cluster_columns(xs_imp)"
   ]
  },
  {
   "cell_type": "markdown",
   "id": "possible-airfare",
   "metadata": {},
   "source": [
    "`cluster_column()` fn is doing its work almost as expected. Just `Job Openings- Total Nonfarm` and `Rent Index Mon_Chg` are just not feel very connected intutively other that that all Date columns are clustered in a group and same for Unemployment realted columns as well as for Income and House related columns "
   ]
  },
  {
   "cell_type": "markdown",
   "id": "analyzed-rally",
   "metadata": {},
   "source": [
    "`cluster_column()` also shows that I have two year columns in my dataset i.e. `Year` & `DateYear`."
   ]
  },
  {
   "cell_type": "markdown",
   "id": "composite-angola",
   "metadata": {},
   "source": [
    "A simple function just for fast reviewing the changes in model."
   ]
  },
  {
   "cell_type": "code",
   "execution_count": 429,
   "id": "cleared-cooperation",
   "metadata": {},
   "outputs": [],
   "source": [
    "def get_oob(df):\n",
    "    m = RandomForestRegressor(n_estimators=40, min_samples_leaf=15, max_samples=216, max_features=\"sqrt\", n_jobs=-1, oob_score=True)\n",
    "    m.fit(df, y)\n",
    "    return m.oob_score_"
   ]
  },
  {
   "cell_type": "code",
   "execution_count": 430,
   "id": "monthly-notification",
   "metadata": {},
   "outputs": [
    {
     "data": {
      "text/plain": [
       "0.8038223544434872"
      ]
     },
     "execution_count": 430,
     "metadata": {},
     "output_type": "execute_result"
    }
   ],
   "source": [
    "get_oob(xs_imp)"
   ]
  },
  {
   "cell_type": "code",
   "execution_count": 431,
   "id": "improved-hopkins",
   "metadata": {},
   "outputs": [
    {
     "data": {
      "text/plain": [
       "{'DATEYear': 0.8222812610058915,\n",
       " 'Personal Income': 0.7783281410227052,\n",
       " 'Unemployment Rate': 0.7905061412353698,\n",
       " 'Unemployment Rate - Black or African American': 0.7883028146551521,\n",
       " 'Job Openings- Total Nonfarm': 0.7970555041527911}"
      ]
     },
     "execution_count": 431,
     "metadata": {},
     "output_type": "execute_result"
    }
   ],
   "source": [
    "{c:get_oob(xs_imp.drop(c, axis=1)) for c in ['DATEYear', 'Personal Income', 'Unemployment Rate', 'Unemployment Rate - Black or African American', 'Job Openings- Total Nonfarm']}"
   ]
  },
  {
   "cell_type": "markdown",
   "id": "arranged-stanley",
   "metadata": {},
   "source": [
    "Here we can see that dropping some of these features is affecting very less to the error of the oobs_error, which implies that these are not very necessary."
   ]
  },
  {
   "cell_type": "markdown",
   "id": "distinct-invalid",
   "metadata": {},
   "source": [
    "Lets drop multiple columns and see the oobs_error."
   ]
  },
  {
   "cell_type": "code",
   "execution_count": 432,
   "id": "printable-benjamin",
   "metadata": {},
   "outputs": [],
   "source": [
    "to_drop = ['DATEYear', 'Personal Income', 'Unemployment Rate - Black or African American', 'Job Openings- Total Nonfarm']"
   ]
  },
  {
   "cell_type": "code",
   "execution_count": 433,
   "id": "christian-howard",
   "metadata": {},
   "outputs": [
    {
     "data": {
      "text/plain": [
       "0.8095832801271493"
      ]
     },
     "execution_count": 433,
     "metadata": {},
     "output_type": "execute_result"
    }
   ],
   "source": [
    "get_oob(xs_imp.drop(to_drop, axis=1))"
   ]
  },
  {
   "cell_type": "markdown",
   "id": "narrative-absorption",
   "metadata": {},
   "source": [
    "Again the observation in oobs_error is dwindling around 0.80s, no changing much even we are dropping these columns."
   ]
  },
  {
   "cell_type": "markdown",
   "id": "visible-services",
   "metadata": {},
   "source": [
    "Using model for data cleaning and feature selection provide better insights and even non-domain expert of the field can work."
   ]
  },
  {
   "cell_type": "code",
   "execution_count": 441,
   "id": "rough-samoa",
   "metadata": {},
   "outputs": [],
   "source": [
    "# xs_imp = xs_imp.drop(to_drop, axis=1)\n",
    "# valid_xs_imp = valid_xs_imp.drop(to_drop, axis =1)"
   ]
  },
  {
   "cell_type": "markdown",
   "id": "worst-causing",
   "metadata": {},
   "source": [
    "Saving a final set data after feature selection."
   ]
  },
  {
   "cell_type": "code",
   "execution_count": 464,
   "id": "parallel-reset",
   "metadata": {},
   "outputs": [],
   "source": [
    "xs_imp.to_pickle(\"./Data/xs_imp.pkl\")\n",
    "valid_xs_imp.to_pickle(\"./Data/valid_xs_imp.pkl\")\n",
    "y.to_pickle(\"./Data/y.pkl\")\n",
    "valid_y.to_pickle(\"./Data/valid_y.pkl\")"
   ]
  },
  {
   "cell_type": "markdown",
   "id": "modern-jefferson",
   "metadata": {},
   "source": [
    "## GridSearchCV() for hyperparameter tuning"
   ]
  },
  {
   "cell_type": "code",
   "execution_count": 468,
   "id": "patient-touch",
   "metadata": {},
   "outputs": [],
   "source": [
    "n_estimators = [int(x) for x in np.linspace(start=30, stop=80, num=10)]\n",
    "max_features= [\"sqrt\", \"auto\"]\n",
    "max_depth = [2, 4, 5]\n",
    "min_samples_leaf = [1, 3, 5]\n",
    "bootstrap = [True, False]"
   ]
  },
  {
   "cell_type": "code",
   "execution_count": 469,
   "id": "excessive-trial",
   "metadata": {},
   "outputs": [
    {
     "name": "stdout",
     "output_type": "stream",
     "text": [
      "{'n_estimators': [30, 35, 41, 46, 52, 57, 63, 68, 74, 80], 'max_depth': [2, 4, 5], 'min_samples_leaf': [1, 3, 5], 'max_features': ['sqrt', 'auto'], 'bootstrap': [True, False]}\n"
     ]
    }
   ],
   "source": [
    "param_grid = {\n",
    "    'n_estimators' : n_estimators,\n",
    "    'max_depth' : max_depth,\n",
    "    'min_samples_leaf' : min_samples_leaf,\n",
    "    'max_features' : max_features,\n",
    "    'bootstrap' : bootstrap\n",
    "}\n",
    "print(param_grid)"
   ]
  },
  {
   "cell_type": "code",
   "execution_count": 470,
   "id": "organic-powell",
   "metadata": {},
   "outputs": [],
   "source": [
    "rf_model = RandomForestRegressor(random_state=42, n_jobs=-1)"
   ]
  },
  {
   "cell_type": "code",
   "execution_count": 472,
   "id": "square-director",
   "metadata": {},
   "outputs": [],
   "source": [
    "grid_search = GridSearchCV(estimator= rf_model, cv=3, param_grid=param_grid, verbose=1, n_jobs=4)"
   ]
  },
  {
   "cell_type": "code",
   "execution_count": 473,
   "id": "comprehensive-precipitation",
   "metadata": {},
   "outputs": [
    {
     "name": "stdout",
     "output_type": "stream",
     "text": [
      "Fitting 3 folds for each of 360 candidates, totalling 1080 fits\n"
     ]
    },
    {
     "data": {
      "text/plain": [
       "GridSearchCV(cv=3, estimator=RandomForestRegressor(n_jobs=-1, random_state=42),\n",
       "             n_jobs=4,\n",
       "             param_grid={'bootstrap': [True, False], 'max_depth': [2, 4, 5],\n",
       "                         'max_features': ['sqrt', 'auto'],\n",
       "                         'min_samples_leaf': [1, 3, 5],\n",
       "                         'n_estimators': [30, 35, 41, 46, 52, 57, 63, 68, 74,\n",
       "                                          80]},\n",
       "             verbose=1)"
      ]
     },
     "execution_count": 473,
     "metadata": {},
     "output_type": "execute_result"
    }
   ],
   "source": [
    "grid_search.fit(xs_imp, y)"
   ]
  },
  {
   "cell_type": "code",
   "execution_count": 474,
   "id": "common-bullet",
   "metadata": {},
   "outputs": [
    {
     "data": {
      "text/plain": [
       "{'bootstrap': True,\n",
       " 'max_depth': 2,\n",
       " 'max_features': 'auto',\n",
       " 'min_samples_leaf': 1,\n",
       " 'n_estimators': 41}"
      ]
     },
     "execution_count": 474,
     "metadata": {},
     "output_type": "execute_result"
    }
   ],
   "source": [
    "grid_search.best_params_"
   ]
  },
  {
   "cell_type": "code",
   "execution_count": 475,
   "id": "general-lounge",
   "metadata": {},
   "outputs": [
    {
     "data": {
      "text/plain": [
       "-0.3013246218576413"
      ]
     },
     "execution_count": 475,
     "metadata": {},
     "output_type": "execute_result"
    }
   ],
   "source": [
    "grid_search.score(valid_xs_imp, valid_y)"
   ]
  },
  {
   "cell_type": "code",
   "execution_count": 476,
   "id": "imposed-original",
   "metadata": {},
   "outputs": [],
   "source": [
    "final_model = RandomForestRegressor(n_estimators=41, max_depth=2, max_features=\"auto\", bootstrap=True, random_state=10)"
   ]
  },
  {
   "cell_type": "code",
   "execution_count": 477,
   "id": "relative-advancement",
   "metadata": {},
   "outputs": [
    {
     "data": {
      "text/plain": [
       "RandomForestRegressor(max_depth=2, n_estimators=41, random_state=10)"
      ]
     },
     "execution_count": 477,
     "metadata": {},
     "output_type": "execute_result"
    }
   ],
   "source": [
    "final_model.fit(xs_imp, y)"
   ]
  },
  {
   "cell_type": "code",
   "execution_count": 478,
   "id": "monthly-stadium",
   "metadata": {},
   "outputs": [
    {
     "data": {
      "text/plain": [
       "0.396753"
      ]
     },
     "execution_count": 478,
     "metadata": {},
     "output_type": "execute_result"
    }
   ],
   "source": [
    "m_rmse(final_model, xs_imp, y)"
   ]
  },
  {
   "cell_type": "code",
   "execution_count": 479,
   "id": "hairy-identity",
   "metadata": {},
   "outputs": [
    {
     "data": {
      "text/plain": [
       "1.037774"
      ]
     },
     "execution_count": 479,
     "metadata": {},
     "output_type": "execute_result"
    }
   ],
   "source": [
    "m_rmse(final_model, valid_xs_imp, valid_y)"
   ]
  },
  {
   "cell_type": "markdown",
   "id": "major-assessment",
   "metadata": {},
   "source": [
    "Getting a high error rate. "
   ]
  },
  {
   "cell_type": "markdown",
   "id": "injured-reputation",
   "metadata": {},
   "source": [
    "### Decision Tree trained earlier was doing better."
   ]
  },
  {
   "cell_type": "code",
   "execution_count": null,
   "id": "buried-slave",
   "metadata": {},
   "outputs": [],
   "source": []
  }
 ],
 "metadata": {
  "kernelspec": {
   "display_name": "Python 3",
   "language": "python",
   "name": "python3"
  },
  "language_info": {
   "codemirror_mode": {
    "name": "ipython",
    "version": 3
   },
   "file_extension": ".py",
   "mimetype": "text/x-python",
   "name": "python",
   "nbconvert_exporter": "python",
   "pygments_lexer": "ipython3",
   "version": "3.9.1"
  }
 },
 "nbformat": 4,
 "nbformat_minor": 5
}
