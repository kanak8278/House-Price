{
 "cells": [
  {
   "cell_type": "markdown",
   "id": "neutral-applicant",
   "metadata": {},
   "source": [
    "<img src=\"../img1.png\">"
   ]
  },
  {
   "cell_type": "markdown",
   "id": "ranging-yugoslavia",
   "metadata": {},
   "source": [
    "<h1>House Price Index (HPI)</h1>"
   ]
  },
  {
   "cell_type": "markdown",
   "id": "placed-sodium",
   "metadata": {},
   "source": [
    "<p>A house price index (HPI) measures the price changes of residential housing as a percentage change from some specific start date (which has HPI of 100).</p>"
   ]
  },
  {
   "cell_type": "markdown",
   "id": "endless-progressive",
   "metadata": {},
   "source": [
    "<p>Published by the several agencies such as <b>Federal Housing Finance Agency (FHFA)</b> or <b> Case-Shiller House Price Index</b>, using monthly and quarterly data supplied by <b>Fannie Mae </b> and <b>Freddie Mac</b>.</p>\n",
    "\n",
    "<p>The HPI is based on transactions involving conventional and conforming mortgages on <b>single-family properties</b>. It is a weighted repeat sales index, measuring average price changes in repeat sales or refinancings on the same properties.</p>"
   ]
  },
  {
   "cell_type": "markdown",
   "id": "demanding-arrival",
   "metadata": {},
   "source": [
    "<h2>How the House Price Index (HPI) Is Used</h2>\n",
    "<p>\n",
    "The HPI is one of many economic indicators that investors use to keep a pulse on broader economic trends and potential shifts in the stock market. <u>Price increases</u> generally create <b>more jobs, stimulate confidence and prompt higher consumer spending</b>. This paves the way for greater <b>aggregate demand, boosting gross domestic product (GDP) and overall economic growth</b>.\n",
    "</p>"
   ]
  },
  {
   "cell_type": "markdown",
   "id": "visible-repair",
   "metadata": {},
   "source": [
    "<h3>The House Price Index (HPI) vs. The Case-Shiller Home Price Indexes</h3>"
   ]
  },
  {
   "cell_type": "markdown",
   "id": "superb-guitar",
   "metadata": {},
   "source": [
    "<p>These indexes utilize different data and measuring techniques and, therefore, produce varying results. For example, the HPI (FHFA) weights all homes equally, while the Case-Shiller Home Price indexes are value-weighted.\n",
    "\n",
    "Moreover, while the Case-Shiller indexes only use purchase prices, the all-transactions HPI (FHFA) includes refinance appraisals as well. The HPI also provides wider coverage.</p>"
   ]
  },
  {
   "cell_type": "markdown",
   "id": "committed-button",
   "metadata": {},
   "source": [
    "<h2>S&P/Case-Shiller U.S. National Home Price Index (CSUSHPISA)</h2>"
   ]
  },
  {
   "cell_type": "markdown",
   "id": "divine-exclusion",
   "metadata": {},
   "source": [
    "<h3>What Is a Seasonal Adjustment?</h3>\n"
   ]
  },
  {
   "cell_type": "markdown",
   "id": "central-profit",
   "metadata": {},
   "source": [
    "A seasonal adjustment is a statistical technique designed to even out periodic swings in statistics or movements in supply and demand related to changing seasons. It can, therefore, eliminate misleading seasonal components of an economic time series. "
   ]
  },
  {
   "cell_type": "markdown",
   "id": "outdoor-latin",
   "metadata": {},
   "source": [
    "### Case-Shiller U.S. National Home Price Index \n",
    "**CSUSHPISA**: Case-Shiller U.S. National Home Price Index Seasonally Adjusted\n",
    "\n",
    "**Units**: Index Jan 2000=100, Seasonally Adjusted, Monthly"
   ]
  },
  {
   "cell_type": "markdown",
   "id": "developmental-tooth",
   "metadata": {},
   "source": [
    "Data is preprocessed and feature engineering has already been done in House Index Preprocessing Notebook.\n"
   ]
  },
  {
   "cell_type": "markdown",
   "id": "spiritual-bread",
   "metadata": {},
   "source": [
    "Observations are from 2000-01 upto 2020-12 Monthly Index"
   ]
  },
  {
   "cell_type": "code",
   "execution_count": 1,
   "id": "annual-importance",
   "metadata": {},
   "outputs": [],
   "source": [
    "import pandas as pd\n",
    "import numpy as np\n",
    "from sklearn.preprocessing import StandardScaler, MinMaxScaler\n",
    "from sklearn.model_selection import train_test_split\n",
    "from sklearn.linear_model import LinearRegression"
   ]
  },
  {
   "cell_type": "code",
   "execution_count": 47,
   "id": "stuffed-insulin",
   "metadata": {},
   "outputs": [],
   "source": [
    "df = pd.read_csv(\"Dataset.csv\", parse_dates=[0])"
   ]
  },
  {
   "cell_type": "markdown",
   "id": "greatest-august",
   "metadata": {},
   "source": [
    "# Time Series Columns"
   ]
  },
  {
   "cell_type": "markdown",
   "id": "lucky-retrieval",
   "metadata": {},
   "source": [
    "These time series columns may provide us seasonal variations and time correspondance."
   ]
  },
  {
   "cell_type": "code",
   "execution_count": 37,
   "id": "surrounded-westminster",
   "metadata": {},
   "outputs": [],
   "source": [
    "df[\"Year\"] = pd.DatetimeIndex(df[\"DATE\"]).year"
   ]
  },
  {
   "cell_type": "code",
   "execution_count": 39,
   "id": "durable-midnight",
   "metadata": {},
   "outputs": [],
   "source": [
    "df[\"Month\"] = pd.DatetimeIndex(df[\"DATE\"]).month"
   ]
  },
  {
   "cell_type": "code",
   "execution_count": 42,
   "id": "stone-hudson",
   "metadata": {},
   "outputs": [],
   "source": [
    "df.to_csv(\"Dataset.csv\", index= False)"
   ]
  },
  {
   "cell_type": "code",
   "execution_count": 137,
   "id": "numerous-separate",
   "metadata": {},
   "outputs": [
    {
     "data": {
      "text/plain": [
       "Index(['DATE', 'MORTGAGE15US_Monthly Change', 'MORTGAGE30US_Monthly Change',\n",
       "       'MORTGAGE5US_Monthly Change', 'Rent Index Mon_Chg', 'NASDAQCOM Mon_Chg',\n",
       "       'WILL5000 Per_Mon_Chg', 'House Completed', 'House Under Construction',\n",
       "       '5yr_Maturity Per_Mon_Chg', '10yr_Maturity Per_Mon_Chg',\n",
       "       '30yr_Maturity Per_Mon_Chg', 'CPI Mon_Chg',\n",
       "       'House Index Monthly Change', 'Year', 'Month'],\n",
       "      dtype='object')"
      ]
     },
     "execution_count": 137,
     "metadata": {},
     "output_type": "execute_result"
    }
   ],
   "source": [
    "df.columns"
   ]
  },
  {
   "cell_type": "markdown",
   "id": "thousand-geography",
   "metadata": {},
   "source": [
    "`DATE`: Month and Year of the observation\n",
    "\n",
    "`MORTGAGE15US_Monthly Change`: 15 Year Constant Interest Rate on Mortgage\n",
    "\n",
    "`MORTGAGE30US_Monthly Change`: 30 Year Constant Interest Rate on Mortgage\n",
    "\n",
    "`MORTGAGE5US_Monthly Change`: 5 Year Constant and every next year Increasing Interest Rate on Mortgage (1 yr- Adjustable)\n",
    "\n",
    "`Rent Index Mon_Chg`: Rent Index Monthly Change\n",
    "\n",
    "`NASDAQCOM Mon_Chg`: NASDAQ Composite Index Monthly Change\n",
    "\n",
    "`WILL5000 Per_Mon_Chg`: WILL5000 Index Monthly Percent Change\n",
    "\n",
    "`House Completed`: New Houses Completed on that Month\n",
    "\n",
    "`House Under Construction`: New Houses under Construction that Month\n",
    "\n",
    "`5yr_Maturity Per_Mon_Chg`: Treasury Bond 5 yr Maturity Interest Percent Monthly Change\n",
    "\n",
    "`10yr_Maturity Per_Mon_Chg`: Treasury Bond 10 yr Maturity Interest Percent Monthly Change\n",
    "\n",
    "`30yr_Maturity Per_Mon_Chg`: Treasury Bond 30 yr Maturity Interest Percent Monthly Change\n",
    "\n",
    "`CPI Mon_Chg`: Consumer Price Index Monthly Change\n",
    "\n",
    "`House Index Monthly Change`: House Price Index Monthly Change\n",
    "\n",
    "`Year`: Year\n",
    "\n",
    "`Month`: Month"
   ]
  },
  {
   "cell_type": "code",
   "execution_count": 45,
   "id": "different-exclusive",
   "metadata": {},
   "outputs": [],
   "source": [
    "df = df.drop(\"Day of Week\", axis =1)"
   ]
  },
  {
   "cell_type": "code",
   "execution_count": 46,
   "id": "raised-messenger",
   "metadata": {},
   "outputs": [],
   "source": [
    "df.to_csv(\"Dataset.csv\", index= False)"
   ]
  },
  {
   "cell_type": "code",
   "execution_count": 49,
   "id": "instrumental-sculpture",
   "metadata": {},
   "outputs": [
    {
     "data": {
      "text/html": [
       "<div>\n",
       "<style scoped>\n",
       "    .dataframe tbody tr th:only-of-type {\n",
       "        vertical-align: middle;\n",
       "    }\n",
       "\n",
       "    .dataframe tbody tr th {\n",
       "        vertical-align: top;\n",
       "    }\n",
       "\n",
       "    .dataframe thead th {\n",
       "        text-align: right;\n",
       "    }\n",
       "</style>\n",
       "<table border=\"1\" class=\"dataframe\">\n",
       "  <thead>\n",
       "    <tr style=\"text-align: right;\">\n",
       "      <th></th>\n",
       "      <th>MORTGAGE15US_Monthly Change</th>\n",
       "      <th>MORTGAGE30US_Monthly Change</th>\n",
       "      <th>MORTGAGE5US_Monthly Change</th>\n",
       "      <th>Rent Index Mon_Chg</th>\n",
       "      <th>NASDAQCOM Mon_Chg</th>\n",
       "      <th>WILL5000 Per_Mon_Chg</th>\n",
       "      <th>House Completed</th>\n",
       "      <th>House Under Construction</th>\n",
       "      <th>5yr_Maturity Per_Mon_Chg</th>\n",
       "      <th>10yr_Maturity Per_Mon_Chg</th>\n",
       "      <th>30yr_Maturity Per_Mon_Chg</th>\n",
       "      <th>CPI Mon_Chg</th>\n",
       "      <th>House Index Monthly Change</th>\n",
       "      <th>Year</th>\n",
       "      <th>Month</th>\n",
       "    </tr>\n",
       "  </thead>\n",
       "  <tbody>\n",
       "    <tr>\n",
       "      <th>count</th>\n",
       "      <td>252.000000</td>\n",
       "      <td>252.000000</td>\n",
       "      <td>192.000000</td>\n",
       "      <td>252.000000</td>\n",
       "      <td>252.000000</td>\n",
       "      <td>252.000000</td>\n",
       "      <td>252.000000</td>\n",
       "      <td>252.000000</td>\n",
       "      <td>252.000000</td>\n",
       "      <td>252.000000</td>\n",
       "      <td>252.000000</td>\n",
       "      <td>252.000000</td>\n",
       "      <td>252.000000</td>\n",
       "      <td>252.000000</td>\n",
       "      <td>252.000000</td>\n",
       "    </tr>\n",
       "    <tr>\n",
       "      <th>mean</th>\n",
       "      <td>-0.022161</td>\n",
       "      <td>-0.021929</td>\n",
       "      <td>-0.011716</td>\n",
       "      <td>0.358145</td>\n",
       "      <td>0.901130</td>\n",
       "      <td>0.532949</td>\n",
       "      <td>9.545357</td>\n",
       "      <td>5.393968</td>\n",
       "      <td>-0.488793</td>\n",
       "      <td>-0.334294</td>\n",
       "      <td>-0.395329</td>\n",
       "      <td>0.216250</td>\n",
       "      <td>0.536012</td>\n",
       "      <td>2010.000000</td>\n",
       "      <td>6.500000</td>\n",
       "    </tr>\n",
       "    <tr>\n",
       "      <th>std</th>\n",
       "      <td>0.159897</td>\n",
       "      <td>0.167541</td>\n",
       "      <td>0.114213</td>\n",
       "      <td>0.153565</td>\n",
       "      <td>6.738026</td>\n",
       "      <td>4.495364</td>\n",
       "      <td>3.955034</td>\n",
       "      <td>2.126262</td>\n",
       "      <td>10.908894</td>\n",
       "      <td>9.348693</td>\n",
       "      <td>5.365346</td>\n",
       "      <td>0.371144</td>\n",
       "      <td>0.975878</td>\n",
       "      <td>6.067351</td>\n",
       "      <td>3.458922</td>\n",
       "    </tr>\n",
       "    <tr>\n",
       "      <th>min</th>\n",
       "      <td>-0.752000</td>\n",
       "      <td>-0.801500</td>\n",
       "      <td>-0.408000</td>\n",
       "      <td>-0.166950</td>\n",
       "      <td>-22.009950</td>\n",
       "      <td>-17.706162</td>\n",
       "      <td>3.680000</td>\n",
       "      <td>2.350000</td>\n",
       "      <td>-55.303030</td>\n",
       "      <td>-38.053097</td>\n",
       "      <td>-28.250000</td>\n",
       "      <td>-2.269340</td>\n",
       "      <td>-2.524000</td>\n",
       "      <td>2000.000000</td>\n",
       "      <td>1.000000</td>\n",
       "    </tr>\n",
       "    <tr>\n",
       "      <th>25%</th>\n",
       "      <td>-0.108875</td>\n",
       "      <td>-0.122625</td>\n",
       "      <td>-0.073625</td>\n",
       "      <td>0.276390</td>\n",
       "      <td>-1.963723</td>\n",
       "      <td>-1.917886</td>\n",
       "      <td>6.040000</td>\n",
       "      <td>3.440000</td>\n",
       "      <td>-5.634848</td>\n",
       "      <td>-5.028490</td>\n",
       "      <td>-2.925075</td>\n",
       "      <td>0.055528</td>\n",
       "      <td>0.213250</td>\n",
       "      <td>2005.000000</td>\n",
       "      <td>3.750000</td>\n",
       "    </tr>\n",
       "    <tr>\n",
       "      <th>50%</th>\n",
       "      <td>-0.035500</td>\n",
       "      <td>-0.038500</td>\n",
       "      <td>-0.018000</td>\n",
       "      <td>0.360420</td>\n",
       "      <td>1.058660</td>\n",
       "      <td>1.067772</td>\n",
       "      <td>8.550000</td>\n",
       "      <td>5.200000</td>\n",
       "      <td>-1.040584</td>\n",
       "      <td>-0.233724</td>\n",
       "      <td>-0.545955</td>\n",
       "      <td>0.238040</td>\n",
       "      <td>0.696000</td>\n",
       "      <td>2010.000000</td>\n",
       "      <td>6.500000</td>\n",
       "    </tr>\n",
       "    <tr>\n",
       "      <th>75%</th>\n",
       "      <td>0.043125</td>\n",
       "      <td>0.056250</td>\n",
       "      <td>0.043500</td>\n",
       "      <td>0.463515</td>\n",
       "      <td>3.531090</td>\n",
       "      <td>3.411108</td>\n",
       "      <td>13.082500</td>\n",
       "      <td>6.890000</td>\n",
       "      <td>4.487241</td>\n",
       "      <td>4.247392</td>\n",
       "      <td>2.681090</td>\n",
       "      <td>0.415095</td>\n",
       "      <td>1.000250</td>\n",
       "      <td>2015.000000</td>\n",
       "      <td>9.250000</td>\n",
       "    </tr>\n",
       "    <tr>\n",
       "      <th>max</th>\n",
       "      <td>0.620500</td>\n",
       "      <td>0.631500</td>\n",
       "      <td>0.327000</td>\n",
       "      <td>0.730790</td>\n",
       "      <td>32.665880</td>\n",
       "      <td>13.132351</td>\n",
       "      <td>19.110000</td>\n",
       "      <td>9.900000</td>\n",
       "      <td>42.962963</td>\n",
       "      <td>30.909091</td>\n",
       "      <td>14.696486</td>\n",
       "      <td>1.594800</td>\n",
       "      <td>3.731000</td>\n",
       "      <td>2020.000000</td>\n",
       "      <td>12.000000</td>\n",
       "    </tr>\n",
       "  </tbody>\n",
       "</table>\n",
       "</div>"
      ],
      "text/plain": [
       "       MORTGAGE15US_Monthly Change  MORTGAGE30US_Monthly Change  \\\n",
       "count                   252.000000                   252.000000   \n",
       "mean                     -0.022161                    -0.021929   \n",
       "std                       0.159897                     0.167541   \n",
       "min                      -0.752000                    -0.801500   \n",
       "25%                      -0.108875                    -0.122625   \n",
       "50%                      -0.035500                    -0.038500   \n",
       "75%                       0.043125                     0.056250   \n",
       "max                       0.620500                     0.631500   \n",
       "\n",
       "       MORTGAGE5US_Monthly Change  Rent Index Mon_Chg  NASDAQCOM Mon_Chg  \\\n",
       "count                  192.000000          252.000000         252.000000   \n",
       "mean                    -0.011716            0.358145           0.901130   \n",
       "std                      0.114213            0.153565           6.738026   \n",
       "min                     -0.408000           -0.166950         -22.009950   \n",
       "25%                     -0.073625            0.276390          -1.963723   \n",
       "50%                     -0.018000            0.360420           1.058660   \n",
       "75%                      0.043500            0.463515           3.531090   \n",
       "max                      0.327000            0.730790          32.665880   \n",
       "\n",
       "       WILL5000 Per_Mon_Chg  House Completed  House Under Construction  \\\n",
       "count            252.000000       252.000000                252.000000   \n",
       "mean               0.532949         9.545357                  5.393968   \n",
       "std                4.495364         3.955034                  2.126262   \n",
       "min              -17.706162         3.680000                  2.350000   \n",
       "25%               -1.917886         6.040000                  3.440000   \n",
       "50%                1.067772         8.550000                  5.200000   \n",
       "75%                3.411108        13.082500                  6.890000   \n",
       "max               13.132351        19.110000                  9.900000   \n",
       "\n",
       "       5yr_Maturity Per_Mon_Chg  10yr_Maturity Per_Mon_Chg  \\\n",
       "count                252.000000                 252.000000   \n",
       "mean                  -0.488793                  -0.334294   \n",
       "std                   10.908894                   9.348693   \n",
       "min                  -55.303030                 -38.053097   \n",
       "25%                   -5.634848                  -5.028490   \n",
       "50%                   -1.040584                  -0.233724   \n",
       "75%                    4.487241                   4.247392   \n",
       "max                   42.962963                  30.909091   \n",
       "\n",
       "       30yr_Maturity Per_Mon_Chg  CPI Mon_Chg  House Index Monthly Change  \\\n",
       "count                 252.000000   252.000000                  252.000000   \n",
       "mean                   -0.395329     0.216250                    0.536012   \n",
       "std                     5.365346     0.371144                    0.975878   \n",
       "min                   -28.250000    -2.269340                   -2.524000   \n",
       "25%                    -2.925075     0.055528                    0.213250   \n",
       "50%                    -0.545955     0.238040                    0.696000   \n",
       "75%                     2.681090     0.415095                    1.000250   \n",
       "max                    14.696486     1.594800                    3.731000   \n",
       "\n",
       "              Year       Month  \n",
       "count   252.000000  252.000000  \n",
       "mean   2010.000000    6.500000  \n",
       "std       6.067351    3.458922  \n",
       "min    2000.000000    1.000000  \n",
       "25%    2005.000000    3.750000  \n",
       "50%    2010.000000    6.500000  \n",
       "75%    2015.000000    9.250000  \n",
       "max    2020.000000   12.000000  "
      ]
     },
     "execution_count": 49,
     "metadata": {},
     "output_type": "execute_result"
    }
   ],
   "source": [
    "df.describe()"
   ]
  },
  {
   "cell_type": "markdown",
   "id": "specialized-india",
   "metadata": {},
   "source": [
    "5 year adjustable mortgage has missing values. 60"
   ]
  },
  {
   "cell_type": "code",
   "execution_count": 138,
   "id": "cooperative-williams",
   "metadata": {},
   "outputs": [],
   "source": [
    "df_n = df.drop(columns=[\"MORTGAGE5US_Monthly Change\", \"WILL5000 Per_Mon_Chg\", \"DATE\"])"
   ]
  },
  {
   "cell_type": "markdown",
   "id": "accomplished-cover",
   "metadata": {},
   "source": [
    "As the dataset is small and we have quite number of features therefore I am dropping 5 Year adjustable Mortgage feature. `MORTGAGE5US_Monthly Change`"
   ]
  },
  {
   "cell_type": "markdown",
   "id": "contrary-taste",
   "metadata": {},
   "source": [
    "Distributing train, test data"
   ]
  },
  {
   "cell_type": "markdown",
   "id": "conceptual-belarus",
   "metadata": {},
   "source": [
    "Taking most recent 2 years as test data for prediction"
   ]
  },
  {
   "cell_type": "code",
   "execution_count": 139,
   "id": "sublime-physiology",
   "metadata": {},
   "outputs": [],
   "source": [
    "train_df = df_n[1:-24]"
   ]
  },
  {
   "cell_type": "code",
   "execution_count": 140,
   "id": "inappropriate-warehouse",
   "metadata": {},
   "outputs": [],
   "source": [
    "test_df = df_n[-24:]"
   ]
  },
  {
   "cell_type": "code",
   "execution_count": 141,
   "id": "protected-spectrum",
   "metadata": {},
   "outputs": [],
   "source": [
    "x_train = train_df.drop(\"House Index Monthly Change\", axis=1).values"
   ]
  },
  {
   "cell_type": "code",
   "execution_count": 142,
   "id": "divided-difficulty",
   "metadata": {},
   "outputs": [],
   "source": [
    "y_train = train_df[\"House Index Monthly Change\"].values"
   ]
  },
  {
   "cell_type": "code",
   "execution_count": 143,
   "id": "placed-buffalo",
   "metadata": {},
   "outputs": [],
   "source": [
    "x_test = test_df.drop(\"House Index Monthly Change\", axis=1).values\n",
    "y_test = test_df[\"House Index Monthly Change\"].values"
   ]
  },
  {
   "cell_type": "code",
   "execution_count": 144,
   "id": "disciplinary-settle",
   "metadata": {},
   "outputs": [
    {
     "name": "stdout",
     "output_type": "stream",
     "text": [
      "227 227\n"
     ]
    }
   ],
   "source": [
    "print(len(x_train), len(y_train))"
   ]
  },
  {
   "cell_type": "markdown",
   "id": "cubic-louisville",
   "metadata": {},
   "source": [
    "# Linear Regression Model Sklearn"
   ]
  },
  {
   "cell_type": "code",
   "execution_count": 145,
   "id": "included-jerusalem",
   "metadata": {},
   "outputs": [],
   "source": [
    "linear_model = LinearRegression()"
   ]
  },
  {
   "cell_type": "code",
   "execution_count": 146,
   "id": "focal-apparel",
   "metadata": {},
   "outputs": [
    {
     "data": {
      "text/plain": [
       "LinearRegression()"
      ]
     },
     "execution_count": 146,
     "metadata": {},
     "output_type": "execute_result"
    }
   ],
   "source": [
    "linear_model.fit(x_train, y_train)"
   ]
  },
  {
   "cell_type": "code",
   "execution_count": 147,
   "id": "comprehensive-costume",
   "metadata": {},
   "outputs": [
    {
     "data": {
      "text/plain": [
       "0.30271448354532493"
      ]
     },
     "execution_count": 147,
     "metadata": {},
     "output_type": "execute_result"
    }
   ],
   "source": [
    "linear_model.score(x_train, y_train)"
   ]
  },
  {
   "cell_type": "code",
   "execution_count": 148,
   "id": "british-block",
   "metadata": {},
   "outputs": [],
   "source": [
    "preds = linear_model.predict(x_test)"
   ]
  },
  {
   "cell_type": "code",
   "execution_count": 149,
   "id": "after-hollow",
   "metadata": {},
   "outputs": [
    {
     "data": {
      "text/plain": [
       "0.13585856509509653"
      ]
     },
     "execution_count": 149,
     "metadata": {},
     "output_type": "execute_result"
    }
   ],
   "source": [
    "from sklearn.metrics import r2_score\n",
    "score = r2_score(y_test, preds)\n",
    "score"
   ]
  },
  {
   "cell_type": "code",
   "execution_count": 150,
   "id": "disabled-access",
   "metadata": {},
   "outputs": [
    {
     "data": {
      "text/plain": [
       "0.9573928754627389"
      ]
     },
     "execution_count": 150,
     "metadata": {},
     "output_type": "execute_result"
    }
   ],
   "source": [
    "from sklearn.metrics import mean_squared_error\n",
    "acc_score = mean_squared_error(y_test, preds)\n",
    "acc_score"
   ]
  },
  {
   "cell_type": "markdown",
   "id": "musical-server",
   "metadata": {},
   "source": [
    "# Random Forest Model"
   ]
  },
  {
   "cell_type": "code",
   "execution_count": 151,
   "id": "outside-physiology",
   "metadata": {},
   "outputs": [],
   "source": [
    "from sklearn.ensemble import RandomForestRegressor"
   ]
  },
  {
   "cell_type": "markdown",
   "id": "collect-productivity",
   "metadata": {},
   "source": [
    "### Model with default values"
   ]
  },
  {
   "cell_type": "code",
   "execution_count": 152,
   "id": "musical-auckland",
   "metadata": {},
   "outputs": [],
   "source": [
    "random_forest_reg = RandomForestRegressor(max_depth= 3, random_state=42)"
   ]
  },
  {
   "cell_type": "code",
   "execution_count": 153,
   "id": "collected-format",
   "metadata": {},
   "outputs": [
    {
     "data": {
      "text/plain": [
       "RandomForestRegressor(max_depth=3, random_state=42)"
      ]
     },
     "execution_count": 153,
     "metadata": {},
     "output_type": "execute_result"
    }
   ],
   "source": [
    "random_forest_reg.fit(x_train, y_train)"
   ]
  },
  {
   "cell_type": "code",
   "execution_count": 154,
   "id": "lonely-teach",
   "metadata": {},
   "outputs": [
    {
     "data": {
      "text/plain": [
       "-0.16156228526251804"
      ]
     },
     "execution_count": 154,
     "metadata": {},
     "output_type": "execute_result"
    }
   ],
   "source": [
    "random_forest_reg.score(x_test, y_test)"
   ]
  },
  {
   "cell_type": "markdown",
   "id": "enhanced-medicine",
   "metadata": {},
   "source": [
    "### Customized Hyperparameter Model"
   ]
  },
  {
   "cell_type": "code",
   "execution_count": 155,
   "id": "correct-pizza",
   "metadata": {},
   "outputs": [],
   "source": [
    "forest = RandomForestRegressor(n_estimators=5, max_depth= 10, random_state=42)"
   ]
  },
  {
   "cell_type": "code",
   "execution_count": 156,
   "id": "vanilla-stranger",
   "metadata": {},
   "outputs": [
    {
     "data": {
      "text/plain": [
       "RandomForestRegressor(max_depth=10, n_estimators=5, random_state=42)"
      ]
     },
     "execution_count": 156,
     "metadata": {},
     "output_type": "execute_result"
    }
   ],
   "source": [
    "forest.fit(x_train, y_train)"
   ]
  },
  {
   "cell_type": "code",
   "execution_count": 157,
   "id": "crucial-outline",
   "metadata": {},
   "outputs": [],
   "source": [
    "preds = forest.predict(x_test)"
   ]
  },
  {
   "cell_type": "code",
   "execution_count": 158,
   "id": "indian-royal",
   "metadata": {},
   "outputs": [
    {
     "data": {
      "text/plain": [
       "array([0.57125714, 0.63125714, 0.9654    , 0.9576    , 0.77195   ,\n",
       "       0.8124    , 0.6628    , 0.6584    , 0.9708    , 0.77224   ,\n",
       "       0.87865714, 0.82905714, 0.9056    , 0.56965714, 0.7662    ,\n",
       "       0.8618    , 0.78217667, 0.9252    , 0.7712    , 0.9632    ,\n",
       "       0.77164   , 0.924     , 0.65188   , 0.948     ])"
      ]
     },
     "execution_count": 158,
     "metadata": {},
     "output_type": "execute_result"
    }
   ],
   "source": [
    "preds"
   ]
  },
  {
   "cell_type": "code",
   "execution_count": 159,
   "id": "short-necklace",
   "metadata": {},
   "outputs": [
    {
     "data": {
      "text/plain": [
       "array([0.414, 0.396, 0.641, 0.73 , 0.638, 0.343, 0.385, 0.686, 0.693,\n",
       "       0.714, 0.916, 0.992, 1.051, 0.992, 1.246, 0.866, 0.216, 0.418,\n",
       "       1.36 , 2.782, 3.176, 3.731, 3.334, 2.954])"
      ]
     },
     "execution_count": 159,
     "metadata": {},
     "output_type": "execute_result"
    }
   ],
   "source": [
    "y_test"
   ]
  },
  {
   "cell_type": "code",
   "execution_count": 160,
   "id": "talented-explorer",
   "metadata": {},
   "outputs": [
    {
     "data": {
      "text/plain": [
       "1.2584209494531595"
      ]
     },
     "execution_count": 160,
     "metadata": {},
     "output_type": "execute_result"
    }
   ],
   "source": [
    "mean_squared_error(y_test, preds)"
   ]
  },
  {
   "cell_type": "code",
   "execution_count": 161,
   "id": "blank-moderator",
   "metadata": {},
   "outputs": [
    {
     "data": {
      "text/plain": [
       "-0.1358489423156013"
      ]
     },
     "execution_count": 161,
     "metadata": {},
     "output_type": "execute_result"
    }
   ],
   "source": [
    "forest.score(x_test, y_test)"
   ]
  },
  {
   "cell_type": "code",
   "execution_count": 162,
   "id": "rural-infrastructure",
   "metadata": {},
   "outputs": [],
   "source": [
    "import matplotlib.pyplot as plt"
   ]
  },
  {
   "cell_type": "code",
   "execution_count": 164,
   "id": "academic-bermuda",
   "metadata": {},
   "outputs": [
    {
     "data": {
      "text/plain": [
       "Text(0, 0.5, 'Predicted Monthly Change')"
      ]
     },
     "execution_count": 164,
     "metadata": {},
     "output_type": "execute_result"
    },
    {
     "data": {
      "image/png": "[encoded data removed]",
      "text/plain": [
       "<Figure size 720x720 with 1 Axes>"
      ]
     },
     "metadata": {
      "needs_background": "light"
     },
     "output_type": "display_data"
    }
   ],
   "source": [
    "plt.figure(figsize=(10, 10))\n",
    "plt.scatter(x= df[\"DATE\"][-24:], y= [preds])\n",
    "plt.xlabel(\"DATE\")\n",
    "plt.ylabel(\"Predicted Monthly Change\")"
   ]
  },
  {
   "cell_type": "code",
   "execution_count": 135,
   "id": "hazardous-chassis",
   "metadata": {},
   "outputs": [
    {
     "data": {
      "text/plain": [
       "Text(0, 0.5, 'Predicted Monthly Change')"
      ]
     },
     "execution_count": 135,
     "metadata": {},
     "output_type": "execute_result"
    },
    {
     "data": {
      "image/png": "[encoded data removed]",
      "text/plain": [
       "<Figure size 720x720 with 1 Axes>"
      ]
     },
     "metadata": {
      "needs_background": "light"
     },
     "output_type": "display_data"
    }
   ],
   "source": [
    "plt.figure(figsize=(10, 10))\n",
    "plt.scatter(x= df[\"DATE\"][-24:], y= [y_test])\n",
    "plt.xlabel(\"DATE\")\n",
    "plt.ylabel(\"Predicted Monthly Change\")"
   ]
  },
  {
   "cell_type": "markdown",
   "id": "informal-teens",
   "metadata": {},
   "source": [
    "The dataset is very small, experimentation results are not very satisfying."
   ]
  },
  {
   "cell_type": "markdown",
   "id": "lyric-niger",
   "metadata": {},
   "source": [
    "Dropping more features: \n",
    "`Year`\n",
    "`Month`\n",
    "`5yr_Maturity Per_Mon_Chg`\n",
    "`10yr_Maturity Per_Mon_Chg`\n",
    "`30yr_Maturity Per_Mon_Chg`"
   ]
  },
  {
   "cell_type": "code",
   "execution_count": 168,
   "id": "tamil-heating",
   "metadata": {},
   "outputs": [],
   "source": [
    "df_f = df_n.drop([\"Year\", \"Month\", \"5yr_Maturity Per_Mon_Chg\", \"10yr_Maturity Per_Mon_Chg\", \"30yr_Maturity Per_Mon_Chg\"], axis =1)"
   ]
  },
  {
   "cell_type": "code",
   "execution_count": null,
   "id": "clean-nomination",
   "metadata": {},
   "outputs": [],
   "source": []
  },
  {
   "cell_type": "code",
   "execution_count": 169,
   "id": "loved-ethernet",
   "metadata": {},
   "outputs": [],
   "source": [
    "tr_df = df_f[1:-24]"
   ]
  },
  {
   "cell_type": "code",
   "execution_count": 170,
   "id": "diagnostic-biodiversity",
   "metadata": {},
   "outputs": [],
   "source": [
    "tst_df = df_f[-24:]"
   ]
  },
  {
   "cell_type": "code",
   "execution_count": 171,
   "id": "posted-visibility",
   "metadata": {},
   "outputs": [],
   "source": [
    "x_tr = tr_df.drop(\"House Index Monthly Change\", axis=1).values"
   ]
  },
  {
   "cell_type": "code",
   "execution_count": 172,
   "id": "meaning-concrete",
   "metadata": {},
   "outputs": [],
   "source": [
    "y_tr = tr_df[\"House Index Monthly Change\"].values"
   ]
  },
  {
   "cell_type": "code",
   "execution_count": 173,
   "id": "southeast-onion",
   "metadata": {},
   "outputs": [],
   "source": [
    "x_tst = tst_df.drop(\"House Index Monthly Change\", axis=1).values\n",
    "y_tst = tst_df[\"House Index Monthly Change\"].values"
   ]
  },
  {
   "cell_type": "code",
   "execution_count": 174,
   "id": "labeled-underwear",
   "metadata": {},
   "outputs": [
    {
     "name": "stdout",
     "output_type": "stream",
     "text": [
      "227 227\n"
     ]
    }
   ],
   "source": [
    "print(len(x_tr), len(y_tr))"
   ]
  },
  {
   "cell_type": "code",
   "execution_count": null,
   "id": "robust-tissue",
   "metadata": {},
   "outputs": [],
   "source": []
  },
  {
   "cell_type": "markdown",
   "id": "comfortable-writer",
   "metadata": {},
   "source": [
    "# Linear Regression Model Sklearn"
   ]
  },
  {
   "cell_type": "code",
   "execution_count": 175,
   "id": "controlling-virtue",
   "metadata": {},
   "outputs": [],
   "source": [
    "linear_model = LinearRegression()"
   ]
  },
  {
   "cell_type": "code",
   "execution_count": 176,
   "id": "auburn-amsterdam",
   "metadata": {},
   "outputs": [
    {
     "data": {
      "text/plain": [
       "LinearRegression()"
      ]
     },
     "execution_count": 176,
     "metadata": {},
     "output_type": "execute_result"
    }
   ],
   "source": [
    "linear_model.fit(x_tr, y_tr)"
   ]
  },
  {
   "cell_type": "code",
   "execution_count": 177,
   "id": "prospective-farmer",
   "metadata": {},
   "outputs": [
    {
     "data": {
      "text/plain": [
       "0.17980429359611472"
      ]
     },
     "execution_count": 177,
     "metadata": {},
     "output_type": "execute_result"
    }
   ],
   "source": [
    "linear_model.score(x_tr, y_tr)"
   ]
  },
  {
   "cell_type": "code",
   "execution_count": 178,
   "id": "typical-recruitment",
   "metadata": {},
   "outputs": [],
   "source": [
    "preds = linear_model.predict(x_tst)"
   ]
  },
  {
   "cell_type": "code",
   "execution_count": 179,
   "id": "steady-oliver",
   "metadata": {},
   "outputs": [
    {
     "data": {
      "text/plain": [
       "-0.7833334855373053"
      ]
     },
     "execution_count": 179,
     "metadata": {},
     "output_type": "execute_result"
    }
   ],
   "source": [
    "from sklearn.metrics import r2_score\n",
    "score = r2_score(y_tst, preds)\n",
    "score"
   ]
  },
  {
   "cell_type": "code",
   "execution_count": 181,
   "id": "above-insight",
   "metadata": {},
   "outputs": [
    {
     "data": {
      "text/plain": [
       "1.9757770020777201"
      ]
     },
     "execution_count": 181,
     "metadata": {},
     "output_type": "execute_result"
    }
   ],
   "source": [
    "from sklearn.metrics import mean_squared_error\n",
    "err_score = mean_squared_error(y_tst, preds)\n",
    "err_score"
   ]
  },
  {
   "cell_type": "markdown",
   "id": "excited-christmas",
   "metadata": {},
   "source": [
    "# Random Forest Model"
   ]
  },
  {
   "cell_type": "code",
   "execution_count": 182,
   "id": "pregnant-service",
   "metadata": {},
   "outputs": [],
   "source": [
    "from sklearn.ensemble import RandomForestRegressor"
   ]
  },
  {
   "cell_type": "markdown",
   "id": "dynamic-chart",
   "metadata": {},
   "source": [
    "### Model with default values"
   ]
  },
  {
   "cell_type": "code",
   "execution_count": 183,
   "id": "roman-cable",
   "metadata": {},
   "outputs": [],
   "source": [
    "random_forest_reg = RandomForestRegressor(max_depth= 3, random_state=42)"
   ]
  },
  {
   "cell_type": "code",
   "execution_count": 184,
   "id": "unlikely-navigator",
   "metadata": {},
   "outputs": [
    {
     "data": {
      "text/plain": [
       "RandomForestRegressor(max_depth=3, random_state=42)"
      ]
     },
     "execution_count": 184,
     "metadata": {},
     "output_type": "execute_result"
    }
   ],
   "source": [
    "random_forest_reg.fit(x_tr, y_tr)"
   ]
  },
  {
   "cell_type": "code",
   "execution_count": 185,
   "id": "fantastic-stuff",
   "metadata": {},
   "outputs": [
    {
     "data": {
      "text/plain": [
       "-0.9791592496162065"
      ]
     },
     "execution_count": 185,
     "metadata": {},
     "output_type": "execute_result"
    }
   ],
   "source": [
    "random_forest_reg.score(x_tst, y_tst)"
   ]
  }
 ],
 "metadata": {
  "kernelspec": {
   "display_name": "Python 3",
   "language": "python",
   "name": "python3"
  },
  "language_info": {
   "codemirror_mode": {
    "name": "ipython",
    "version": 3
   },
   "file_extension": ".py",
   "mimetype": "text/x-python",
   "name": "python",
   "nbconvert_exporter": "python",
   "pygments_lexer": "ipython3",
   "version": "3.9.1"
  }
 },
 "nbformat": 4,
 "nbformat_minor": 5
}
