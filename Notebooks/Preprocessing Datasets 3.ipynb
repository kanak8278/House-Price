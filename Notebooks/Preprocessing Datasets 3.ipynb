{
 "cells": [
  {
   "cell_type": "markdown",
   "id": "german-detector",
   "metadata": {},
   "source": [
    "## Adding more features to our dataset"
   ]
  },
  {
   "cell_type": "code",
   "execution_count": 1,
   "id": "infectious-thailand",
   "metadata": {},
   "outputs": [],
   "source": [
    "import pandas as pd\n",
    "import numpy as np\n",
    "import matplotlib.pyplot as plt"
   ]
  },
  {
   "cell_type": "code",
   "execution_count": 2,
   "id": "successful-rapid",
   "metadata": {},
   "outputs": [],
   "source": [
    "import os "
   ]
  },
  {
   "cell_type": "code",
   "execution_count": 42,
   "id": "herbal-dispute",
   "metadata": {},
   "outputs": [],
   "source": [
    "raw_dataPath = \"../Raw Data/New Data\"\n",
    "files_list = os.listdir(raw_dataPath)"
   ]
  },
  {
   "cell_type": "markdown",
   "id": "based-polls",
   "metadata": {},
   "source": [
    "### List of all new features and dataset added"
   ]
  },
  {
   "cell_type": "code",
   "execution_count": 72,
   "id": "infrared-spectrum",
   "metadata": {},
   "outputs": [
    {
     "name": "stdout",
     "output_type": "stream",
     "text": [
      "0 Median Sales Price for New Houses Sold.csv\n",
      "1 .DS_Store\n",
      "2 Real Private Residential Fixed Investment.csv\n",
      "3 Unemployment Rate - Black or African American.csv\n",
      "4 Total Construction Spending- Residential.csv\n",
      "5 Personal Income.csv\n",
      "6 AverageHourlySalary-Private.csv\n",
      "7 Job Openings- Total Nonfarm.csv\n",
      "8 Unemployment Rate.csv\n",
      "9 Unemployment Rate - White.csv\n",
      "10 Monthly Supply of Houses in the United States.csv\n",
      "11 Homeownership Rate for the United States.csv\n",
      "12 Real Personal Income.csv\n",
      "13 Insured Unemployment Rate.csv\n",
      "14 Median Sales Price for New Houses Sold in the United States.csv\n",
      "15 Number Unemployed for 27 Weeks & Over.csv\n",
      "16 EMRATIO.csv\n"
     ]
    }
   ],
   "source": [
    "for idx,file in enumerate(files_list):\n",
    "    print(idx, file)"
   ]
  },
  {
   "cell_type": "markdown",
   "id": "scheduled-protocol",
   "metadata": {},
   "source": [
    "### New Features related to employment and wages"
   ]
  },
  {
   "cell_type": "code",
   "execution_count": 55,
   "id": "unauthorized-diagram",
   "metadata": {},
   "outputs": [],
   "source": [
    "unemployment_rate_color = pd.read_csv(f\"{raw_dataPath}/{files_list[3]}\", parse_dates=[0])\n",
    "unemployment_rate_white = pd.read_csv(f\"{raw_dataPath}/{files_list[9]}\", parse_dates=[0])\n",
    "unemployment_rate = pd.read_csv(f\"{raw_dataPath}/{files_list[8]}\", parse_dates=[0])\n",
    "insured_unemployment_rate = pd.read_csv(f\"{raw_dataPath}/{files_list[13]}\", parse_dates=[0])\n",
    "long_unemployed = pd.read_csv(f\"{raw_dataPath}/{files_list[15]}\", parse_dates=[0])\n",
    "emratio = pd.read_csv(f\"{raw_dataPath}/{files_list[16]}\", parse_dates=[0])"
   ]
  },
  {
   "cell_type": "code",
   "execution_count": 78,
   "id": "fifty-constitution",
   "metadata": {},
   "outputs": [],
   "source": [
    "personal_income = pd.read_csv(f\"{raw_dataPath}/{files_list[5]}\", parse_dates=[0])\n",
    "avg_hr_salary = pd.read_csv(f\"{raw_dataPath}/{files_list[6]}\", parse_dates=[0])\n",
    "job_openings = pd.read_csv(f\"{raw_dataPath}/{files_list[7]}\", parse_dates=[0])\n",
    "real_personal_income = pd.read_csv(f\"{raw_dataPath}/{files_list[12]}\", parse_dates=[0])"
   ]
  },
  {
   "cell_type": "code",
   "execution_count": 60,
   "id": "opened-newsletter",
   "metadata": {},
   "outputs": [
    {
     "data": {
      "text/plain": [
       "'Unemployment Rate.csv'"
      ]
     },
     "execution_count": 60,
     "metadata": {},
     "output_type": "execute_result"
    }
   ],
   "source": [
    "files_list[8]"
   ]
  },
  {
   "cell_type": "markdown",
   "id": "entertaining-purse",
   "metadata": {},
   "source": [
    "### `chech_df` for verifying the seasonality and date range of the different datatables"
   ]
  },
  {
   "cell_type": "code",
   "execution_count": 61,
   "id": "exceptional-stadium",
   "metadata": {},
   "outputs": [],
   "source": [
    "def check_df(df):\n",
    "    print(df.shape)\n",
    "    print(df.columns)\n",
    "    print(df[\"DATE\"].max(), df[\"DATE\"].min())"
   ]
  },
  {
   "cell_type": "code",
   "execution_count": 62,
   "id": "retained-summer",
   "metadata": {},
   "outputs": [
    {
     "name": "stdout",
     "output_type": "stream",
     "text": [
      "(252, 2)\n",
      "Index(['DATE', 'UNRATE'], dtype='object')\n",
      "2020-12-01 00:00:00 2000-01-01 00:00:00\n"
     ]
    }
   ],
   "source": [
    "check_df(unemployment_rate)"
   ]
  },
  {
   "cell_type": "code",
   "execution_count": 63,
   "id": "quality-necklace",
   "metadata": {},
   "outputs": [
    {
     "name": "stdout",
     "output_type": "stream",
     "text": [
      "(252, 2)\n",
      "Index(['DATE', 'LNS14000006'], dtype='object')\n",
      "2020-12-01 00:00:00 2000-01-01 00:00:00\n"
     ]
    }
   ],
   "source": [
    "check_df(unemployment_rate_color)"
   ]
  },
  {
   "cell_type": "code",
   "execution_count": 64,
   "id": "textile-hollywood",
   "metadata": {},
   "outputs": [
    {
     "name": "stdout",
     "output_type": "stream",
     "text": [
      "(252, 2)\n",
      "Index(['DATE', 'LNS14000003'], dtype='object')\n",
      "2020-12-01 00:00:00 2000-01-01 00:00:00\n"
     ]
    }
   ],
   "source": [
    "check_df(unemployment_rate_white)"
   ]
  },
  {
   "cell_type": "code",
   "execution_count": 65,
   "id": "surgical-soundtrack",
   "metadata": {},
   "outputs": [
    {
     "name": "stdout",
     "output_type": "stream",
     "text": [
      "(252, 2)\n",
      "Index(['DATE', 'IURNSA'], dtype='object')\n",
      "2020-12-01 00:00:00 2000-01-01 00:00:00\n"
     ]
    }
   ],
   "source": [
    "check_df(insured_unemployment_rate)"
   ]
  },
  {
   "cell_type": "code",
   "execution_count": 66,
   "id": "rapid-lloyd",
   "metadata": {},
   "outputs": [
    {
     "name": "stdout",
     "output_type": "stream",
     "text": [
      "(252, 2)\n",
      "Index(['DATE', 'UEMP27OV'], dtype='object')\n",
      "2020-12-01 00:00:00 2000-01-01 00:00:00\n"
     ]
    }
   ],
   "source": [
    "check_df(long_unemployed)"
   ]
  },
  {
   "cell_type": "code",
   "execution_count": 67,
   "id": "covered-injection",
   "metadata": {
    "collapsed": true,
    "jupyter": {
     "outputs_hidden": true
    }
   },
   "outputs": [
    {
     "data": {
      "text/html": [
       "<div>\n",
       "<style scoped>\n",
       "    .dataframe tbody tr th:only-of-type {\n",
       "        vertical-align: middle;\n",
       "    }\n",
       "\n",
       "    .dataframe tbody tr th {\n",
       "        vertical-align: top;\n",
       "    }\n",
       "\n",
       "    .dataframe thead th {\n",
       "        text-align: right;\n",
       "    }\n",
       "</style>\n",
       "<table border=\"1\" class=\"dataframe\">\n",
       "  <thead>\n",
       "    <tr style=\"text-align: right;\">\n",
       "      <th></th>\n",
       "      <th>DATE</th>\n",
       "      <th>UEMP27OV</th>\n",
       "    </tr>\n",
       "  </thead>\n",
       "  <tbody>\n",
       "    <tr>\n",
       "      <th>0</th>\n",
       "      <td>2000-01-01</td>\n",
       "      <td>721</td>\n",
       "    </tr>\n",
       "    <tr>\n",
       "      <th>1</th>\n",
       "      <td>2000-02-01</td>\n",
       "      <td>629</td>\n",
       "    </tr>\n",
       "    <tr>\n",
       "      <th>2</th>\n",
       "      <td>2000-03-01</td>\n",
       "      <td>646</td>\n",
       "    </tr>\n",
       "    <tr>\n",
       "      <th>3</th>\n",
       "      <td>2000-04-01</td>\n",
       "      <td>599</td>\n",
       "    </tr>\n",
       "    <tr>\n",
       "      <th>4</th>\n",
       "      <td>2000-05-01</td>\n",
       "      <td>643</td>\n",
       "    </tr>\n",
       "    <tr>\n",
       "      <th>...</th>\n",
       "      <td>...</td>\n",
       "      <td>...</td>\n",
       "    </tr>\n",
       "    <tr>\n",
       "      <th>247</th>\n",
       "      <td>2020-08-01</td>\n",
       "      <td>1593</td>\n",
       "    </tr>\n",
       "    <tr>\n",
       "      <th>248</th>\n",
       "      <td>2020-09-01</td>\n",
       "      <td>2405</td>\n",
       "    </tr>\n",
       "    <tr>\n",
       "      <th>249</th>\n",
       "      <td>2020-10-01</td>\n",
       "      <td>3534</td>\n",
       "    </tr>\n",
       "    <tr>\n",
       "      <th>250</th>\n",
       "      <td>2020-11-01</td>\n",
       "      <td>3929</td>\n",
       "    </tr>\n",
       "    <tr>\n",
       "      <th>251</th>\n",
       "      <td>2020-12-01</td>\n",
       "      <td>3956</td>\n",
       "    </tr>\n",
       "  </tbody>\n",
       "</table>\n",
       "<p>252 rows × 2 columns</p>\n",
       "</div>"
      ],
      "text/plain": [
       "          DATE  UEMP27OV\n",
       "0   2000-01-01       721\n",
       "1   2000-02-01       629\n",
       "2   2000-03-01       646\n",
       "3   2000-04-01       599\n",
       "4   2000-05-01       643\n",
       "..         ...       ...\n",
       "247 2020-08-01      1593\n",
       "248 2020-09-01      2405\n",
       "249 2020-10-01      3534\n",
       "250 2020-11-01      3929\n",
       "251 2020-12-01      3956\n",
       "\n",
       "[252 rows x 2 columns]"
      ]
     },
     "execution_count": 67,
     "metadata": {},
     "output_type": "execute_result"
    }
   ],
   "source": [
    "long_unemployed"
   ]
  },
  {
   "cell_type": "markdown",
   "id": "complex-leather",
   "metadata": {},
   "source": [
    "May be we will not be using `long_unemployed` as it gives numbers (Thousand of Persons) whereas all other paramenter are some form of rates. And `long_unemployed` will already be considered in `unemployment_rate`."
   ]
  },
  {
   "cell_type": "code",
   "execution_count": 68,
   "id": "backed-marine",
   "metadata": {},
   "outputs": [
    {
     "name": "stdout",
     "output_type": "stream",
     "text": [
      "(252, 2)\n",
      "Index(['DATE', 'EMRATIO'], dtype='object')\n",
      "2020-12-01 00:00:00 2000-01-01 00:00:00\n"
     ]
    }
   ],
   "source": [
    "check_df(emratio)"
   ]
  },
  {
   "cell_type": "code",
   "execution_count": 74,
   "id": "protected-customer",
   "metadata": {},
   "outputs": [
    {
     "name": "stdout",
     "output_type": "stream",
     "text": [
      "(252, 2)\n",
      "Index(['DATE', 'PI'], dtype='object')\n",
      "2020-12-01 00:00:00 2000-01-01 00:00:00\n"
     ]
    }
   ],
   "source": [
    "check_df(personal_income)"
   ]
  },
  {
   "cell_type": "code",
   "execution_count": 75,
   "id": "optical-mongolia",
   "metadata": {},
   "outputs": [
    {
     "name": "stdout",
     "output_type": "stream",
     "text": [
      "(252, 2)\n",
      "Index(['DATE', 'RPI'], dtype='object')\n",
      "2020-12-01 00:00:00 2000-01-01 00:00:00\n"
     ]
    }
   ],
   "source": [
    "check_df(real_personal_income)"
   ]
  },
  {
   "cell_type": "code",
   "execution_count": 79,
   "id": "interim-brighton",
   "metadata": {},
   "outputs": [
    {
     "name": "stdout",
     "output_type": "stream",
     "text": [
      "(241, 2)\n",
      "Index(['DATE', 'JTSJOL'], dtype='object')\n",
      "2020-12-01 00:00:00 2000-12-01 00:00:00\n"
     ]
    }
   ],
   "source": [
    "check_df(job_openings)"
   ]
  },
  {
   "cell_type": "markdown",
   "id": "prostate-gibson",
   "metadata": {},
   "source": [
    "There are only 241 rows, but other monthly data has 252 rows. We need to check what and why of missing values?\n",
    "\n",
    "Data is starting from December 2000 whereas other dataframes have start date of Jan 2000. Thats why 11 rows are missing. Data before December was not available.\n"
   ]
  },
  {
   "cell_type": "code",
   "execution_count": 77,
   "id": "divided-surname",
   "metadata": {},
   "outputs": [
    {
     "name": "stdout",
     "output_type": "stream",
     "text": [
      "(178, 2)\n",
      "Index(['DATE', 'CES0500000003'], dtype='object')\n",
      "2020-12-01 00:00:00 2006-03-01 00:00:00\n"
     ]
    }
   ],
   "source": [
    "check_df(avg_hr_salary)"
   ]
  },
  {
   "cell_type": "markdown",
   "id": "fixed-gauge",
   "metadata": {},
   "source": [
    "Average_Hourly_Salary-Private has $63$ out of $241$ columns missing i.e. $26$% of data. "
   ]
  },
  {
   "cell_type": "markdown",
   "id": "above-entrance",
   "metadata": {},
   "source": [
    "We could look to impute the missing values in above two dataframes `job_openings` & `avg_hr_salary` later on."
   ]
  },
  {
   "cell_type": "markdown",
   "id": "offshore-egypt",
   "metadata": {},
   "source": [
    "### Merge all above data about employment, job and salary into a common dataframe for easier utilization."
   ]
  },
  {
   "cell_type": "markdown",
   "id": "unlikely-river",
   "metadata": {},
   "source": [
    "### Before merging we need to rename the columns for easy understanding."
   ]
  },
  {
   "cell_type": "code",
   "execution_count": 93,
   "id": "flying-bouquet",
   "metadata": {},
   "outputs": [],
   "source": [
    "def rename_column(df, name):\n",
    "    return df.rename(columns={df.columns[1]:name[:-4]})"
   ]
  },
  {
   "cell_type": "code",
   "execution_count": 96,
   "id": "sought-table",
   "metadata": {},
   "outputs": [],
   "source": [
    "avg_hr_salary = rename_column(avg_hr_salary, files_list[6])"
   ]
  },
  {
   "cell_type": "code",
   "execution_count": 98,
   "id": "ideal-freedom",
   "metadata": {},
   "outputs": [],
   "source": [
    "unemployment_rate = rename_column(unemployment_rate, files_list[8])"
   ]
  },
  {
   "cell_type": "code",
   "execution_count": 102,
   "id": "hired-athens",
   "metadata": {
    "collapsed": true,
    "jupyter": {
     "outputs_hidden": true
    }
   },
   "outputs": [
    {
     "data": {
      "text/html": [
       "<div>\n",
       "<style scoped>\n",
       "    .dataframe tbody tr th:only-of-type {\n",
       "        vertical-align: middle;\n",
       "    }\n",
       "\n",
       "    .dataframe tbody tr th {\n",
       "        vertical-align: top;\n",
       "    }\n",
       "\n",
       "    .dataframe thead th {\n",
       "        text-align: right;\n",
       "    }\n",
       "</style>\n",
       "<table border=\"1\" class=\"dataframe\">\n",
       "  <thead>\n",
       "    <tr style=\"text-align: right;\">\n",
       "      <th></th>\n",
       "      <th>DATE</th>\n",
       "      <th>Unemployment Rate - Black or African American</th>\n",
       "    </tr>\n",
       "  </thead>\n",
       "  <tbody>\n",
       "    <tr>\n",
       "      <th>0</th>\n",
       "      <td>2000-01-01</td>\n",
       "      <td>8.2</td>\n",
       "    </tr>\n",
       "    <tr>\n",
       "      <th>1</th>\n",
       "      <td>2000-02-01</td>\n",
       "      <td>8.1</td>\n",
       "    </tr>\n",
       "    <tr>\n",
       "      <th>2</th>\n",
       "      <td>2000-03-01</td>\n",
       "      <td>7.4</td>\n",
       "    </tr>\n",
       "    <tr>\n",
       "      <th>3</th>\n",
       "      <td>2000-04-01</td>\n",
       "      <td>7.0</td>\n",
       "    </tr>\n",
       "    <tr>\n",
       "      <th>4</th>\n",
       "      <td>2000-05-01</td>\n",
       "      <td>7.7</td>\n",
       "    </tr>\n",
       "    <tr>\n",
       "      <th>...</th>\n",
       "      <td>...</td>\n",
       "      <td>...</td>\n",
       "    </tr>\n",
       "    <tr>\n",
       "      <th>247</th>\n",
       "      <td>2020-08-01</td>\n",
       "      <td>12.8</td>\n",
       "    </tr>\n",
       "    <tr>\n",
       "      <th>248</th>\n",
       "      <td>2020-09-01</td>\n",
       "      <td>12.0</td>\n",
       "    </tr>\n",
       "    <tr>\n",
       "      <th>249</th>\n",
       "      <td>2020-10-01</td>\n",
       "      <td>10.8</td>\n",
       "    </tr>\n",
       "    <tr>\n",
       "      <th>250</th>\n",
       "      <td>2020-11-01</td>\n",
       "      <td>10.3</td>\n",
       "    </tr>\n",
       "    <tr>\n",
       "      <th>251</th>\n",
       "      <td>2020-12-01</td>\n",
       "      <td>9.9</td>\n",
       "    </tr>\n",
       "  </tbody>\n",
       "</table>\n",
       "<p>252 rows × 2 columns</p>\n",
       "</div>"
      ],
      "text/plain": [
       "          DATE  Unemployment Rate - Black or African American\n",
       "0   2000-01-01                                            8.2\n",
       "1   2000-02-01                                            8.1\n",
       "2   2000-03-01                                            7.4\n",
       "3   2000-04-01                                            7.0\n",
       "4   2000-05-01                                            7.7\n",
       "..         ...                                            ...\n",
       "247 2020-08-01                                           12.8\n",
       "248 2020-09-01                                           12.0\n",
       "249 2020-10-01                                           10.8\n",
       "250 2020-11-01                                           10.3\n",
       "251 2020-12-01                                            9.9\n",
       "\n",
       "[252 rows x 2 columns]"
      ]
     },
     "execution_count": 102,
     "metadata": {},
     "output_type": "execute_result"
    }
   ],
   "source": [
    "unemployment_rate_color = rename_column(unemployment_rate_color, files_list[3])\n",
    "unemployment_rate_color"
   ]
  },
  {
   "cell_type": "code",
   "execution_count": null,
   "id": "biblical-library",
   "metadata": {},
   "outputs": [],
   "source": []
  },
  {
   "cell_type": "code",
   "execution_count": 103,
   "id": "accepted-tourist",
   "metadata": {},
   "outputs": [],
   "source": [
    "unemployment_rate_white = rename_column(unemployment_rate_white, files_list[9])"
   ]
  },
  {
   "cell_type": "code",
   "execution_count": 106,
   "id": "french-workshop",
   "metadata": {},
   "outputs": [],
   "source": [
    "insured_unemployment_rate = rename_column(insured_unemployment_rate, files_list[13])\n"
   ]
  },
  {
   "cell_type": "code",
   "execution_count": 107,
   "id": "disabled-revision",
   "metadata": {},
   "outputs": [],
   "source": [
    "long_unemployed = rename_column(long_unemployed, files_list[15])"
   ]
  },
  {
   "cell_type": "code",
   "execution_count": 110,
   "id": "royal-speed",
   "metadata": {},
   "outputs": [],
   "source": [
    "emratio = rename_column(emratio, files_list[16])"
   ]
  },
  {
   "cell_type": "code",
   "execution_count": 111,
   "id": "attractive-simon",
   "metadata": {},
   "outputs": [
    {
     "data": {
      "text/plain": [
       "('Personal Income.csv', 'Real Personal Income.csv')"
      ]
     },
     "execution_count": 111,
     "metadata": {},
     "output_type": "execute_result"
    }
   ],
   "source": [
    "files_list[5], files_list[12]"
   ]
  },
  {
   "cell_type": "code",
   "execution_count": 112,
   "id": "critical-gender",
   "metadata": {},
   "outputs": [],
   "source": [
    "personal_income = rename_column(personal_income, files_list[5])\n",
    "real_personal_income = rename_column(real_personal_income, files_list[12])"
   ]
  },
  {
   "cell_type": "code",
   "execution_count": 113,
   "id": "particular-fraud",
   "metadata": {},
   "outputs": [],
   "source": [
    "job_openings = rename_column(job_openings, files_list[7])"
   ]
  },
  {
   "cell_type": "code",
   "execution_count": 129,
   "id": "adjusted-satellite",
   "metadata": {},
   "outputs": [],
   "source": [
    "merged_Df = unemployment_rate.merge(unemployment_rate_color, how=\"outer\", on=\"DATE\")"
   ]
  },
  {
   "cell_type": "code",
   "execution_count": 131,
   "id": "copyrighted-charles",
   "metadata": {},
   "outputs": [],
   "source": [
    "merged_Df = merged_Df.merge(unemployment_rate_white, how=\"outer\", on=\"DATE\")"
   ]
  },
  {
   "cell_type": "code",
   "execution_count": 133,
   "id": "numeric-renaissance",
   "metadata": {},
   "outputs": [],
   "source": [
    "merged_Df = merged_Df.merge(insured_unemployment_rate, how=\"outer\", on=\"DATE\")\n",
    "merged_Df = merged_Df.merge(long_unemployed, how=\"outer\", on=\"DATE\")"
   ]
  },
  {
   "cell_type": "code",
   "execution_count": 135,
   "id": "divine-earth",
   "metadata": {},
   "outputs": [
    {
     "data": {
      "text/plain": [
       "(252, 6)"
      ]
     },
     "execution_count": 135,
     "metadata": {},
     "output_type": "execute_result"
    }
   ],
   "source": [
    "merged_Df.shape"
   ]
  },
  {
   "cell_type": "code",
   "execution_count": 136,
   "id": "individual-christian",
   "metadata": {},
   "outputs": [],
   "source": [
    "merged_Df = merged_Df.merge(emratio, on=\"DATE\", how=\"outer\")\n",
    "merged_Df = merged_Df.merge(personal_income, on=\"DATE\", how=\"outer\")\n",
    "merged_Df = merged_Df.merge(real_personal_income, on=\"DATE\", how=\"outer\")"
   ]
  },
  {
   "cell_type": "code",
   "execution_count": 137,
   "id": "stuffed-bahamas",
   "metadata": {},
   "outputs": [
    {
     "data": {
      "text/plain": [
       "(252, 9)"
      ]
     },
     "execution_count": 137,
     "metadata": {},
     "output_type": "execute_result"
    }
   ],
   "source": [
    "merged_Df.shape"
   ]
  },
  {
   "cell_type": "code",
   "execution_count": 141,
   "id": "sufficient-invasion",
   "metadata": {},
   "outputs": [],
   "source": [
    "merged_Df = merged_Df.merge(job_openings, on=\"DATE\", how=\"outer\")\n",
    "merged_Df = merged_Df.merge(avg_hr_salary, on=\"DATE\", how=\"outer\")"
   ]
  },
  {
   "cell_type": "code",
   "execution_count": 142,
   "id": "boolean-equivalent",
   "metadata": {},
   "outputs": [
    {
     "data": {
      "text/plain": [
       "(252, 11)"
      ]
     },
     "execution_count": 142,
     "metadata": {},
     "output_type": "execute_result"
    }
   ],
   "source": [
    "merged_Df.shape"
   ]
  },
  {
   "cell_type": "code",
   "execution_count": 143,
   "id": "legitimate-consultancy",
   "metadata": {},
   "outputs": [
    {
     "data": {
      "text/plain": [
       "Index(['DATE', 'Unemployment Rate',\n",
       "       'Unemployment Rate - Black or African American',\n",
       "       'Unemployment Rate - White', 'Insured Unemployment Rate',\n",
       "       'Number Unemployed for 27 Weeks & Over', 'EMRATIO', 'Personal Income',\n",
       "       'Real Personal Income', 'Job Openings- Total Nonfarm',\n",
       "       'AverageHourlySalary-Private'],\n",
       "      dtype='object')"
      ]
     },
     "execution_count": 143,
     "metadata": {},
     "output_type": "execute_result"
    }
   ],
   "source": [
    "merged_Df.columns"
   ]
  },
  {
   "cell_type": "code",
   "execution_count": 144,
   "id": "joined-delta",
   "metadata": {},
   "outputs": [],
   "source": [
    "merged_Df.to_csv(\"../Dataset/Employment_Related.csv\")"
   ]
  },
  {
   "cell_type": "markdown",
   "id": "strategic-actress",
   "metadata": {},
   "source": [
    "Killing the kernel and reload the merged file."
   ]
  },
  {
   "cell_type": "code",
   "execution_count": 3,
   "id": "rotary-remedy",
   "metadata": {},
   "outputs": [],
   "source": [
    "import numpy as np\n",
    "import pandas as pd\n",
    "import matplotlib as plt\n",
    "import os"
   ]
  },
  {
   "cell_type": "markdown",
   "id": "latest-australian",
   "metadata": {},
   "source": [
    "### Remaining datatables and merging all the different datasets old and new"
   ]
  },
  {
   "cell_type": "code",
   "execution_count": 30,
   "id": "unable-aquarium",
   "metadata": {},
   "outputs": [],
   "source": [
    "path = \"../Dataset/Employment_Related.csv\""
   ]
  },
  {
   "cell_type": "code",
   "execution_count": 31,
   "id": "liberal-knitting",
   "metadata": {},
   "outputs": [],
   "source": [
    "df = pd.read_csv(path, parse_dates=[0])"
   ]
  },
  {
   "cell_type": "code",
   "execution_count": 16,
   "id": "behavioral-norfolk",
   "metadata": {},
   "outputs": [
    {
     "data": {
      "text/plain": [
       "11"
      ]
     },
     "execution_count": 16,
     "metadata": {},
     "output_type": "execute_result"
    }
   ],
   "source": [
    "len(df.columns)"
   ]
  },
  {
   "cell_type": "code",
   "execution_count": 38,
   "id": "becoming-mattress",
   "metadata": {},
   "outputs": [],
   "source": [
    "dataset = pd.read_csv(\"Dataset.csv\", parse_dates=[0])"
   ]
  },
  {
   "cell_type": "code",
   "execution_count": 39,
   "id": "stuffed-cabinet",
   "metadata": {},
   "outputs": [
    {
     "data": {
      "text/plain": [
       "Index(['DATE', 'MORTGAGE15US_Monthly Change', 'MORTGAGE30US_Monthly Change',\n",
       "       'MORTGAGE5US_Monthly Change', 'Rent Index Mon_Chg', 'NASDAQCOM Mon_Chg',\n",
       "       'WILL5000 Per_Mon_Chg', 'House Completed', 'House Under Construction',\n",
       "       '5yr_Maturity Per_Mon_Chg', '10yr_Maturity Per_Mon_Chg',\n",
       "       '30yr_Maturity Per_Mon_Chg', 'CPI Mon_Chg',\n",
       "       'House Index Monthly Change', 'Year', 'Month'],\n",
       "      dtype='object')"
      ]
     },
     "execution_count": 39,
     "metadata": {},
     "output_type": "execute_result"
    }
   ],
   "source": [
    "dataset.columns"
   ]
  },
  {
   "cell_type": "code",
   "execution_count": 20,
   "id": "permanent-amplifier",
   "metadata": {},
   "outputs": [
    {
     "data": {
      "text/plain": [
       "(252, 16)"
      ]
     },
     "execution_count": 20,
     "metadata": {},
     "output_type": "execute_result"
    }
   ],
   "source": [
    "dataset.shape"
   ]
  },
  {
   "cell_type": "code",
   "execution_count": 21,
   "id": "known-illustration",
   "metadata": {},
   "outputs": [
    {
     "data": {
      "text/plain": [
       "(252, 11)"
      ]
     },
     "execution_count": 21,
     "metadata": {},
     "output_type": "execute_result"
    }
   ],
   "source": [
    "df.shape"
   ]
  },
  {
   "cell_type": "code",
   "execution_count": 2,
   "id": "limiting-escape",
   "metadata": {},
   "outputs": [],
   "source": [
    "files_path = \"../Raw Data/New Data/\""
   ]
  },
  {
   "cell_type": "code",
   "execution_count": 5,
   "id": "accomplished-disposal",
   "metadata": {},
   "outputs": [],
   "source": [
    "files = os.listdir(files_path)"
   ]
  },
  {
   "cell_type": "code",
   "execution_count": 6,
   "id": "plain-conditioning",
   "metadata": {},
   "outputs": [
    {
     "name": "stdout",
     "output_type": "stream",
     "text": [
      "0 Median Sales Price for New Houses Sold.csv\n",
      "1 .DS_Store\n",
      "2 Real Private Residential Fixed Investment.csv\n",
      "3 Unemployment Rate - Black or African American.csv\n",
      "4 Total Construction Spending- Residential.csv\n",
      "5 Personal Income.csv\n",
      "6 AverageHourlySalary-Private.csv\n",
      "7 Job Openings- Total Nonfarm.csv\n",
      "8 Unemployment Rate.csv\n",
      "9 Unemployment Rate - White.csv\n",
      "10 Monthly Supply of Houses in the United States.csv\n",
      "11 Homeownership Rate for the United States.csv\n",
      "12 Real Personal Income.csv\n",
      "13 Insured Unemployment Rate.csv\n",
      "14 Median Sales Price for New Houses Sold in the United States.csv\n",
      "15 Number Unemployed for 27 Weeks & Over.csv\n",
      "16 EMRATIO.csv\n"
     ]
    }
   ],
   "source": [
    "for idx, file in enumerate(files):\n",
    "    print(idx, file)"
   ]
  },
  {
   "cell_type": "code",
   "execution_count": 10,
   "id": "framed-partition",
   "metadata": {},
   "outputs": [],
   "source": [
    "new_house_median_price = pd.read_csv(f\"{files_path}/{files[0]}\", parse_dates=[0])\n",
    "pvt_resd_inv = pd.read_csv(f\"{files_path}/{files[2]}\", parse_dates=[0])\n",
    "cons_spend_resd = pd.read_csv(f\"{files_path}/{files[4]}\", parse_dates=[0])\n",
    "month_supply = pd.read_csv(f\"{files_path}/{files[10]}\", parse_dates= [0])\n",
    "ownership_rate = pd.read_csv(f\"{files_path}/{files[11]}\", parse_dates=[0])\n"
   ]
  },
  {
   "cell_type": "code",
   "execution_count": 12,
   "id": "antique-elizabeth",
   "metadata": {},
   "outputs": [],
   "source": [
    "def check_df(df):\n",
    "    print(df.shape)\n",
    "    print(df.columns)\n",
    "    print(df[\"DATE\"].max(), df[\"DATE\"].min())"
   ]
  },
  {
   "cell_type": "code",
   "execution_count": 14,
   "id": "solar-yesterday",
   "metadata": {},
   "outputs": [
    {
     "name": "stdout",
     "output_type": "stream",
     "text": [
      "(252, 2)\n",
      "Index(['DATE', 'MSPNHSUS'], dtype='object')\n",
      "2020-12-01 00:00:00 2000-01-01 00:00:00\n"
     ]
    }
   ],
   "source": [
    "check_df(new_house_median_price)"
   ]
  },
  {
   "cell_type": "code",
   "execution_count": 15,
   "id": "quiet-viking",
   "metadata": {},
   "outputs": [
    {
     "name": "stdout",
     "output_type": "stream",
     "text": [
      "(76, 2)\n",
      "Index(['DATE', 'PRFIC1'], dtype='object')\n",
      "2020-10-01 00:00:00 2002-01-01 00:00:00\n"
     ]
    }
   ],
   "source": [
    "check_df(pvt_resd_inv)"
   ]
  },
  {
   "cell_type": "markdown",
   "id": "speaking-discount",
   "metadata": {},
   "source": [
    "Real Private Residential Fixed Investment `pvt_resd_inv` is quaterly data, starting from 2002. Either we will be dropping this or imputing. "
   ]
  },
  {
   "cell_type": "code",
   "execution_count": 16,
   "id": "positive-coaching",
   "metadata": {},
   "outputs": [
    {
     "name": "stdout",
     "output_type": "stream",
     "text": [
      "(228, 2)\n",
      "Index(['DATE', 'TLRESCONS'], dtype='object')\n",
      "2020-12-01 00:00:00 2002-01-01 00:00:00\n"
     ]
    }
   ],
   "source": [
    "check_df(cons_spend_resd)"
   ]
  },
  {
   "cell_type": "markdown",
   "id": "overall-wings",
   "metadata": {},
   "source": [
    "Total Construction Spending- Residential has only 228 rows, starting from 2002. Again missing values need imputation."
   ]
  },
  {
   "cell_type": "code",
   "execution_count": 17,
   "id": "closed-helmet",
   "metadata": {},
   "outputs": [
    {
     "name": "stdout",
     "output_type": "stream",
     "text": [
      "(252, 2)\n",
      "Index(['DATE', 'MSACSR'], dtype='object')\n",
      "2020-12-01 00:00:00 2000-01-01 00:00:00\n"
     ]
    }
   ],
   "source": [
    "check_df(month_supply)"
   ]
  },
  {
   "cell_type": "code",
   "execution_count": 18,
   "id": "earned-monitoring",
   "metadata": {},
   "outputs": [
    {
     "name": "stdout",
     "output_type": "stream",
     "text": [
      "(84, 2)\n",
      "Index(['DATE', 'RSAHORUSQ156S'], dtype='object')\n",
      "2020-10-01 00:00:00 2000-01-01 00:00:00\n"
     ]
    }
   ],
   "source": [
    "check_df(ownership_rate)"
   ]
  },
  {
   "cell_type": "markdown",
   "id": "lovely-plain",
   "metadata": {},
   "source": [
    "Ownership Rate is also quaterly data. "
   ]
  },
  {
   "cell_type": "markdown",
   "id": "boolean-football",
   "metadata": {},
   "source": [
    "### Renaming the column before merging them into a common dataframe."
   ]
  },
  {
   "cell_type": "code",
   "execution_count": 19,
   "id": "fatty-mentor",
   "metadata": {},
   "outputs": [],
   "source": [
    "def rename_column(df, name):\n",
    "    return df.rename(columns={df.columns[1]:name[:-4]})"
   ]
  },
  {
   "cell_type": "code",
   "execution_count": 21,
   "id": "offshore-voltage",
   "metadata": {},
   "outputs": [],
   "source": [
    "new_house_median_price = rename_column(new_house_median_price, files[0])\n",
    "pvt_resd_inv = rename_column(pvt_resd_inv, files[2])\n",
    "cons_spend_resd = rename_column(cons_spend_resd, files[4])\n",
    "month_supply = rename_column(month_supply, files[10])\n",
    "ownership_rate = rename_column(ownership_rate, files[11])"
   ]
  },
  {
   "cell_type": "code",
   "execution_count": null,
   "id": "vietnamese-genre",
   "metadata": {},
   "outputs": [],
   "source": []
  },
  {
   "cell_type": "code",
   "execution_count": 25,
   "id": "political-reply",
   "metadata": {},
   "outputs": [],
   "source": [
    "ownership_cons_df = new_house_median_price.merge(pvt_resd_inv, on=\"DATE\", how=\"outer\").merge(cons_spend_resd, on=\"DATE\", how=\"outer\")"
   ]
  },
  {
   "cell_type": "code",
   "execution_count": null,
   "id": "developing-compact",
   "metadata": {},
   "outputs": [],
   "source": []
  },
  {
   "cell_type": "code",
   "execution_count": 27,
   "id": "exempt-guess",
   "metadata": {},
   "outputs": [],
   "source": [
    "ownership_cons_df = ownership_cons_df.merge(month_supply, on=\"DATE\", how=\"outer\")\n",
    "ownership_cons_df = ownership_cons_df.merge(ownership_rate, on=\"DATE\", how=\"outer\")"
   ]
  },
  {
   "cell_type": "code",
   "execution_count": 28,
   "id": "concerned-medicaid",
   "metadata": {},
   "outputs": [
    {
     "data": {
      "text/plain": [
       "Index(['DATE', 'Median Sales Price for New Houses Sold',\n",
       "       'Real Private Residential Fixed Investment',\n",
       "       'Total Construction Spending- Residential',\n",
       "       'Monthly Supply of Houses in the United States',\n",
       "       'Homeownership Rate for the United States'],\n",
       "      dtype='object')"
      ]
     },
     "execution_count": 28,
     "metadata": {},
     "output_type": "execute_result"
    }
   ],
   "source": [
    "ownership_cons_df.columns"
   ]
  },
  {
   "cell_type": "code",
   "execution_count": 29,
   "id": "spectacular-oriental",
   "metadata": {},
   "outputs": [],
   "source": [
    "ownership_cons_df.to_csv(\"../Dataset/Ownership_Construction.csv\", index=False)"
   ]
  },
  {
   "cell_type": "code",
   "execution_count": 32,
   "id": "local-mandate",
   "metadata": {},
   "outputs": [
    {
     "data": {
      "text/plain": [
       "Index(['DATE', 'Unemployment Rate',\n",
       "       'Unemployment Rate - Black or African American',\n",
       "       'Unemployment Rate - White', 'Insured Unemployment Rate',\n",
       "       'Number Unemployed for 27 Weeks & Over', 'EMRATIO', 'Personal Income',\n",
       "       'Real Personal Income', 'Job Openings- Total Nonfarm',\n",
       "       'AverageHourlySalary-Private'],\n",
       "      dtype='object')"
      ]
     },
     "execution_count": 32,
     "metadata": {},
     "output_type": "execute_result"
    }
   ],
   "source": [
    "df.columns"
   ]
  },
  {
   "cell_type": "code",
   "execution_count": 33,
   "id": "dimensional-exclusion",
   "metadata": {},
   "outputs": [],
   "source": [
    "merged_df = df.merge(ownership_cons_df, on=\"DATE\", how=\"outer\")"
   ]
  },
  {
   "cell_type": "code",
   "execution_count": 40,
   "id": "available-boutique",
   "metadata": {},
   "outputs": [],
   "source": [
    "merged_df = dataset.merge(merged_df, on=\"DATE\", how=\"outer\")"
   ]
  },
  {
   "cell_type": "code",
   "execution_count": 43,
   "id": "frozen-support",
   "metadata": {},
   "outputs": [
    {
     "data": {
      "text/plain": [
       "Index(['DATE', 'MORTGAGE15US_Monthly Change', 'MORTGAGE30US_Monthly Change',\n",
       "       'MORTGAGE5US_Monthly Change', 'Rent Index Mon_Chg', 'NASDAQCOM Mon_Chg',\n",
       "       'WILL5000 Per_Mon_Chg', 'House Completed', 'House Under Construction',\n",
       "       '5yr_Maturity Per_Mon_Chg', '10yr_Maturity Per_Mon_Chg',\n",
       "       '30yr_Maturity Per_Mon_Chg', 'CPI Mon_Chg',\n",
       "       'House Index Monthly Change', 'Year', 'Month', 'Unemployment Rate',\n",
       "       'Unemployment Rate - Black or African American',\n",
       "       'Unemployment Rate - White', 'Insured Unemployment Rate',\n",
       "       'Number Unemployed for 27 Weeks & Over', 'EMRATIO', 'Personal Income',\n",
       "       'Real Personal Income', 'Job Openings- Total Nonfarm',\n",
       "       'AverageHourlySalary-Private', 'Median Sales Price for New Houses Sold',\n",
       "       'Real Private Residential Fixed Investment',\n",
       "       'Total Construction Spending- Residential',\n",
       "       'Monthly Supply of Houses in the United States',\n",
       "       'Homeownership Rate for the United States'],\n",
       "      dtype='object')"
      ]
     },
     "execution_count": 43,
     "metadata": {},
     "output_type": "execute_result"
    }
   ],
   "source": [
    "merged_df.columns"
   ]
  },
  {
   "cell_type": "code",
   "execution_count": 44,
   "id": "absolute-massage",
   "metadata": {},
   "outputs": [],
   "source": [
    "merged_df.to_csv(\"../Dataset/Final_Dataset.csv\", index=False)"
   ]
  }
 ],
 "metadata": {
  "kernelspec": {
   "display_name": "Python 3",
   "language": "python",
   "name": "python3"
  },
  "language_info": {
   "codemirror_mode": {
    "name": "ipython",
    "version": 3
   },
   "file_extension": ".py",
   "mimetype": "text/x-python",
   "name": "python",
   "nbconvert_exporter": "python",
   "pygments_lexer": "ipython3",
   "version": "3.9.1"
  }
 },
 "nbformat": 4,
 "nbformat_minor": 5
}
